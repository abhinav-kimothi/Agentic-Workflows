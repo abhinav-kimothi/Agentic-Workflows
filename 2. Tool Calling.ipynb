{
 "cells": [
  {
   "cell_type": "markdown",
   "id": "827b068f",
   "metadata": {},
   "source": [
    "<img src=\"./Assets/1.1 AgWorkHeaderImage.png\">"
   ]
  },
  {
   "cell_type": "markdown",
   "id": "dd1ccd39",
   "metadata": {},
   "source": [
    "## Tool Use\n",
    "\n",
    "It combines MEMORY, REASONING, PLANNING, and __ACTIONS (often via EXTERNAL TOOLS)__ to fulfil TASKS.\n",
    "\n",
    "Tools are methods that help LLMs accomplish actions that require interaction with entities outside of the model.\n",
    "\n",
    "<img src=\"./Assets/2.1 Tool Use Single.png\">"
   ]
  },
  {
   "cell_type": "markdown",
   "id": "137b408b",
   "metadata": {},
   "source": [
    "---"
   ]
  },
  {
   "cell_type": "markdown",
   "id": "694b9055",
   "metadata": {},
   "source": [
    "#### Load all Keys etc."
   ]
  },
  {
   "cell_type": "code",
   "execution_count": 1,
   "id": "90dd3d20",
   "metadata": {},
   "outputs": [
    {
     "data": {
      "text/plain": [
       "True"
      ]
     },
     "execution_count": 1,
     "metadata": {},
     "output_type": "execute_result"
    }
   ],
   "source": [
    "from dotenv import load_dotenv\n",
    "import os\n",
    "\n",
    "load_dotenv()"
   ]
  },
  {
   "cell_type": "markdown",
   "id": "20c324ee",
   "metadata": {},
   "source": [
    "## Simple Tool Calling using a CrewAI Agent\n",
    "\n",
    "<img src=\"./Assets/2.3 Crewai logo.png\"><img src=\"./Assets/2.2 CrewAI.png\">"
   ]
  },
  {
   "cell_type": "code",
   "execution_count": 2,
   "id": "c405d0b4",
   "metadata": {},
   "outputs": [],
   "source": [
    "from crewai import LLM\n",
    "llm = LLM(\n",
    "    model=\"gpt-4o-mini\",\n",
    "    temperature=0.8,\n",
    "    max_tokens=150,\n",
    "    top_p=0.9,\n",
    "    frequency_penalty=0.1,\n",
    "    presence_penalty=0.1,\n",
    "    stop=[\"END\"],\n",
    "    seed=42\n",
    ")"
   ]
  },
  {
   "cell_type": "markdown",
   "id": "a876f5eb",
   "metadata": {},
   "source": [
    "### Agent: Role, Goal & BackStory"
   ]
  },
  {
   "cell_type": "code",
   "execution_count": 3,
   "id": "5edc89ba",
   "metadata": {},
   "outputs": [],
   "source": [
    "from crewai import Agent\n",
    "from crewai_tools import SerperDevTool\n",
    "\n",
    "Query_Responder=Agent(\n",
    "    role=\"AI Web Search Assistant\",\n",
    "    goal=f\"Help users by either answering their queries directly using built-in knowledge or performing a live web search using\" \n",
    "    \"the Google Serper API when up-to-date or external information is required.\",\n",
    "    backstory=f\"You were built to bridge the gap between real-time information and artificial intelligence. \"\n",
    "                \"Equipped with access to the web through the Serper API, you excel at retrieving the most recent, relevant data when needed. \" \n",
    "                \"But you also know when to keep things simple — using your own understanding to answer straightforward questions without delay.\"  \n",
    "                \"You’re the perfect blend of real-time access and inherent intelligence.\",\n",
    "    tools=[SerperDevTool()],\n",
    "    verbose=True,\n",
    "    llm=llm\n",
    ")\n"
   ]
  },
  {
   "cell_type": "code",
   "execution_count": 4,
   "id": "08274352",
   "metadata": {},
   "outputs": [],
   "source": [
    "from crewai import Task\n",
    "\n",
    "handle_user_query= Task(\n",
    "    description=(\n",
    "        \"Receive and respond to a user's question - {user_input} \"\n",
    "        \"If the query is simple or general knowledge (e.g., definitions, common facts), \"\n",
    "        \"answer using your own knowledge. \"\n",
    "        \"If the query appears to require current or web-based information \"\n",
    "        \"(e.g., news, trending topics, recent data), \"\n",
    "        \"perform a web search using the Serper API tool to gather relevant information first. \"\n",
    "        \"Ensure your response is concise, helpful, and clearly indicates whether it was based on a search or internal understanding.\"\n",
    "    ),\n",
    "    expected_output=(\n",
    "        \"A final answer to the user's question, either using internal knowledge or based on live search results. \"\n",
    "        \"If using search, summarize the result clearly and include key information retrieved. \"\n",
    "        \"Indicate whether the result was from the web or internal knowledge.\"\n",
    "        \"Always end your answer by saying which source you used: [LLM] or [Web Search]\"\n",
    "    ),\n",
    "    agent=Query_Responder\n",
    ")"
   ]
  },
  {
   "cell_type": "code",
   "execution_count": 5,
   "id": "e36c6351",
   "metadata": {},
   "outputs": [],
   "source": [
    "from crewai import Crew, Process\n",
    "\n",
    "crew = Crew(\n",
    "    agents=[Query_Responder],\n",
    "    tasks=[handle_user_query],\n",
    "    process=Process.sequential\n",
    ")\n"
   ]
  },
  {
   "cell_type": "code",
   "execution_count": 8,
   "id": "f25bf7a2",
   "metadata": {},
   "outputs": [
    {
     "name": "stdout",
     "output_type": "stream",
     "text": [
      "\u001b[1m\u001b[95m# Agent:\u001b[00m \u001b[1m\u001b[92mAI Web Search Assistant\u001b[00m\n",
      "\u001b[95m## Task:\u001b[00m \u001b[92mReceive and respond to a user's question - Who won the first t20 world cup? If the query is simple or general knowledge (e.g., definitions, common facts), answer using your own knowledge. If the query appears to require current or web-based information (e.g., news, trending topics, recent data), perform a web search using the Serper API tool to gather relevant information first. Ensure your response is concise, helpful, and clearly indicates whether it was based on a search or internal understanding.\u001b[00m\n",
      "\n",
      "\n",
      "\u001b[1m\u001b[95m# Agent:\u001b[00m \u001b[1m\u001b[92mAI Web Search Assistant\u001b[00m\n",
      "\u001b[95m## Final Answer:\u001b[00m \u001b[92m\n",
      "The first T20 World Cup was won by India in 2007. They defeated Pakistan in the final held at the Wanderers Stadium in Johannesburg, South Africa. [LLM]\u001b[00m\n",
      "\n",
      "\n"
     ]
    }
   ],
   "source": [
    "result = crew.kickoff(inputs={\"user_input\": \"Who won the first t20 world cup?\"})"
   ]
  },
  {
   "cell_type": "code",
   "execution_count": 10,
   "id": "9659e4ce",
   "metadata": {},
   "outputs": [
    {
     "data": {
      "text/markdown": [
       "### The first T20 World Cup was won by India in 2007. They defeated Pakistan in the final held at the Wanderers Stadium in Johannesburg, South Africa. [LLM]"
      ],
      "text/plain": [
       "<IPython.core.display.Markdown object>"
      ]
     },
     "metadata": {},
     "output_type": "display_data"
    }
   ],
   "source": [
    "from IPython.display import Markdown, display\n",
    "display(Markdown(\"### \"+result.raw))"
   ]
  },
  {
   "cell_type": "code",
   "execution_count": 12,
   "id": "ed6c6899",
   "metadata": {},
   "outputs": [
    {
     "data": {
      "text/plain": [
       "UsageMetrics(total_tokens=5949, prompt_tokens=5745, cached_prompt_tokens=0, completion_tokens=204, successful_requests=3)"
      ]
     },
     "execution_count": 12,
     "metadata": {},
     "output_type": "execute_result"
    }
   ],
   "source": [
    "result.token_usage"
   ]
  },
  {
   "cell_type": "markdown",
   "id": "48adc5d0",
   "metadata": {},
   "source": [
    "---"
   ]
  },
  {
   "cell_type": "markdown",
   "id": "e7d885f5",
   "metadata": {},
   "source": [
    "## AtraDB Vector Search"
   ]
  },
  {
   "cell_type": "code",
   "execution_count": 13,
   "id": "9cad6028",
   "metadata": {},
   "outputs": [],
   "source": [
    "Token=os.environ[\"ASTRA_TOKEN\"]\n",
    "EndPoint=os.environ[\"ASTRA_ENDPOINT\"]"
   ]
  },
  {
   "cell_type": "code",
   "execution_count": 14,
   "id": "a106eac9",
   "metadata": {},
   "outputs": [
    {
     "name": "stdout",
     "output_type": "stream",
     "text": [
      "Connected to Astra DB: ['CollectionSmallEmbeddings']\n"
     ]
    }
   ],
   "source": [
    "from astrapy import DataAPIClient\n",
    "\n",
    "# Initialize the client\n",
    "client = DataAPIClient(Token)\n",
    "db = client.get_database_by_api_endpoint(\n",
    "  EndPoint\n",
    ")\n",
    "\n",
    "print(f\"Connected to Astra DB: {db.list_collection_names()}\")"
   ]
  },
  {
   "cell_type": "code",
   "execution_count": 15,
   "id": "cf0fa22e",
   "metadata": {},
   "outputs": [],
   "source": [
    "collection = db.get_collection(\"CollectionSmallEmbeddings\")"
   ]
  },
  {
   "cell_type": "code",
   "execution_count": 16,
   "id": "b7a87933",
   "metadata": {},
   "outputs": [],
   "source": [
    "query=\"How many days of paternity leave can be availed?\""
   ]
  },
  {
   "cell_type": "code",
   "execution_count": 17,
   "id": "c79f3f55",
   "metadata": {},
   "outputs": [],
   "source": [
    "from openai import OpenAI\n",
    "client = OpenAI()\n",
    "\n",
    "query_embedding=client.embeddings.create(\n",
    "  model=\"text-embedding-3-small\",\n",
    "  input=query,\n",
    "  encoding_format=\"float\"\n",
    ")\n"
   ]
  },
  {
   "cell_type": "code",
   "execution_count": 19,
   "id": "af4c2caf",
   "metadata": {},
   "outputs": [
    {
     "data": {
      "text/plain": [
       "CreateEmbeddingResponse(data=[Embedding(embedding=[0.0061244234, 0.039553322, 0.08681062, 0.02719878, -0.0028977976, -0.006576562, 0.022160664, -0.006147911, 0.0024060234, -0.007439736, 0.04866656, -0.031896327, 0.008925334, -0.06764463, 0.011655781, 0.009817868, 0.013881243, -0.03485578, -0.028067827, 0.09512527, 0.0012132876, 0.041173976, -0.0232411, 0.00524657, 0.019459577, 0.0052788653, -0.04843168, -0.042512774, 0.03229562, -0.010704529, 0.048713535, -0.014750289, -0.03163796, -0.0027348516, -0.0070932917, -0.0050087566, 0.010598834, 0.012847783, 0.012154896, 0.007850771, 0.002354644, -0.014257046, 0.037368964, -0.04885446, -0.04183163, 0.039482858, -0.007850771, 0.09399786, 0.04955909, -0.0015545936, 0.01849658, 0.00016946024, -0.062947094, 0.011062717, 0.04042237, -0.0133057935, 0.025014423, 0.034151148, 0.01603037, -0.08850174, -0.018402629, -0.0036905082, 0.0015281698, -0.04979397, -0.013892987, 0.017439634, -0.060034614, 0.057357013, -0.031919815, -0.04770356, 0.041197464, 0.038660787, -0.0030915714, -0.026752515, -0.011685141, 0.020328622, 0.03534902, -0.03884869, 0.0066294093, -0.028349679, 0.057967696, 0.04030493, 0.03206074, 0.0010870411, -0.013587646, 0.018461348, -0.024967447, -0.020363854, -0.0317554, -0.01891936, 0.025742542, -0.00034919634, -0.042724166, -0.041361876, 0.05524312, -0.042794626, 0.027856437, -0.014315766, -0.027363194, 0.01210792, 0.013012198, -0.05162601, -0.036124114, 0.035795286, -0.001344672, -0.0013211843, -0.039294958, 0.026658563, 0.031802375, -0.0067879516, -0.012812552, -0.040164, -0.018461348, 0.03898962, -0.018907616, 0.009665197, 0.0057867873, -0.0015898251, 0.03473834, -0.018414373, -0.017181268, -0.02065745, 0.0010459375, -0.03967076, 0.02226636, 0.009524271, -0.020175952, -0.024756057, -0.010845455, -0.022583444, -0.005992305, 0.009982281, 0.035818774, 0.033446513, -0.018672738, -0.00088592747, 0.028255729, 0.0115677025, -0.040939096, -0.03525507, -0.008250062, 0.026141834, 0.0020155401, 0.00025763095, -0.012201871, 0.023628647, 0.027668536, 0.01314138, 0.0013505439, 0.020469548, -0.062712215, 0.02071617, 0.0264002, 0.022583444, 0.0132823065, 0.005472639, -0.015912931, 0.021890556, -0.0069523654, 0.013834268, -0.037157577, -0.019800149, -0.00854953, 0.021925788, 0.009418576, 0.036194578, -0.009518399, 0.009265906, -0.05026372, 0.006805567, 0.0022489494, -0.025789518, -0.007821411, -0.00404576, 0.040680733, 0.00086243975, 0.06614142, -0.014421461, 0.0076100216, -0.049606066, 0.006740976, 0.027738998, -0.022548212, 0.0020771953, -0.012331054, -0.025883468, 0.0076217656, -0.012448492, -0.024826521, 0.056558434, 0.051579036, -0.08103264, 0.004315869, -0.024403742, -0.007016957, -0.048290756, 0.0030211082, -0.03163796, 0.013059173, -0.08610599, -0.052283667, -0.0017146036, 0.00023781318, 0.0019127813, 0.0035378379, 0.01509086, -0.006282965, -0.02251298, 0.0028919256, -0.026094858, 0.0061948863, 0.011279978, -0.015407945, 0.016194783, -0.013188356, -0.011796708, -0.055571947, 0.01916598, -0.03419812, -0.029735455, 0.01731045, -0.049512114, -0.01870797, 0.024192352, 0.02433328, 0.0073751444, -0.05026372, 0.02327633, -0.01901331, -0.03187284, -0.03227213, 0.00906626, -0.008390988, -0.010792607, 0.0073634004, 0.0030710194, 0.008884231, -0.031262156, -0.007815539, -0.025108375, -0.0070815478, 0.02129162, -0.048196804, -0.0018202984, 0.0031062511, -0.0025014423, -0.0106810415, -0.0071754986, 0.009136723, -0.03339954, 0.008285293, -0.057591893, 0.015548871, -0.004392204, -0.042888578, 0.019753173, -0.030534036, 0.028185265, 0.05707516, -0.005660541, 0.026447173, 0.0039958484, -0.025578128, -0.0583435, 0.009442064, 0.013587646, 0.006793823, -0.0073986324, 0.015349226, -0.036852233, 0.0070991637, 0.0029286253, 0.00790949, 0.07816713, 0.0064415075, 0.02503791, -0.019212956, -0.053598978, -0.030040795, 0.027128318, -0.04843168, 0.024356768, -0.029923357, -0.027504122, 0.013611134, 0.018449605, 0.028819434, 0.037251525, 0.023887012, 0.01210792, -0.016441405, 0.030651476, 0.049934894, -0.019764917, 0.020575244, -0.0076922285, -0.018320423, 0.029524066, -0.005114451, 0.04784449, -0.037368964, -0.0076217656, 0.01365811, -0.030275673, 0.018907616, 0.006717488, 0.041620243, 0.0019069094, 0.002266565, -0.010422676, -0.0032236897, -0.03227213, -0.0692418, -0.02917175, -0.012542443, -0.013834268, -0.00742212, -0.030111259, -0.024474205, -0.010140823, 0.011878915, -0.0073046815, -0.02236031, 0.005469703, -0.03401022, 0.0178859, -0.012131408, -0.04356972, 0.012143152, -0.032812346, -0.047045905, -0.008379244, 0.020175952, -0.0063651726, 0.0063593006, 0.007157883, 0.057122137, -0.0053698802, 0.03753338, -0.001098785, -0.04472062, -0.009700429, -0.042536262, 0.002781827, 0.0023032646, 0.0026012652, -0.007991697, 0.034973215, 0.011097948, 0.050122797, -0.03617109, -0.011761476, -0.02014072, 0.011814323, -0.030416599, -0.016265247, 0.07032224, -0.07952943, -0.05608868, -0.013681597, -0.012295822, 0.010598834, 0.030228697, 0.037674304, -0.047774024, 0.02327633, -0.058155596, -0.02546069, -0.005440343, 0.028114801, -0.045401763, -0.0005655403, 0.02607137, 0.017909387, -0.05153206, -0.04171419, -0.02989987, 0.0058161467, 0.02947709, 0.01731045, -0.005745684, 0.016758488, -0.030111259, 0.022407286, 0.016735, 0.011702757, -0.045472227, -0.002949177, 0.029711967, -0.014362741, -0.012049201, -0.0036905082, 0.044368304, 0.007656997, -0.059705786, -0.064638205, 0.006306453, 0.0052583134, -0.01095115, -0.042700678, 0.023722598, -0.034973215, 0.026564613, -0.08070381, 0.028490605, -0.0059423936, -0.025906956, 0.008866615, -0.013223587, 0.008297037, -0.03800313, -0.052424595, 0.025789518, 0.013047429, 0.0558538, 0.004042824, -0.008373372, 0.043969013, -0.0008690457, -0.038355447, 0.002275373, 0.0371106, 0.02710483, -0.006147911, -0.018696226, 0.031802375, 0.0077861794, 0.028561069, 0.010910046, -0.018790176, 0.039107054, 0.027433658, 0.037744768, 0.057779793, -0.014210071, 0.06445031, 0.011961122, 0.03917752, -0.0583435, 0.0048590223, 0.04885446, 0.026963905, 0.043851577, -0.039294958, -0.025836494, -0.006159655, 0.015701542, 0.02628276, -0.037063625, 0.02129162, -0.05637053, 0.043546233, 0.026094858, 0.052941322, 0.0020522396, 0.042230923, -0.014902959, 0.016594075, 0.014409717, 0.029500578, 0.052941322, -0.01992933, 0.064027525, -0.015889443, 0.05862535, -0.005211338, 0.013587646, 0.00906626, -0.071073845, 0.018379143, 0.03145006, -0.018813664, -0.02108023, 0.052518543, 0.036335506, 0.008402732, -0.044391792, -0.017838923, -0.03502019, -0.019635735, 0.030581012, -0.008590634, -0.022536468, 0.019483065, 0.009307009, 0.008743304, 0.09479644, 0.05026372, -0.012008097, -0.03471485, 0.008373372, 0.007410376, 0.00523189, -0.010898302, 0.016253503, 0.008208958, -0.014679826, 0.021268131, -0.058249548, 0.018625762, 0.022853553, -0.011890659, 0.02278309, -0.0033411284, -0.036946185, -0.055900775, 0.02719878, 0.0010576814, 0.009330497, 0.0017498352, -0.039294958, -0.006147911, 0.0077098445, -0.019271675, -0.03300025, 0.011338698, -0.031825863, -0.0075278147, -0.039318446, 0.00909562, -0.034949727, -0.017263476, -0.014726801, -0.023053199, 0.0074573513, -0.064262405, -0.020516524, -0.03459741, -0.0012103516, 0.025625104, 0.02071617, -0.019248188, -0.05181391, 0.0032324977, -0.024262816, -0.039905638, 0.027363194, 0.032507006, 0.006817311, 0.005578334, -0.0071872426, -0.03626504, -0.014855984, -0.02454467, 0.023111917, -0.005648797, 0.059001155, 0.07525466, -0.018978078, 0.02442723, 0.03133262, 0.02454467, -0.012084433, -0.017651021, -0.020175952, 0.011479624, 0.010199543, -0.010170183, 0.01162055, 0.0014011894, 0.0052759293, 0.023205869, 0.021162437, -0.008514299, 0.009072132, 0.04389855, -0.016652795, -0.04793844, -0.01128585, 0.03525507, -0.02029339, 0.039130542, -0.0071109077, -0.0068760305, 0.0399761, -0.016124321, -0.004891318, -0.033117685, 1.3521496e-05, -0.038097084, -0.002878714, 0.042207435, 0.012060945, -0.042912066, 0.010933534, 0.017592303, 0.028396655, -0.005469703, -0.012695113, -0.023323307, -0.0089957975, 0.011003997, 0.026611587, 0.011191899, -0.008085648, -0.022137176, -0.015396201, 0.03985866, -0.0098472275, -0.00754543, -0.020528268, 0.0077861794, 0.0115677025, -0.010299366, 0.010798479, -0.050310697, -0.008725689, 0.012260591, -0.030627988, -0.030017307, -0.0073927604, 0.015736774, -0.053223174, -0.027433658, 0.009682813, 0.027668536, 0.007932978, 0.030228697, 0.010510755, 0.02278309, 0.054914292, -0.017404402, 0.015548871, 0.03833196, 0.013082661, 0.019811893, -0.009312881, -0.015595847, 0.0021696782, 0.04124444, 0.00063820544, 0.01593642, -0.025225813, 0.015407945, -0.039929125, -0.020234672, 0.0062477337, 0.03339954, 0.02804434, 0.0055019986, -0.007833155, 0.02268914, -0.018062057, -0.016453149, 0.0742212, -0.004903062, -0.003775651, -0.0081795985, 0.04852563, -0.0007042646, -0.005760364, 0.0025557578, 0.022806577, -0.009929434, 0.010927662, -0.01880192, 0.009171955, 0.011033357, -0.010140823, 0.0070932917, 0.00927765, -0.020011539, 0.04070422, -0.035114143, 0.026846465, -0.001856998, 0.027997363, 0.00013606364, 0.0317554, 0.0009512527, -0.00084702595, 0.02534325, -0.0141513515, -0.033822317, -0.0033822318, -0.035395995, -0.0054197917, 0.009659326, 0.034433, 0.016840696, 0.022430774, 0.0044421153, -6.633446e-05, 0.046247322, -0.036100626, 0.0017894708, 0.035842262, -0.008085648, -0.036194578, 0.01095115, -0.02865502, -0.015419689, 0.024920473, -0.007997569, -0.015137836, -0.022536468, 0.015243531, -0.022466006, 0.0054021757, -0.029030824, -0.043945525, 0.023793062, 0.0047768154, -0.033751857, 0.048901435, 0.024239328, -0.022466006, -0.024709083, 0.018097289, -0.028608045, 0.021972762, 0.0028111867, -0.015173068, -0.004721032, -0.0067585916, -0.011550087, 0.0073692724, 0.0055871415, -0.0008917994, 0.0038578582, -0.007222474, -0.019483065, 0.029148262, 0.016899416, 0.038660787, -0.0017880028, 0.009729789, -0.012213615, -0.014785521, 0.051719964, -0.00080372044, 0.016958134, 0.024145378, 0.03586575, 0.022536468, -0.02865502, -0.035067167, -0.005642925, -0.049606066, -0.0036934442, 0.011861299, -0.024779545, 0.0124250045, 0.0098413555, -0.049324214, 0.017416146, 0.014491924, 0.029805917, 0.0051995944, -0.045613155, 0.04058678, 0.0071754986, -0.0090016695, -0.020540012, -0.057122137, -0.0010195139, -0.034057196, -0.020951048, -0.025531152, 0.026447173, 0.003945937, -0.01648838, 0.018790176, -0.016899416, 0.0009828144, -0.014350997, 0.013611134, 0.0052641854, 0.0056165014, -0.01876669, 0.026118346, -0.0035730696, 0.007844899, 0.018473092, 0.002864034, 0.0049206777, 0.023933988, 0.025695566, 0.0023795997, -0.009494911, 0.030064283, 0.0049852687, 0.016406173, -0.0038402423, -0.013258819, -0.040328417, -0.019025054, 0.017380914, 0.0065178424, -0.00724009, 0.003358744, 0.015983393, -0.0013659578, 0.051907863, 0.048032388, 0.018308679, -0.01958876, -0.02463862, 0.02454467, -0.06092715, 0.01210792, -0.011685141, -0.015678054, 0.010657554, -0.00020037963, -0.026329735, -0.04422738, 0.04091561, -0.046294298, -0.0011332826, -0.016464893, -0.020035027, 0.019119006, -0.010270006, 0.032319102, 0.034057196, 0.026729027, -0.052753422, -0.014538899, -0.02618881, -0.019447833, -0.003352872, -0.02169091, 0.017627535, 0.011350441, -0.0035877493, 0.0252493, -0.03342303, -0.00909562, 0.012178384, -0.010816095, 0.01913075, -0.018907616, -0.011749732, -0.020974535, -0.012718601, 0.016370941, -0.0048590223, 0.042348363, -0.0034732467, 0.0003780055, -0.0090310285, -0.0034380152, -0.003038724, 0.033563953, -0.004309997, 0.01819124, -0.0033264484, 0.037157577, 0.0035789416, 0.019236444, -0.02071617, -0.049840946, -0.018026825, 0.0076041496, 0.012847783, 0.012800808, -0.016253503, -0.007016957, -0.038167547, 0.023616904, -0.034550436, 0.0075219427, -0.0046740565, -0.0150203975, -0.031520523, -0.014444948, -0.021514753, -0.020011539, 0.027879925, -0.004970589, -0.036358994, 0.023511209, -0.0025029103, -0.0035848133, 0.0033998475, -0.0053933677, 0.004644697, 0.016864184, -0.028608045, -0.038519863, -0.018296935, 0.0026643884, 0.009788508, 0.022278104, 0.013129636, 0.028161777, -0.005904226, 0.010774992, 0.025906956, 0.021679167, -0.009242418, 0.01828519, -0.0007640849, -0.017909387, 0.014656338, 0.027057854, 0.0025586935, -0.008649353, 0.023652134, 0.015290506, 0.0023047326, -0.007944722, 0.057169113, -0.022830065, 0.00790949, -0.002451531, -0.0035789416, -0.012812552, -0.016323967, 0.002934497, 0.024990935, 0.055102192, 0.013364513, 0.021197667, 0.059095107, -0.026752515, 0.01432751, 0.011597062, 0.021362083, -0.0150321415, 0.020422574, -0.01095115, -0.040469345, 0.011209515, 0.0045125782, 0.0016338646, 0.0062594777, 0.009770892, -0.009406832, 0.010598834, 0.027598072, 0.012789064, 0.046646614, -0.025390226, 0.032553982, -0.010446164, 0.021820093, -0.009412704, -0.0018056185, -0.002877246, 0.026916929, 0.016746745, -0.021044997, 0.025272788, -0.014750289, -0.0133057935, -0.02668205, -0.005061604, -0.008619994, -0.011062717, -0.021820093, -0.031050768, -0.019271675, -0.00040663118, 0.022172408, 0.017392658, 0.002100683, 0.023100173, -0.009976409, -0.014809008, 0.015889443, 0.0059423936, -0.026541125, 0.01572503, 0.022231128, 0.027292732, 0.00168084, 0.025178837, 0.057685845, -0.0150321415, -0.015384457, -0.016124321, 0.015337482, -0.029500578, -0.008302909, -0.0005721462, 0.03485578, 0.022219384, 0.028020851, -0.011820195, 0.020833608, -0.04441528, 0.04018749, 0.017052086, 0.006823183, 0.05369293, -0.0062712217, 0.012037457, 0.007334041, -0.0073575284, -0.011644037, 0.012284078, 0.002778891, -0.015220043, -0.02731622, -0.013669854, 0.00010991519, 0.010499012, -0.016253503, 0.022090202, 0.0013410021, 0.0090192845, 0.032624446, -0.0016544163, 0.028279217, -0.028091315, 0.035701334, -0.0051907864, -0.0059423936, 0.010052744, 0.05392781, 0.011685141, 0.006300581, 0.017416146, -0.043193918, 0.028091315, -0.021115461, 0.022665652, -0.00672336, 0.040962584, 0.020610476, 0.015079117, -0.02400445, -0.03896613, -0.033563953, 0.03927147, -0.011831939, 0.0027216396, -0.0031414826, -0.004483219, -0.019612247, 0.0022386734, -0.01113318, 0.0026364967, -0.008402732, -0.024756057, -0.017756717, 0.0025909892, 0.023863524, 0.038801715, -0.051860888, -0.028819434, 0.0014033914, -0.012671625, 0.02607137, -0.005446215, 0.010258262, -0.025813006, 0.017204756, -0.036664333, -0.004952973, -0.023111917, 0.01381078, -0.0133292815, -0.03812057, -0.0006844469, -0.006823183, -0.038284983, -8.04638e-05, 0.021761373, -0.005883674, -0.005446215, 0.014820752, -0.02220764, 0.01742789, 0.032107715, 0.023194125, -0.011338698, -0.005889546, 0.03161447, -0.017474864, 0.011274106, 0.009518399, 0.024826521, -0.005243634, -0.01195525, -0.019083774, -0.031590983, 0.025014423, -0.004401012, -0.0141630955, 0.00943032, -0.02844363, 0.034879267, -0.009970537, 0.014656338, -0.03586575, 0.014233559, -0.01216664, 0.022336822, 0.0021755502, -0.016864184, 0.00034699438, 0.012554187, 0.015055629, 0.013752061, 0.011878915, 0.007163755, 0.0022078457, -0.026259271, 0.034808803, -0.02236031, 0.02968848, 0.014597619, -0.018989822, 0.005240698, 0.020998023, 0.008878359, -0.053598978, 0.024521181, 0.01715778, -0.009694557, 0.010017513, -0.024450717, -0.009424448, 0.009518399, 0.016347453, 0.0036699565, -0.009982281, -0.007163755, 0.011732116, -0.009788508, 0.007433864, 0.024826521, -0.02174963, 0.020786634, -0.032389566, 0.0043599084, 0.02905431, 0.0016735002, -0.007416248, -0.014809008, 0.010005769, 0.004201366, -0.022947503, -0.0071167797, 0.0014004554, -0.0424658, -0.0049911407, 0.0062066303, 0.0039929124, 0.0031179949, -0.008573018, -0.008197214, -0.013587646, -0.033939756, 0.064967036, 0.00055893435, 0.016969878, -0.0058249547, 0.022489494, 0.00757479, -0.022078458, 0.0012103516, -0.01581898, 0.05575985, -0.022066714, 0.009665197, -0.029524066, -0.0030475317, -0.0029932165, 0.005880738, -0.01262465, 0.05923603, 0.0015648694, 0.018625762, 0.009853099, 0.0062536057, 0.007228346, 0.014926447, 0.0076217656, 0.0051849145, 0.03586575, -0.022771345, 0.010816095, -0.00057655014, -0.012096176, -0.0050909636, -0.0033058967, -0.01998805, -0.027598072, -0.005757428, 0.055618923, 0.011479624, 0.036781773, 0.0012734749, -0.015443177, 0.0033792958, 0.016230015, 0.0106810415, -0.0019083773, 0.019729685, -0.03556041, -0.021867068, 0.041291412, -0.0036523407, -0.007750948, 0.0027509993, 0.0022959248, 0.005228954, 0.0069582374, -0.013012198, -0.0018775497, -0.02576603, -0.0141396085, 0.018884128, -0.057967696, -0.005029308, 0.0077744354, 0.024262816, -0.0016470765, -0.014656338, -0.02710483, -0.001931865, -0.00571926, 0.0006462793, 0.009547759, 0.007322297, -0.04598896, -0.043546233, 0.0026643884, 0.012495467, -0.041338388, -0.0081737265, 0.02813829, -0.01298871, 0.01880192, -0.016382685, 0.02567208, -0.030416599, 0.028772458, -0.02567208, -0.025155349, 0.0071696267, 0.018754946, -0.0042600855, -0.00046902042, 0.02442723, -0.009477296, 0.014069145, -0.03440951, -0.017028598, -0.0049823327, -0.0018658058, 0.021044997, 0.072999835, -0.022442518, -0.011696885, -0.025413714, 0.0252493, -0.021855325, -0.002019944, -0.041056536, -0.03626504, -0.04072771, 0.012671625, -0.0098589705, 0.015548871, -0.005140875, -0.00081032637, -0.03133262, 0.014762033, -0.018719714, -0.022759601, 0.0036582125, -0.0031091871, -0.047891464, 0.006159655, 0.007498455, -0.011115564, -0.018543556, -0.0133175375, -0.011884787, -0.011920018, 0.015372713, -0.0069523654, 0.03546646, 0.0107397605, -0.00041690705, 0.002937433, 0.037275013, 0.014609363, -0.01396345, -0.021620447, -0.028490605, -0.04927724, -0.020340366, -0.010211287, 0.016453149, -0.033963244, 0.013223587, 0.009453808, -0.04852563, -0.010375701, 0.037040137, 0.031661447, -0.009541887, 0.006893646, -0.009923562, -0.008848999, 0.007991697, 0.0141161205, 0.027433658, -0.016065601, -0.022888783, -0.0063651726, -0.0046887365, 0.013540671, -0.005642925, 0.012894759, 0.0036993162, -0.017451378, -0.0042630215, 0.03713409, -0.0013094405, -0.020082, 0.014186583, 0.012354542, 0.02463862, -0.016230015, 0.008954694, -0.02174963, -0.004110351, 0.010986381, -0.012659881, -0.0073046815, -0.01028175, 0.03431556, -0.0048707663, -0.021491265, -0.01581898, 0.028255729, -0.020152465, -0.027339708, -0.014820752, 0.014374485, -0.008015185, -0.0031679063, 0.0141748395, 0.012272335, 0.011696885, 0.015466664, 0.0252493, 0.007005213, -0.028608045, -0.02071617, -0.0055988855, -0.012789064, -0.031003792, -0.004955909, -0.0098648425, -0.006834927, 0.033798832, -0.011262362, -0.020493036, 0.004377524, 0.022442518, -0.012190127, 0.022524724, -0.015278762, -0.0045889136, -0.01822647, -0.01864925, -0.0075219427, 0.008643481, 0.0016529483, -0.008913591, 0.023429003, -0.010657554, -0.008802024, -0.011050973, -0.004521386, 0.02853758, 0.022090202, -0.03760384, 0.02178486, -0.00046057953, -0.052095767, 0.02968848, 0.0015780813, 0.00302698, -0.010663426, -0.0056781564, -0.024239328, 0.0025366738, 0.022172408, -0.0022562891, -0.009242418, -0.002450063, -0.03452695, 0.0054168557, 0.01779195, 0.02236031, -0.023840036, -0.0038930897, 0.017909387, -0.020246416, -0.027010879, 0.05134416, -0.029758943, -0.008907719, -0.008625866, 0.006588306, -0.033329077, 0.0048355344, -0.00336168, 0.03452695, 0.0008984053, 0.0055842055, 0.019952819, 0.010258262, -0.021808349, -0.029829405, -0.017087316, 0.013951707, 0.022595188, -0.049324214, -0.012953478, 0.04258324, -0.02412189, -0.02534325, 0.017545328, 0.01089243, -0.002689344, 0.02752761, -0.024850009, -0.008073905, 0.023194125, -0.007668741, -0.0076100216, 0.0047650714, 0.04326438, -0.02865502, -0.019565271, -0.011321082, -0.014421461, 0.0185553, 0.008543658, 0.013705085, 0.009336369, 0.025695566, 0.041479316, -0.00991769, -0.022383798, 0.007568918, -0.027997363, -0.005560718, -0.005457959, -0.011961122, 0.052518543, -0.04852563, -0.00015239495, 0.0050792196, -0.0005222348, -0.00371106, -0.040469345, 0.00063453545, 0.0029800045, -0.001512022, -0.019682711, 0.01822647, 0.014468436, -0.017380914, 0.020692682, 0.06224246, -0.0033381924, -0.013564159, -0.0060246005, 0.017181268, 0.0028948616, 0.038684275, -0.037392452, -0.0002435016, -0.038613815, -0.0021682102, -0.046599638, 0.021655679, -0.03081589, -0.033775344, -0.002511718, -0.026799489, 0.00014468803, -0.008455579, -0.01530225, 0.03288281, -0.019823637, 0.030040795, 0.012965222, -0.011274106, 0.030463574, 0.008009313, -0.022137176, 0.02385178, -0.0040075923, 0.00839686, 0.0028170585, 0.018743202, 0.003302961, -0.03783872, -0.016547099, -0.032107715, -0.013775548, 0.010534243, -0.009207186, 0.012213615, 0.03473834, 0.012800808, 0.008220702, 0.01551364, 0.041455828, -0.010569475, -0.038073596, 0.0024706146, 0.012096176, -0.013399744, 0.022160664, -0.01864925, -0.030980304, 0.03544297, -0.023663878, 0.01469157, -0.024709083, -0.026000908, 0.036969673, -0.014397973, -0.006406276, -0.012612906, -0.022395542, -0.037885696, 0.027081342, -0.027339708, 0.034808803, -0.008813768, 0.0059365216, 0.035724822], index=0, object='embedding')], model='text-embedding-3-small', object='list', usage=Usage(prompt_tokens=12, total_tokens=12))"
      ]
     },
     "execution_count": 19,
     "metadata": {},
     "output_type": "execute_result"
    }
   ],
   "source": [
    "query_embedding"
   ]
  },
  {
   "cell_type": "code",
   "execution_count": 20,
   "id": "4b9bfe6a",
   "metadata": {},
   "outputs": [],
   "source": [
    "from astrapy.data_types import DataAPIVector\n",
    "\n",
    "results = collection.find(\n",
    "    sort={\"$vector\": DataAPIVector(query_embedding.data[0].embedding)},\n",
    "    limit=5,\n",
    "    include_similarity=True\n",
    ")\n"
   ]
  },
  {
   "cell_type": "code",
   "execution_count": 21,
   "id": "beb832a8",
   "metadata": {},
   "outputs": [
    {
     "name": "stdout",
     "output_type": "stream",
     "text": [
      "{'_id': '693147c55d554642bab1ed63f2285c55', 'page_content': 'childbirth.\\n \\nEligible\\n \\nemployees\\n \\nare\\n \\nentitled\\n \\nto\\n \\nup\\n \\nto\\n \\n7\\n \\ndays\\n \\nof\\n \\npaid\\n \\npaternity\\n \\nleave,\\n \\nwhich\\n \\ncan\\n \\nbe\\n \\nused\\n \\nwithin\\n \\n6\\n \\nmonths\\n \\nof\\n \\nthe\\n \\nchild’s\\n \\nbirth.\\n ○  Employees  are  required  to  provide  proof  of  the  birth  (e.g.,  a  birth  certificate  or  \\nhospital\\n \\nrecords)\\n \\nwhen\\n \\napplying\\n \\nfor\\n \\npaternity\\n \\nleave.\\n \\n \\nf.  Long-Term  Leave  for  Medical  Conditions  or  Personal  Circumstances  \\n1.  Leave  for  Long-Term  Medical  Conditions:  \\n ○  Employees  dealing  with  long-term  medical  conditions  that  require  extended  time  \\noff\\n \\nmay\\n \\nrequest\\n \\nlong-term\\n \\nmedical\\n \\nleave\\n.\\n \\nThis\\n \\nleave\\n \\nis\\n \\ntypically\\n \\nunpaid\\n \\nand\\n \\nrequires\\n \\nmedical\\n \\ndocumentation\\n \\nto\\n \\nsubstantiate\\n \\nthe\\n \\nrequest.\\n ○  The  company  will  review  each  case  individually  and  may  approve  long-term  \\nmedical\\n \\nleave,\\n \\nwith\\n \\nthe\\n \\nemployee\\n \\nbeing\\n \\nallowed\\n \\nto\\n \\ntake\\n \\ntime\\n \\noff\\n \\nwhile\\n \\nmaintaining\\n \\ntheir\\n \\nposition\\n \\nwithin\\n \\nthe\\n \\ncompany.', 'metadata': {'file_path': '/app/data/.cache/langflow/354908a6-5fe4-4fc8-ac41-3576737bdbb9/06b3e7ca-2178-4d28-9a49-e947fd8699b3.pdf'}, '$similarity': 0.81507856}\n",
      "{'_id': 'c0dedc882dc742bf8355a4ec4501516f', 'page_content': 'the\\n \\nMaternity\\n \\nBenefit\\n \\nAct,\\n \\n1961\\n,\\n \\nand\\n \\nother\\n \\napplicable\\n \\nlaws\\n \\nin\\n \\nIndia.\\n \\nFemale\\n \\nemployees\\n \\nare\\n \\nentitled\\n \\nto\\n \\nup\\n \\nto\\n \\n26\\n \\nweeks\\n \\nof\\n \\npaid\\n \\nmaternity\\n \\nleave,\\n \\nprovided\\n \\nthey\\n \\nmeet\\n \\nthe\\n \\neligibility\\n \\ncriteria.\\n ○  The  company  recognizes  that  maternity  leave  is  an  important  right  and  \\nencourages\\n \\nemployees\\n \\nto\\n \\ninform\\n \\nHR\\n \\nas\\n \\nsoon\\n \\nas\\n \\npossible\\n \\nto\\n \\nmake\\n \\narrangements\\n \\nfor\\n \\nleave.\\n ○  Employees  must  provide  medical  documentation  confirming  pregnancy  and  \\nexpected\\n \\ndelivery\\n \\ndates,\\n \\nand\\n \\nthey\\n \\nmust\\n \\napply\\n \\nfor\\n \\nmaternity\\n \\nleave\\n \\nat\\n \\nleast\\n \\n8\\n \\nweeks\\n \\nbefore\\n \\ntheir\\n \\ndue\\n \\ndate.\\n 2.  Paternity  Leave:  \\n ○  AKAIWorks  LLP  provides  paternity  leave  to  male  employees  in  the  case  of  \\nchildbirth.\\n \\nEligible\\n \\nemployees\\n \\nare\\n \\nentitled\\n \\nto\\n \\nup\\n \\nto\\n \\n7\\n \\ndays\\n \\nof\\n \\npaid\\n \\npaternity\\n \\nleave,\\n \\nwhich\\n \\ncan\\n \\nbe\\n \\nused\\n \\nwithin\\n \\n6\\n \\nmonths\\n \\nof\\n \\nthe\\n \\nchild’s\\n \\nbirth.', 'metadata': {'file_path': '/app/data/.cache/langflow/354908a6-5fe4-4fc8-ac41-3576737bdbb9/06b3e7ca-2178-4d28-9a49-e947fd8699b3.pdf'}, '$similarity': 0.8109356}\n",
      "{'_id': '97a8fe5a4b624107ae92eb83e19defcb', 'page_content': 'adoption\\n \\nof\\n \\na\\n \\nchild.\\n \\nThis\\n \\nleave\\n \\nis\\n \\nnot\\n \\naccrued\\n \\nand\\n \\nmust\\n \\nbe\\n \\ntaken\\n \\nin\\n \\none\\n \\ngo\\n \\nwithin\\n \\n3\\n \\nmonths\\n \\nof\\n \\nthe\\n \\nbirth\\n \\nor\\n \\nadoption.\\n ●  Eligibility :  Employees  must  have  been  with  the  company  for  a  minimum  of  6  months  to  \\nqualify\\n \\nfor\\n \\npaternity\\n \\nleave.\\n \\n \\ng.  Statutory  Leave  Accrual  (Public  Holidays,  Jury  Duty,  Voting,  Bereavement  Leave):  \\n●  Public  Holidays :  Employees  do  not  accrue  public  holidays;  these  are  granted  on  the  \\ndesignated\\n \\ndays\\n \\nas\\n \\nspecified\\n \\nin\\n \\nthe\\n \\ncompany\\n \\ncalendar.\\n \\nIf\\n \\na\\n \\npublic\\n \\nholiday\\n \\nfalls\\n \\non\\n \\na\\n \\nweekend,\\n \\nit\\n \\nmay\\n \\nnot\\n \\nbe\\n \\nsubstituted\\n \\nunless\\n \\nrequired\\n \\nby\\n \\noperational\\n \\nneeds.\\n ●  Jury  Duty :  Employees  are  granted  paid  time  off  for  jury  duty,  but  no  leave  is  accrued  for  \\njury\\n \\nduty\\n \\ndays.\\n \\nThe\\n \\ncompany\\n \\nwill\\n \\ncompensate\\n \\nemployees\\n \\nat\\n \\ntheir\\n \\nregular\\n \\npay\\n \\nrate,\\n \\nup\\n \\nto\\n \\nthe\\n \\ntime\\n \\nthey\\n \\nspend\\n \\nin\\n \\njury\\n \\nservice.', 'metadata': {'file_path': '/app/data/.cache/langflow/354908a6-5fe4-4fc8-ac41-3576737bdbb9/06b3e7ca-2178-4d28-9a49-e947fd8699b3.pdf'}, '$similarity': 0.8090591}\n",
      "{'_id': 'df50c9ed7cd44155a674012dfa363f20', 'page_content': 'preceding\\n \\nthe\\n \\nexpected\\n \\ndate\\n \\nof\\n \\ndelivery.\\n ○  Additional  Leave :  In  certain  cases,  employees  may  be  eligible  for  additional  \\nunpaid\\n \\nleave\\n \\nafter\\n \\nthe\\n \\nmaternity\\n \\nleave\\n \\nperiod.\\n 3.  Paternity  Leave:  \\n ○  Entitlement :  Male  employees  are  entitled  to  7  days  of  paid  paternity  leave  in  the  \\nevent\\n \\nof\\n \\nthe\\n \\nbirth\\n \\nor\\n \\nadoption\\n \\nof\\n \\na\\n \\nchild.\\n ○  Eligibility :  Employees  must  have  been  with  the  company  for  a  minimum  of  6  \\nmonths\\n \\nto\\n \\nbe\\n \\neligible\\n \\nfor\\n \\npaternity\\n \\nleave.\\n ○  Requesting  Leave :  Paternity  leave  should  be  requested  2  weeks  in  advance,  \\nexcept\\n \\nin\\n \\ncases\\n \\nof\\n \\nemergency.\\n 4.  Bereavement  Leave:  \\n ○  Entitlement :  Employees  are  entitled  to  3  days  of  paid  leave  in  the  event  of  the  \\ndeath\\n \\nof\\n \\nan\\n \\nimmediate\\n \\nfamily\\n \\nmember\\n \\n(spouse,\\n \\nchildren,\\n \\nparents,\\n \\nsiblings).\\n ○  Extended  Family :  Leave  for  the  death  of  extended  family  members  (such  as  \\ngrandparents,', 'metadata': {'file_path': '/app/data/.cache/langflow/354908a6-5fe4-4fc8-ac41-3576737bdbb9/06b3e7ca-2178-4d28-9a49-e947fd8699b3.pdf'}, '$similarity': 0.79859424}\n",
      "{'_id': 'e5ef08f58d384a39aa28f7fb72c4fdf4', 'page_content': 'e.  Maternity  Leave  Accrual:  \\n●  Maternity  Leave :  Maternity  leave  of  26  weeks  is  provided  under  the  Maternity  Benefit  \\nAct,\\n \\n1961,\\n \\nand\\n \\nis\\n \\nnot\\n \\naffected\\n \\nby\\n \\nthe\\n \\naccrual\\n \\nprocess.\\n \\nIt\\n \\nis\\n \\na\\n \\nstatutory\\n \\nentitlement\\n \\nand\\n \\ndoes\\n \\nnot\\n \\nneed\\n \\nto\\n \\nbe\\n \\naccrued.\\n \\nIt\\n \\nis\\n \\navailable\\n \\nupon\\n \\nrequest,\\n \\nprovided\\n \\nthe\\n \\nemployee\\n \\nhas\\n \\nworked\\n \\nfor\\n \\nat\\n \\nleast\\n \\n80\\n \\ndays\\n \\nin\\n \\nthe\\n \\n12\\n \\nmonths\\n \\npreceding\\n \\nthe\\n \\nexpected\\n \\ndelivery\\n \\ndate.\\n ●  Unused  Leave :  Employees  on  maternity  leave  can  also  utilize  accrued  vacation  leave  (if  \\napplicable)\\n \\nduring\\n \\ntheir\\n \\nleave\\n \\nperiod,\\n \\nprovided\\n \\nit\\n \\nis\\n \\napproved\\n \\nby\\n \\nHR\\n \\nand\\n \\nis\\n \\nwithin\\n \\nthe\\n \\nemployee’s\\n \\nentitlements.\\n \\n \\nf.  Paternity  Leave  Accrual:  \\n●  Paternity  Leave :  Paternity  leave  of  7  days  is  granted  to  male  employees  for  the  birth  or  \\nadoption\\n \\nof\\n \\na\\n \\nchild.\\n \\nThis\\n \\nleave\\n \\nis\\n \\nnot\\n \\naccrued\\n \\nand\\n \\nmust\\n \\nbe\\n \\ntaken\\n \\nin\\n \\none\\n \\ngo\\n \\nwithin\\n \\n3', 'metadata': {'file_path': '/app/data/.cache/langflow/354908a6-5fe4-4fc8-ac41-3576737bdbb9/06b3e7ca-2178-4d28-9a49-e947fd8699b3.pdf'}, '$similarity': 0.7918664}\n"
     ]
    }
   ],
   "source": [
    "for doc in results:\n",
    "    print(doc)\n"
   ]
  },
  {
   "cell_type": "markdown",
   "id": "8fb0de94",
   "metadata": {},
   "source": [
    "---"
   ]
  },
  {
   "cell_type": "markdown",
   "id": "f45def7c",
   "metadata": {},
   "source": [
    "## AstraDB Vector Tool (Custom CrewAI Tools)"
   ]
  },
  {
   "cell_type": "code",
   "execution_count": 22,
   "id": "552958da",
   "metadata": {},
   "outputs": [],
   "source": [
    "from astrapy import DataAPIClient\n",
    "from astrapy.data_types import DataAPIVector\n",
    "from openai import OpenAI\n",
    "\n",
    "def search_documents(query: str, top_k: int = 5) -> list[str]:\n",
    "    # Set up OpenAI\n",
    "    openai_client = OpenAI()\n",
    "    query_embedding = openai_client.embeddings.create(\n",
    "        model=\"text-embedding-3-small\",\n",
    "        input=query,\n",
    "        encoding_format=\"float\"\n",
    "    ).data[0].embedding\n",
    "\n",
    "    # Connect to Astra\n",
    "    astra_client = DataAPIClient(Token)\n",
    "    db = astra_client.get_database_by_api_endpoint(EndPoint)\n",
    "    collection = db.get_collection(\"CollectionSmallEmbeddings\")\n",
    "\n",
    "    # Query Astra\n",
    "    cursor = collection.find(\n",
    "        sort={\"$vector\": DataAPIVector(query_embedding)},\n",
    "        limit=top_k,\n",
    "        include_similarity=True\n",
    "    )\n",
    "\n",
    "    # Return documents\n",
    "    results = []\n",
    "    for doc in cursor:\n",
    "        text = doc.get(\"text\") or str(doc)\n",
    "        score = doc.get(\"$similarity\", 0)\n",
    "        results.append(f\"[{score:.4f}] {text}\")\n",
    "    return results\n"
   ]
  },
  {
   "cell_type": "code",
   "execution_count": 23,
   "id": "fa02b076",
   "metadata": {},
   "outputs": [],
   "source": [
    "from crewai.tools import BaseTool\n",
    "\n",
    "class AstraSearchTool(BaseTool):\n",
    "    name: str = \"VectorTool\"\n",
    "    description: str = \"Search the vector store for information about employee leave policy of AKAIWorks\"\n",
    "\n",
    "    def _run(self, query: str) -> str:\n",
    "        # This is where your vector search logic goes\n",
    "        results = search_documents(query)\n",
    "        return \"\\n\".join(results)\n"
   ]
  },
  {
   "cell_type": "code",
   "execution_count": 24,
   "id": "eb396807",
   "metadata": {},
   "outputs": [],
   "source": [
    "astra_tool = AstraSearchTool()"
   ]
  },
  {
   "cell_type": "markdown",
   "id": "31a3a153",
   "metadata": {},
   "source": [
    "---"
   ]
  },
  {
   "cell_type": "markdown",
   "id": "95e49dd4",
   "metadata": {},
   "source": [
    "## Tool Routing using CrewAI"
   ]
  },
  {
   "cell_type": "markdown",
   "id": "0903f850",
   "metadata": {},
   "source": [
    "<img src=\"./Assets/2.4 Tool Routing.png\">"
   ]
  },
  {
   "cell_type": "code",
   "execution_count": 25,
   "id": "df344e2f",
   "metadata": {},
   "outputs": [],
   "source": [
    "llm = LLM(\n",
    "    model=\"gpt-4o-mini\",\n",
    "    temperature=0.8,\n",
    "    max_tokens=150,\n",
    "    top_p=0.9,\n",
    "    frequency_penalty=0.1,\n",
    "    presence_penalty=0.1,\n",
    "    stop=[\"END\"],\n",
    "    seed=42\n",
    ")\n"
   ]
  },
  {
   "cell_type": "code",
   "execution_count": 26,
   "id": "b3f688b7",
   "metadata": {},
   "outputs": [],
   "source": [
    "Query_Responder=Agent(\n",
    "    role=\"AI Search Assistant\",\n",
    "    goal=\"Help users by either answering their queries directly using built-in knowledge,\"\n",
    "        \" or use the VectorTool when the query is about employee leave policy of AKAIWorks \"\n",
    "        \"or performing a live web search using the Google Serper API when up-to-date or external information is required.\",\n",
    "\n",
    "    backstory=\"You were built to bridge the gap between real-time information and artificial intelligence. \"\n",
    "            \"Equipped with access to the web through the Serper API, employee leave policy via the vector tool, you excel at retrieving the most recent, relevant data when needed.\"\n",
    "            \" But you also know when to keep things simple — using your own understanding to answer straightforward questions without delay.\"\n",
    "            \" You’re the perfect blend of real-time access and inherent intelligence. \"\n",
    "            \"Remember that company name might not be explicitly mentioned but assume that the leave policy query is implicitly for the organisation.\"\"\",\n",
    "    tools=[SerperDevTool(),astra_tool],\n",
    "    verbose=True,\n",
    "    llm=llm\n",
    ")\n"
   ]
  },
  {
   "cell_type": "code",
   "execution_count": 27,
   "id": "a050929f",
   "metadata": {},
   "outputs": [],
   "source": [
    "handle_user_query= Task(\n",
    "    description=(\n",
    "        \"Receive and respond to a user's question - {user_input} \"\n",
    "        \"If the query is simple or general knowledge (e.g., definitions, common facts), \"\n",
    "        \"answer using your own knowledge. \"\n",
    "        \"If the query appears to require current or web-based information \"\n",
    "        \"(e.g., news, trending topics, recent data), \"\n",
    "        \"perform a web search using the Serper API tool to gather relevant information first. \"\n",
    "        \"If the query is about the employee leave policy of AKAIWorks, \"\n",
    "        \"perform a vector database search using vector search tool.\"\n",
    "        \"Remember that company name might not be explicitly mentioned but assume that the leave policy query is implicitly for the organisation.\"\n",
    "        \"Ensure your response is concise, helpful, and clearly indicates whether it was based on a search or internal understanding.\"\n",
    "        \"Always end your answer by saying which source you used: [LLM], [Web Search], or [Vector DB].\"\n",
    "    ),\n",
    "    expected_output=(\n",
    "        \"A final answer to the user's question, either using internal knowledge or based on live search results. \"\n",
    "        \"If using search, summarize the result clearly and include key information retrieved. \"\n",
    "        \"Indicate whether the result was from the web or internal knowledge.\"\n",
    "        \"Always end your answer by saying which source you used: [LLM], [Web Search], or [Vector DB].\"\n",
    "    ),\n",
    "    agent=Query_Responder\n",
    ")"
   ]
  },
  {
   "cell_type": "code",
   "execution_count": 28,
   "id": "c4ab804c",
   "metadata": {},
   "outputs": [],
   "source": [
    "crew = Crew(\n",
    "    agents=[Query_Responder],\n",
    "    tasks=[handle_user_query],\n",
    "    process=Process.sequential\n",
    ")\n"
   ]
  },
  {
   "cell_type": "code",
   "execution_count": 32,
   "id": "479b7e48",
   "metadata": {},
   "outputs": [
    {
     "name": "stdout",
     "output_type": "stream",
     "text": [
      "\u001b[1m\u001b[95m# Agent:\u001b[00m \u001b[1m\u001b[92mAI Search Assistant\u001b[00m\n",
      "\u001b[95m## Task:\u001b[00m \u001b[92mReceive and respond to a user's question - What are the changes in paternity leave laws in the UK? If the query is simple or general knowledge (e.g., definitions, common facts), answer using your own knowledge. If the query appears to require current or web-based information (e.g., news, trending topics, recent data), perform a web search using the Serper API tool to gather relevant information first. If the query is about the employee leave policy of AKAIWorks, perform a vector database search using vector search tool.Remember that company name might not be explicitly mentioned but assume that the leave policy query is implicitly for the organisation.Ensure your response is concise, helpful, and clearly indicates whether it was based on a search or internal understanding.Always end your answer by saying which source you used: [LLM], [Web Search], or [Vector DB].\u001b[00m\n"
     ]
    },
    {
     "name": "stdout",
     "output_type": "stream",
     "text": [
      "\n",
      "\n",
      "\u001b[1m\u001b[95m# Agent:\u001b[00m \u001b[1m\u001b[92mAI Search Assistant\u001b[00m\n",
      "\u001b[95m## Thought:\u001b[00m \u001b[92mAction: Search the internet with Serper\u001b[00m\n",
      "\u001b[95m## Using tool:\u001b[00m \u001b[92mSearch the internet with Serper\u001b[00m\n",
      "\u001b[95m## Tool Input:\u001b[00m \u001b[92m\n",
      "\"{\\\"search_query\\\": \\\"changes in paternity leave laws in the UK 2023\\\"}\"\u001b[00m\n",
      "\u001b[95m## Tool Output:\u001b[00m \u001b[92m\n",
      "{'searchParameters': {'q': 'changes in paternity leave laws in the UK 2023', 'type': 'search', 'num': 10, 'engine': 'google'}, 'organic': [{'title': 'Taking paternity leave - Paternity leave and pay - Acas', 'link': 'https://www.acas.org.uk/paternity-rights-leave-and-pay/taking-paternity-leave', 'snippet': 'An employee can take their statutory paternity leave at any time in the first 52 weeks after the birth. They cannot start statutory paternity leave before the ...', 'position': 1}, {'title': 'Paternity leave changes on the horizon in the UK', 'link': 'https://www.employmentlawwatch.com/2024/03/articles/employment-uk/paternity-leave-changes-on-the-horizon-in-the-uk/', 'snippet': 'The changes are limited to improving flexibility for eligible employees wanting to take the existing right to two weeks of statutory paternity leave.', 'position': 2}, {'title': 'New regulation to make paternity leave more flexible', 'link': 'https://www.peoplemanagement.co.uk/article/1893125/new-regulation-paternity-leave-flexible', 'snippet': 'Also, the period to notify an employer for each period of leave is reduced from 14 weeks to four weeks before each consecutive leave commences.', 'position': 3}, {'title': 'Paternity policy changes are useless without attitudes doing the same', 'link': 'https://www.hrmagazine.co.uk/content/news/paternity-policy-changes-are-useless-without-attitudes-doing-the-same/', 'snippet': 'Statutory paternity leave remains capped at two weeks, and there is still no requirement for employers to enhance shared parental leave in line ...', 'position': 4}, {'title': 'Parental leave in 2025 - what is changing? - Arbor Law', 'link': 'https://arbor.law/insights/parental-leave-in-2025-what-is-changing/', 'snippet': 'The new statutory neonatal care leave (SNCL) will be a day-one right, giving eligible employees up to 12 weeks of additional leave to support their family ...', 'position': 5}, {'title': 'Improving Statutory Paternity Leave would benefit families and the ...', 'link': 'https://www.jrf.org.uk/work/improving-statutory-paternity-leave-would-benefit-families-and-the-economy', 'snippet': 'Recent changes to paternity leave entitlements – allowing fathers to take 2 non-consecutive weeks of paid leave – already establish a precedent ...', 'position': 6}, {'title': 'Paternity pay and leave - GOV.UK', 'link': 'https://www.gov.uk/paternity-pay-leave/leave', 'snippet': \"You can choose to take either 1 or 2 weeks' leave. You must take your leave in one go. You get the same amount of leave even if you have more than one child.\", 'position': 7, 'sitelinks': [{'title': 'Overview', 'link': 'https://www.gov.uk/paternity-pay-leave'}, {'title': 'Statutory Paternity Pay', 'link': 'https://www.gov.uk/employers-paternity-pay-leave'}, {'title': 'Pay', 'link': 'https://www.gov.uk/paternity-pay-leave/pay'}, {'title': 'Eligibility', 'link': 'https://www.gov.uk/paternity-pay-leave/eligibility'}]}, {'title': 'Understanding the Paternity Leave Changes in 2024 - Payfit.com', 'link': 'https://payfit.com/blog/changes-to-paternity-leave-2024/', 'snippet': \"Employees now have the right to change any dates they've requested for their leave as long as they can give you, the employer, 28 days' notice.\", 'position': 8, 'sitelinks': [{'title': 'How Much Notice Do Employees...', 'link': 'https://payfit.com/blog/changes-to-paternity-leave-2024/#:~:text=How%20much%20notice%20do%20employees%20need%20to%20give%3F,-Before%2C%20new%20parents%20had'}, {'title': \"What Isn't Changing?\", 'link': 'https://payfit.com/blog/changes-to-paternity-leave-2024/#:~:text=What%20isn%27t%20changing%3F,-The%20purpose%20of%20the%20leave'}, {'title': 'Is Paternity Leave 10 Or 14...', 'link': 'https://payfit.com/blog/changes-to-paternity-leave-2024/#:~:text=Is%20paternity%20leave%2010%20or%2014%20working%20days%3F,-In%20deciding%20how%20much%20leave'}]}, {'title': 'What employment laws are changing from April 2024?', 'link': 'https://commonslibrary.parliament.uk/what-employment-laws-are-changing-from-april-2024/', 'snippet': 'Employees taking certain types of parental leave now have protection from redundancy for at least 18 months. This protection means that if their ...', 'position': 9}, {'title': 'Changes to paternity leave from March 2024 - littler.co.uk', 'link': 'https://littler.co.uk/insights/changes-to-paternity-leave-from-march-2024/', 'snippet': 'Employees are currently able to take either one week or two consecutive weeks of statutory paternity leave within 56 days (8 weeks) of birth, provided they meet ...', 'position': 10, 'sitelinks': [{'title': 'What Is Changing?', 'link': 'https://littler.co.uk/insights/changes-to-paternity-leave-from-march-2024/#:~:text=What%20is%20changing%3F'}, {'title': 'Why Have The Changes Been...', 'link': 'https://littler.co.uk/insights/changes-to-paternity-leave-from-march-2024/#:~:text=Why%20have%20the%20changes%20been%20made%3F'}, {'title': 'Update', 'link': 'https://littler.co.uk/insights/changes-to-paternity-leave-from-march-2024/#:~:text=Update,-The%20Paternity%20Leave%20%28Amendment'}]}], 'peopleAlsoAsk': [{'question': 'Is paternity leave changing in the UK?', 'snippet': 'The law on statutory paternity leave changed on 6 April 2024. The previous law applies if either: the baby was due on or before 6 April 2024. the adoption placement started on or before 5 April 2024.\\nApr 7, 2025', 'title': 'Taking paternity leave - Paternity leave and pay - Acas', 'link': 'https://www.acas.org.uk/paternity-rights-leave-and-pay/taking-paternity-leave'}, {'question': 'How long is paternity leave UK 2023?', 'snippet': \"Statutory Paternity Leave Employees can choose to take either 1 week or 2 consecutive weeks' leave. The amount of time is the same even if they have more than one child (for example twins). Leave cannot start before the birth.\", 'title': 'Statutory Paternity Pay and Leave: employer guide - GOV.UK', 'link': 'https://www.gov.uk/employers-paternity-pay-leave'}, {'question': 'Is paternity leave 14 working days in the UK?', 'snippet': \"You can choose to take either 1 or 2 weeks' leave. You must take your leave in one go. You get the same amount of leave even if you have more than one child (for example, twins). A week of leave is the same amount of days that you normally work in a week.\", 'title': 'Paternity pay and leave - GOV.UK', 'link': 'https://www.gov.uk/paternity-pay-leave/leave'}, {'question': 'How much paternity leave are fathers entitled to in UK?', 'snippet': \"Paternity leave and pay. If you're a baby's father or the mother's partner you're entitled to 1 or 2 weeks of paternity leave when you and your partner have a baby. You can also take paternity leave when you adopt a child. You have to take paternity leave in blocks of 1 or 2 weeks.\", 'title': 'Check your parental rights at work - Citizens Advice', 'link': 'https://www.citizensadvice.org.uk/work/maternity-and-parental-rights/check-your-maternity-and-parental-rights/parental-rights/parental-rights-at-work/'}], 'relatedSearches': [{'query': 'Paternity leave changes 2024'}, {'query': 'Paternity leave changes 2025'}, {'query': 'How much paternity leave are fathers entitled to UK'}, {'query': 'Not eligible for paternity leave'}, {'query': 'Paternity leave UK pay'}, {'query': 'Paternity leave calculator'}, {'query': 'Additional paternity leave'}, {'query': 'Does paternity leave include weekends'}], 'credits': 1}\u001b[00m\n",
      "\n",
      "\n",
      "\u001b[1m\u001b[95m# Agent:\u001b[00m \u001b[1m\u001b[92mAI Search Assistant\u001b[00m\n",
      "\u001b[95m## Final Answer:\u001b[00m \u001b[92m\n",
      "Recent changes to paternity leave laws in the UK, effective from April 2024, include a reduction in the notification period for leave requests, which has changed from 14 weeks to just 4 weeks before each period of leave. Employees are still entitled to take either one or two consecutive weeks of statutory paternity leave, but they now also have the flexibility to change their requested leave dates with 28 days' notice. Additionally, while the statutory paternity leave remains capped at two weeks, there is an ongoing discussion about enhancing shared parental leave policies. These updates aim to improve flexibility for employees. \n",
      "\n",
      "For more detailed information, you\u001b[00m\n",
      "\n",
      "\n"
     ]
    }
   ],
   "source": [
    "result = crew.kickoff(inputs={\"user_input\": \"What are the changes in paternity leave laws in the UK?\"})"
   ]
  },
  {
   "cell_type": "code",
   "execution_count": 33,
   "id": "2bbf3ecc",
   "metadata": {},
   "outputs": [
    {
     "data": {
      "text/markdown": [
       "### Recent changes to paternity leave laws in the UK, effective from April 2024, include a reduction in the notification period for leave requests, which has changed from 14 weeks to just 4 weeks before each period of leave. Employees are still entitled to take either one or two consecutive weeks of statutory paternity leave, but they now also have the flexibility to change their requested leave dates with 28 days' notice. Additionally, while the statutory paternity leave remains capped at two weeks, there is an ongoing discussion about enhancing shared parental leave policies. These updates aim to improve flexibility for employees. \n",
       "\n",
       "For more detailed information, you"
      ],
      "text/plain": [
       "<IPython.core.display.Markdown object>"
      ]
     },
     "metadata": {},
     "output_type": "display_data"
    }
   ],
   "source": [
    "display(Markdown(\"### \"+result.raw))\n"
   ]
  },
  {
   "cell_type": "code",
   "execution_count": 31,
   "id": "93cd2ac3",
   "metadata": {},
   "outputs": [
    {
     "data": {
      "text/plain": [
       "UsageMetrics(total_tokens=6925, prompt_tokens=6834, cached_prompt_tokens=0, completion_tokens=91, successful_requests=2)"
      ]
     },
     "execution_count": 31,
     "metadata": {},
     "output_type": "execute_result"
    }
   ],
   "source": [
    "result.token_usage"
   ]
  },
  {
   "cell_type": "markdown",
   "id": "8038d96a",
   "metadata": {},
   "source": [
    "---"
   ]
  },
  {
   "cell_type": "markdown",
   "id": "4d4f1378",
   "metadata": {},
   "source": [
    "So we saw how to call external applications using __Tools__, now we will move to [Agents solving multiple tasks in steps](./3.%20MultiStep%20Agents.ipynb)"
   ]
  },
  {
   "cell_type": "markdown",
   "id": "198ea297",
   "metadata": {},
   "source": [
    "---\n",
    "---"
   ]
  },
  {
   "cell_type": "markdown",
   "id": "8a7b5616",
   "metadata": {},
   "source": [
    "<img src=\"./Assets/profile_s.png\" width=100> \n",
    "\n",
    "Hi! I'm Abhinav! I have spent over 15 years consulting and leadership roles in data science, machine learning and AI. My current focus is in the applied Generative AI domain focussing on solving enterprise needs through contextual intelligence. I'm passionate about AI advancements constantly exploring emerging technologies to push the boundaries and create positive impacts in the world. Let’s build the future, together!\n",
    "\n",
    "[If you haven't already, get your copy of A Simple Guide to Retrieval Augmented Generation here](https://mng.bz/6ePo)\n",
    "\n",
    "<a href=\"https://mng.bz/6ePo\" target=\"_blank\">\n",
    "    <img src=\"./Assets/NewMEAPFooter.png\" alt=\"New MEAP\" width= 70%\" />\n",
    "</a>\n",
    "\n",
    "#### If you'd like to chat, I'd be very happy to connect\n",
    "\n",
    "[![GitHub followers](https://img.shields.io/badge/Github-000000?style=for-the-badge&logo=github&logoColor=black&color=orange)](https://github.com/abhinav-kimothi)\n",
    "[![LinkedIn](https://img.shields.io/badge/LinkedIn-000000?style=for-the-badge&logo=linkedin&logoColor=orange&color=black)](https://www.linkedin.com/comm/mynetwork/discovery-see-all?usecase=PEOPLE_FOLLOWS&followMember=abhinav-kimothi)\n",
    "[![Medium](https://img.shields.io/badge/Medium-000000?style=for-the-badge&logo=medium&logoColor=black&color=orange)](https://medium.com/@abhinavkimothi)\n",
    "[![Insta](https://img.shields.io/badge/Instagram-000000?style=for-the-badge&logo=instagram&logoColor=orange&color=black)](https://www.instagram.com/akaiworks/)\n",
    "[![Mail](https://img.shields.io/badge/email-000000?style=for-the-badge&logo=gmail&logoColor=black&color=orange)](mailto:abhinav.kimothi.ds@gmail.com)\n",
    "[![X](https://img.shields.io/badge/Follow-000000?style=for-the-badge&logo=X&logoColor=orange&color=black)](https://twitter.com/abhinav_kimothi)\n",
    "[![Linktree](https://img.shields.io/badge/Linktree-000000?style=for-the-badge&logo=linktree&logoColor=black&color=orange)](https://linktr.ee/abhinavkimothi)\n",
    "[![Gumroad](https://img.shields.io/badge/Gumroad-000000?style=for-the-badge&logo=gumroad&logoColor=orange&color=black)](https://abhinavkimothi.gumroad.com/)\n",
    "\n",
    "---"
   ]
  }
 ],
 "metadata": {
  "kernelspec": {
   "display_name": ".agent_env",
   "language": "python",
   "name": "python3"
  },
  "language_info": {
   "codemirror_mode": {
    "name": "ipython",
    "version": 3
   },
   "file_extension": ".py",
   "mimetype": "text/x-python",
   "name": "python",
   "nbconvert_exporter": "python",
   "pygments_lexer": "ipython3",
   "version": "3.11.12"
  }
 },
 "nbformat": 4,
 "nbformat_minor": 5
}
