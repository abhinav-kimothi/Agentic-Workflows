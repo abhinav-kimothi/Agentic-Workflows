{
 "cells": [
  {
   "cell_type": "markdown",
   "id": "827b068f",
   "metadata": {},
   "source": [
    "<img src=\"./Assets/1.1 AgWorkHeaderImage.png\">"
   ]
  },
  {
   "cell_type": "markdown",
   "id": "dd1ccd39",
   "metadata": {},
   "source": [
    "## Tool Use\n",
    "\n",
    "It combines MEMORY, REASONING, PLANNING, and __ACTIONS (often via EXTERNAL TOOLS)__ to fulfil TASKS.\n",
    "\n",
    "Tools are methods that help LLMs accomplish actions that require interaction with entities outside of the model.\n",
    "\n",
    "<img src=\"./Assets/2.1 Tool Use Single.png\">"
   ]
  },
  {
   "cell_type": "markdown",
   "id": "137b408b",
   "metadata": {},
   "source": [
    "---"
   ]
  },
  {
   "cell_type": "markdown",
   "id": "694b9055",
   "metadata": {},
   "source": [
    "#### Load all Keys etc."
   ]
  },
  {
   "cell_type": "code",
   "execution_count": 76,
   "id": "90dd3d20",
   "metadata": {},
   "outputs": [
    {
     "data": {
      "text/plain": [
       "True"
      ]
     },
     "execution_count": 76,
     "metadata": {},
     "output_type": "execute_result"
    }
   ],
   "source": [
    "from dotenv import load_dotenv\n",
    "import os\n",
    "\n",
    "load_dotenv()"
   ]
  },
  {
   "cell_type": "markdown",
   "id": "20c324ee",
   "metadata": {},
   "source": [
    "## Simple Tool Calling using a CrewAI Agent\n",
    "\n",
    "<img src=\"./Assets/2.3 Crewai logo.png\"><img src=\"./Assets/2.2 CrewAI.png\">"
   ]
  },
  {
   "cell_type": "code",
   "execution_count": 212,
   "id": "c405d0b4",
   "metadata": {},
   "outputs": [],
   "source": [
    "from crewai import LLM\n",
    "llm = LLM(\n",
    "    model=\"gpt-4o-mini\",\n",
    "    temperature=0.8,\n",
    "    max_tokens=150,\n",
    "    top_p=0.9,\n",
    "    frequency_penalty=0.1,\n",
    "    presence_penalty=0.1,\n",
    "    stop=[\"END\"],\n",
    "    seed=42\n",
    ")"
   ]
  },
  {
   "cell_type": "markdown",
   "id": "a876f5eb",
   "metadata": {},
   "source": [
    "### Agent: Role, Goal & BackStory"
   ]
  },
  {
   "cell_type": "code",
   "execution_count": 213,
   "id": "5edc89ba",
   "metadata": {},
   "outputs": [],
   "source": [
    "from crewai import Agent\n",
    "from crewai_tools import SerperDevTool\n",
    "\n",
    "Query_Responder=Agent(\n",
    "    role=\"AI Web Search Assistant\",\n",
    "    goal=f\"Help users by either answering their queries directly using built-in knowledge or performing a live web search using\" \n",
    "    \"the Google Serper API when up-to-date or external information is required.\",\n",
    "    backstory=f\"You were built to bridge the gap between real-time information and artificial intelligence. \"\n",
    "                \"Equipped with access to the web through the Serper API, you excel at retrieving the most recent, relevant data when needed. \" \n",
    "                \"But you also know when to keep things simple — using your own understanding to answer straightforward questions without delay.\"  \n",
    "                \"You’re the perfect blend of real-time access and inherent intelligence.\",\n",
    "    tools=[SerperDevTool()],\n",
    "    verbose=True,\n",
    "    llm=llm\n",
    ")\n"
   ]
  },
  {
   "cell_type": "code",
   "execution_count": 214,
   "id": "08274352",
   "metadata": {},
   "outputs": [],
   "source": [
    "from crewai import Task\n",
    "\n",
    "handle_user_query= Task(\n",
    "    description=(\n",
    "        \"Receive and respond to a user's question - {user_input} \"\n",
    "        \"If the query is simple or general knowledge (e.g., definitions, common facts), \"\n",
    "        \"answer using your own knowledge. \"\n",
    "        \"If the query appears to require current or web-based information \"\n",
    "        \"(e.g., news, trending topics, recent data), \"\n",
    "        \"perform a web search using the Serper API tool to gather relevant information first. \"\n",
    "        \"Ensure your response is concise, helpful, and clearly indicates whether it was based on a search or internal understanding.\"\n",
    "    ),\n",
    "    expected_output=(\n",
    "        \"A final answer to the user's question, either using internal knowledge or based on live search results. \"\n",
    "        \"If using search, summarize the result clearly and include key information retrieved. \"\n",
    "        \"Indicate whether the result was from the web or internal knowledge.\"\n",
    "        \"Always end your answer by saying which source you used: [LLM] or [Web Search]\"\n",
    "    ),\n",
    "    agent=Query_Responder\n",
    ")"
   ]
  },
  {
   "cell_type": "code",
   "execution_count": 215,
   "id": "e36c6351",
   "metadata": {},
   "outputs": [],
   "source": [
    "from crewai import Crew, Process\n",
    "\n",
    "crew = Crew(\n",
    "    agents=[Query_Responder],\n",
    "    tasks=[handle_user_query],\n",
    "    process=Process.sequential\n",
    ")\n"
   ]
  },
  {
   "cell_type": "code",
   "execution_count": 216,
   "id": "f25bf7a2",
   "metadata": {},
   "outputs": [
    {
     "name": "stdout",
     "output_type": "stream",
     "text": [
      "\u001b[1m\u001b[95m# Agent:\u001b[00m \u001b[1m\u001b[92mAI Web Search Assistant\u001b[00m\n",
      "\u001b[95m## Task:\u001b[00m \u001b[92mReceive and respond to a user's question - Who won the latest t20 world cup? If the query is simple or general knowledge (e.g., definitions, common facts), answer using your own knowledge. If the query appears to require current or web-based information (e.g., news, trending topics, recent data), perform a web search using the Serper API tool to gather relevant information first. Ensure your response is concise, helpful, and clearly indicates whether it was based on a search or internal understanding.\u001b[00m\n",
      "\n",
      "\n",
      "\u001b[1m\u001b[95m# Agent:\u001b[00m \u001b[1m\u001b[92mAI Web Search Assistant\u001b[00m\n",
      "\u001b[95m## Thought:\u001b[00m \u001b[92mAction: Search the internet with Serper\u001b[00m\n",
      "\u001b[95m## Using tool:\u001b[00m \u001b[92mSearch the internet with Serper\u001b[00m\n",
      "\u001b[95m## Tool Input:\u001b[00m \u001b[92m\n",
      "\"{\\\"search_query\\\": \\\"latest T20 World Cup winner 2024\\\"}\"\u001b[00m\n",
      "\u001b[95m## Tool Output:\u001b[00m \u001b[92m\n",
      "{'searchParameters': {'q': 'latest T20 World Cup winner 2024', 'type': 'search', 'num': 10, 'engine': 'google'}, 'organic': [{'title': 'IND vs SA Cricket Scorecard, Final at Bridgetown, June 29, 2024', 'link': 'https://www.espncricinfo.com/series/icc-men-s-t20-world-cup-2024-1411166/india-vs-south-africa-final-1415755/full-scorecard', 'snippet': \"Series result, India won the 2024 ICC Men's T20 World Cup ; Match number, T20I no. 2729 ; Match days, 29 June 2024 - day (20-over match) ; Umpires. New Zealand.\", 'position': 1, 'sitelinks': [{'title': 'Summary', 'link': 'https://www.espncricinfo.com/series/icc-men-s-t20-world-cup-2024-1411166/india-vs-south-africa-final-1415755/live-cricket-score'}, {'title': 'MVP', 'link': 'https://www.espncricinfo.com/series/icc-men-s-t20-world-cup-2024-1411166/india-vs-south-africa-final-1415755/match-impact-player'}, {'title': 'Commentary', 'link': 'https://www.espncricinfo.com/series/icc-men-s-t20-world-cup-2024-1411166/india-vs-south-africa-final-1415755/ball-by-ball-commentary'}]}, {'title': \"2024 Men's T20 World Cup - Wikipedia\", 'link': 'https://en.wikipedia.org/wiki/2024_Men%27s_T20_World_Cup', 'snippet': 'India won all their matches, and were the first team to win a T20 World Cup undefeated. They joined England and West Indies as the only teams to win the title ...', 'position': 2, 'sitelinks': [{'title': 'Final', 'link': 'https://en.wikipedia.org/wiki/2024_Men%27s_T20_World_Cup_final'}, {'title': '2026', 'link': 'https://en.wikipedia.org/wiki/2026_Men%27s_T20_World_Cup'}, {'title': '2022', 'link': 'https://en.wikipedia.org/wiki/2022_Men%27s_T20_World_Cup'}, {'title': 'West Indies squad', 'link': 'https://en.wikipedia.org/wiki/2024_Men%27s_T20_World_Cup_squads'}]}, {'title': \"2024 Men's T20 World Cup final - Wikipedia\", 'link': 'https://en.wikipedia.org/wiki/2024_Men%27s_T20_World_Cup_final', 'snippet': 'Virat Kohli was named Player of the Match for scoring 76 runs off 59 balls. Following the victory, Kohli, Indian captain Rohit Sharma and Ravindra Jadeja ...', 'position': 3, 'sitelinks': [{'title': 'Background', 'link': 'https://en.wikipedia.org/wiki/2024_Men%27s_T20_World_Cup_final#Background'}, {'title': 'Road to the final', 'link': 'https://en.wikipedia.org/wiki/2024_Men%27s_T20_World_Cup_final#Road_to_the_final'}, {'title': 'Match', 'link': 'https://en.wikipedia.org/wiki/2024_Men%27s_T20_World_Cup_final#Match'}, {'title': 'Aftermath', 'link': 'https://en.wikipedia.org/wiki/2024_Men%27s_T20_World_Cup_final#Aftermath'}]}, {'title': 'Resolute India beat South Africa in thrilling final to lift T20 World Cup', 'link': 'https://www.theguardian.com/sport/article/2024/jun/29/india-south-africa-cricket-t20-world-cup-final', 'snippet': \"Resolute India beat South Africa in thrilling final to lift T20 World Cup · India 176-7; South Africa 169-8. India win by seven runs · Sharma's ...\", 'position': 4}, {'title': \"ICC Men's T20 World Cup 2024 | Live Score, Schedule, News\", 'link': 'https://www.espncricinfo.com/series/icc-men-s-t20-world-cup-2024-1411166', 'snippet': \"Winner. India. Matches. RESULT. Final, Bridgetown, June 29, 2024, ICC Men's T20 World Cup. IND Flag. IND. 176/7. SA Flag. SA. (20 ov, T:177) 169/8. India won by ...\", 'position': 5, 'sitelinks': [{'title': 'IND vs SA', 'link': 'https://www.espncricinfo.com/series/icc-men-s-t20-world-cup-2024-1411166/india-vs-south-africa-final-1415755/full-scorecard'}, {'title': 'Fixtures and Results', 'link': 'https://www.espncricinfo.com/series/icc-men-s-t20-world-cup-2024-1411166/match-schedule-fixtures-and-results'}, {'title': 'Points Table', 'link': 'https://www.espncricinfo.com/series/icc-men-s-t20-world-cup-2024-1411166/points-table-standings'}, {'title': 'RESULT 2nd Semi-Final', 'link': 'https://www.espncricinfo.com/series/icc-men-s-t20-world-cup-2024-1411166/england-vs-india-2nd-semi-final-1415754/full-scorecard'}]}, {'title': 'How incredible India won ICC T20 World Cup 2024 to end their 13 ...', 'link': 'https://www.aljazeera.com/sports/2024/6/30/how-incredible-india-won-the-icc-t20-world-cup-2024-to-end-13-year-wait', 'snippet': \"Between Kohli's vintage innings and Pandya's moment of redemption, Rohit's India end their long wait for a world title in Barbados.\", 'position': 6}, {'title': 'T20 World Cup 2024: Indian cricket team emerge winners', 'link': 'https://www.olympics.com/en/news/t20-world-cup-2024-final-india-vs-south-africa-cricket-match-result-score', 'snippet': \"The Indian men's cricket team beat South Africa by seven runs in the ICC Men's T20 World Cup 2024 final at the Kensington Oval in Barbados on Saturday.\", 'position': 7}, {'title': \"The moment India clinched the ICC Men's T20 World Cup 2024 trophy\", 'link': 'https://www.youtube.com/watch?v=rR92RSL78LY&pp=0gcJCdgAo7VqN5tD', 'snippet': \"The moment India clinched the ICC Men's T20 World Cup 2024 trophy. 9.7M views · 10 months ago #T20WorldCupFinal #INDvsSA ...more ...\", 'position': 8}, {'title': 'Match Highlights | SA v IND | T20WC 2024 Final - ICC Cricket', 'link': 'https://www.icc-cricket.com/tournaments/t20cricketworldcup/videos/india-script-stunning-title-win-match-highlights-sa-v-ind-t20wc-2024-final', 'snippet': \"ICC Men's T20 World Cup, 2024 India script stunning title win | Match Highlights | SA v IND | T20WC 2024 Final 29 June, 2024\", 'position': 9}, {'title': \"India wins men's T20 World Cup, defeating South Africa in dramatic ...\", 'link': 'https://www.cnn.com/2024/06/29/sport/india-south-africa-t20-mens-world-cup-final-spt-intl', 'snippet': \"India produced a brilliant performance to defeat South Africa by just seven runs in a dramatic men's T20 World Cup final, ending a long 13-year ...\", 'position': 10}], 'peopleAlsoAsk': [{'question': 'Who won the T20 World Cup in 2024?', 'snippet': \"India achieved its first ICC trophy in 11 years by winning the 2024 T20 World Cup, defeating South Africa under Rohit Sharma's captaincy. Key performances from Jasprit Bumrah, Virat Kohli, and others contributed significantly.\", 'title': 'India end 11-year ICC trophy drought with 2024 T20 World Cup triumph', 'link': 'https://timesofindia.indiatimes.com/sports/cricket/icc-mens-t20-world-cup/india-end-11-year-icc-trophy-drought-with-2024-t20-world-cup-triumph/articleshow/112916963.cms'}, {'question': 'Who is the captain of T20 World Cup 2024?', 'snippet': \"ICC men's T20I team of 2024: Rohit Sharma named captain; Bumrah, Pandya and Arshdeep also included - The Hindu.\", 'title': \"ICC men's T20I team of 2024: Rohit Sharma named captain - The Hindu\", 'link': 'https://www.thehindu.com/sport/cricket/icc-mens-t20i-team-of-2024-rohit-sharma-named-captain-bumrah-pandya-and-arshdeep-also-included/article69139560.ece'}, {'question': 'What is the prize money for the T20 World Cup 2024?', 'snippet': \"The payout for each group stage win is a 78 per cent increase from last year's sum. The 2024 ICC Men's T20 World Cup had a record prize fund of US$11.25 million, with winners India receiving US$2.45 million.\", 'title': \"Women's T20 World Cup prize money rises 225% to record US$7.96m\", 'link': 'https://www.sportspro.com/news/icc-womens-t20-world-cup-2024-record-prize-money/'}, {'question': 'What is the score of the T20 final in 2024?', 'snippet': 'India won the toss and electing to bat first, they registered a score of 176/7. In the second innings, South Africa managed to post a score of 169/8 thus India claimed the victory by 7 runs to win their second T20 World Cup title. Virat Kohli was named Player of the Match for scoring 76 runs off 59 balls.', 'title': \"2024 Men's T20 World Cup final - Wikipedia\", 'link': 'https://en.wikipedia.org/wiki/2024_Men%27s_T20_World_Cup_final'}], 'relatedSearches': [{'query': 'ICC Cricket World Cup'}, {'query': 'Latest t20 world cup winner 2024 team'}, {'query': 'T20 World Cup 2024 schedule'}, {'query': 'Latest t20 world cup winner 2024 list'}, {'query': 'Latest t20 world cup winner 2024 date'}, {'query': 'T20 World Cup 2024 winner'}, {'query': 'T20 World Cup winners list'}, {'query': 'India vs South Africa T20 World Cup 2024'}, {'query': 'T20 World Cup 2025'}], 'credits': 1}\u001b[00m\n",
      "\n",
      "\n",
      "\u001b[1m\u001b[95m# Agent:\u001b[00m \u001b[1m\u001b[92mAI Web Search Assistant\u001b[00m\n",
      "\u001b[95m## Final Answer:\u001b[00m \u001b[92m\n",
      "India won the latest T20 World Cup in 2024, defeating South Africa by seven runs in the final held on June 29, 2024. India scored 176 runs while South Africa managed 169 runs. Virat Kohli was named Player of the Match for his innings of 76 runs off 59 balls. This victory marked India's first T20 World Cup title since 2014 and they became the first team to win the tournament undefeated. [Web Search]\u001b[00m\n",
      "\n",
      "\n"
     ]
    }
   ],
   "source": [
    "result = crew.kickoff(inputs={\"user_input\": \"Who won the latest t20 world cup?\"})"
   ]
  },
  {
   "cell_type": "code",
   "execution_count": 217,
   "id": "9659e4ce",
   "metadata": {},
   "outputs": [
    {
     "data": {
      "text/markdown": [
       "### India won the latest T20 World Cup in 2024, defeating South Africa by seven runs in the final held on June 29, 2024. India scored 176 runs while South Africa managed 169 runs. Virat Kohli was named Player of the Match for his innings of 76 runs off 59 balls. This victory marked India's first T20 World Cup title since 2014 and they became the first team to win the tournament undefeated. [Web Search]"
      ],
      "text/plain": [
       "<IPython.core.display.Markdown object>"
      ]
     },
     "metadata": {},
     "output_type": "display_data"
    }
   ],
   "source": [
    "from IPython.display import Markdown, display\n",
    "display(Markdown(\"### \"+result.raw))"
   ]
  },
  {
   "cell_type": "code",
   "execution_count": 219,
   "id": "ed6c6899",
   "metadata": {},
   "outputs": [
    {
     "data": {
      "text/plain": [
       "UsageMetrics(total_tokens=6273, prompt_tokens=6137, cached_prompt_tokens=0, completion_tokens=136, successful_requests=2)"
      ]
     },
     "execution_count": 219,
     "metadata": {},
     "output_type": "execute_result"
    }
   ],
   "source": [
    "result.token_usage"
   ]
  },
  {
   "cell_type": "markdown",
   "id": "48adc5d0",
   "metadata": {},
   "source": [
    "---"
   ]
  },
  {
   "cell_type": "markdown",
   "id": "e7d885f5",
   "metadata": {},
   "source": [
    "## AtraDB Vector Search"
   ]
  },
  {
   "cell_type": "code",
   "execution_count": 179,
   "id": "9cad6028",
   "metadata": {},
   "outputs": [],
   "source": [
    "Token=os.environ[\"ASTRA_TOKEN\"]\n",
    "EndPoint=os.environ[\"ASTRA_ENDPOINT\"]"
   ]
  },
  {
   "cell_type": "code",
   "execution_count": 180,
   "id": "a106eac9",
   "metadata": {},
   "outputs": [
    {
     "name": "stdout",
     "output_type": "stream",
     "text": [
      "Connected to Astra DB: ['CollectionSmallEmbeddings']\n"
     ]
    }
   ],
   "source": [
    "from astrapy import DataAPIClient\n",
    "\n",
    "# Initialize the client\n",
    "client = DataAPIClient(Token)\n",
    "db = client.get_database_by_api_endpoint(\n",
    "  EndPoint\n",
    ")\n",
    "\n",
    "print(f\"Connected to Astra DB: {db.list_collection_names()}\")"
   ]
  },
  {
   "cell_type": "code",
   "execution_count": 181,
   "id": "cf0fa22e",
   "metadata": {},
   "outputs": [],
   "source": [
    "collection = db.get_collection(\"CollectionSmallEmbeddings\")"
   ]
  },
  {
   "cell_type": "code",
   "execution_count": 182,
   "id": "b7a87933",
   "metadata": {},
   "outputs": [],
   "source": [
    "query=\"How many days of paternity leave can be availed?\""
   ]
  },
  {
   "cell_type": "code",
   "execution_count": 183,
   "id": "c79f3f55",
   "metadata": {},
   "outputs": [],
   "source": [
    "from openai import OpenAI\n",
    "client = OpenAI()\n",
    "\n",
    "query_embedding=client.embeddings.create(\n",
    "  model=\"text-embedding-3-small\",\n",
    "  input=query,\n",
    "  encoding_format=\"float\"\n",
    ")\n"
   ]
  },
  {
   "cell_type": "code",
   "execution_count": 195,
   "id": "4b9bfe6a",
   "metadata": {},
   "outputs": [],
   "source": [
    "from astrapy.data_types import DataAPIVector\n",
    "\n",
    "results = collection.find(\n",
    "    sort={\"$vector\": DataAPIVector(query_embedding.data[0].embedding)},\n",
    "    limit=5,\n",
    "    include_similarity=True\n",
    ")\n"
   ]
  },
  {
   "cell_type": "code",
   "execution_count": 197,
   "id": "beb832a8",
   "metadata": {},
   "outputs": [
    {
     "name": "stdout",
     "output_type": "stream",
     "text": [
      "{'_id': '693147c55d554642bab1ed63f2285c55', 'page_content': 'childbirth.\\n \\nEligible\\n \\nemployees\\n \\nare\\n \\nentitled\\n \\nto\\n \\nup\\n \\nto\\n \\n7\\n \\ndays\\n \\nof\\n \\npaid\\n \\npaternity\\n \\nleave,\\n \\nwhich\\n \\ncan\\n \\nbe\\n \\nused\\n \\nwithin\\n \\n6\\n \\nmonths\\n \\nof\\n \\nthe\\n \\nchild’s\\n \\nbirth.\\n ○  Employees  are  required  to  provide  proof  of  the  birth  (e.g.,  a  birth  certificate  or  \\nhospital\\n \\nrecords)\\n \\nwhen\\n \\napplying\\n \\nfor\\n \\npaternity\\n \\nleave.\\n \\n \\nf.  Long-Term  Leave  for  Medical  Conditions  or  Personal  Circumstances  \\n1.  Leave  for  Long-Term  Medical  Conditions:  \\n ○  Employees  dealing  with  long-term  medical  conditions  that  require  extended  time  \\noff\\n \\nmay\\n \\nrequest\\n \\nlong-term\\n \\nmedical\\n \\nleave\\n.\\n \\nThis\\n \\nleave\\n \\nis\\n \\ntypically\\n \\nunpaid\\n \\nand\\n \\nrequires\\n \\nmedical\\n \\ndocumentation\\n \\nto\\n \\nsubstantiate\\n \\nthe\\n \\nrequest.\\n ○  The  company  will  review  each  case  individually  and  may  approve  long-term  \\nmedical\\n \\nleave,\\n \\nwith\\n \\nthe\\n \\nemployee\\n \\nbeing\\n \\nallowed\\n \\nto\\n \\ntake\\n \\ntime\\n \\noff\\n \\nwhile\\n \\nmaintaining\\n \\ntheir\\n \\nposition\\n \\nwithin\\n \\nthe\\n \\ncompany.', 'metadata': {'file_path': '/app/data/.cache/langflow/354908a6-5fe4-4fc8-ac41-3576737bdbb9/06b3e7ca-2178-4d28-9a49-e947fd8699b3.pdf'}, '$similarity': 0.81507856}\n",
      "{'_id': 'c0dedc882dc742bf8355a4ec4501516f', 'page_content': 'the\\n \\nMaternity\\n \\nBenefit\\n \\nAct,\\n \\n1961\\n,\\n \\nand\\n \\nother\\n \\napplicable\\n \\nlaws\\n \\nin\\n \\nIndia.\\n \\nFemale\\n \\nemployees\\n \\nare\\n \\nentitled\\n \\nto\\n \\nup\\n \\nto\\n \\n26\\n \\nweeks\\n \\nof\\n \\npaid\\n \\nmaternity\\n \\nleave,\\n \\nprovided\\n \\nthey\\n \\nmeet\\n \\nthe\\n \\neligibility\\n \\ncriteria.\\n ○  The  company  recognizes  that  maternity  leave  is  an  important  right  and  \\nencourages\\n \\nemployees\\n \\nto\\n \\ninform\\n \\nHR\\n \\nas\\n \\nsoon\\n \\nas\\n \\npossible\\n \\nto\\n \\nmake\\n \\narrangements\\n \\nfor\\n \\nleave.\\n ○  Employees  must  provide  medical  documentation  confirming  pregnancy  and  \\nexpected\\n \\ndelivery\\n \\ndates,\\n \\nand\\n \\nthey\\n \\nmust\\n \\napply\\n \\nfor\\n \\nmaternity\\n \\nleave\\n \\nat\\n \\nleast\\n \\n8\\n \\nweeks\\n \\nbefore\\n \\ntheir\\n \\ndue\\n \\ndate.\\n 2.  Paternity  Leave:  \\n ○  AKAIWorks  LLP  provides  paternity  leave  to  male  employees  in  the  case  of  \\nchildbirth.\\n \\nEligible\\n \\nemployees\\n \\nare\\n \\nentitled\\n \\nto\\n \\nup\\n \\nto\\n \\n7\\n \\ndays\\n \\nof\\n \\npaid\\n \\npaternity\\n \\nleave,\\n \\nwhich\\n \\ncan\\n \\nbe\\n \\nused\\n \\nwithin\\n \\n6\\n \\nmonths\\n \\nof\\n \\nthe\\n \\nchild’s\\n \\nbirth.', 'metadata': {'file_path': '/app/data/.cache/langflow/354908a6-5fe4-4fc8-ac41-3576737bdbb9/06b3e7ca-2178-4d28-9a49-e947fd8699b3.pdf'}, '$similarity': 0.8109356}\n",
      "{'_id': '97a8fe5a4b624107ae92eb83e19defcb', 'page_content': 'adoption\\n \\nof\\n \\na\\n \\nchild.\\n \\nThis\\n \\nleave\\n \\nis\\n \\nnot\\n \\naccrued\\n \\nand\\n \\nmust\\n \\nbe\\n \\ntaken\\n \\nin\\n \\none\\n \\ngo\\n \\nwithin\\n \\n3\\n \\nmonths\\n \\nof\\n \\nthe\\n \\nbirth\\n \\nor\\n \\nadoption.\\n ●  Eligibility :  Employees  must  have  been  with  the  company  for  a  minimum  of  6  months  to  \\nqualify\\n \\nfor\\n \\npaternity\\n \\nleave.\\n \\n \\ng.  Statutory  Leave  Accrual  (Public  Holidays,  Jury  Duty,  Voting,  Bereavement  Leave):  \\n●  Public  Holidays :  Employees  do  not  accrue  public  holidays;  these  are  granted  on  the  \\ndesignated\\n \\ndays\\n \\nas\\n \\nspecified\\n \\nin\\n \\nthe\\n \\ncompany\\n \\ncalendar.\\n \\nIf\\n \\na\\n \\npublic\\n \\nholiday\\n \\nfalls\\n \\non\\n \\na\\n \\nweekend,\\n \\nit\\n \\nmay\\n \\nnot\\n \\nbe\\n \\nsubstituted\\n \\nunless\\n \\nrequired\\n \\nby\\n \\noperational\\n \\nneeds.\\n ●  Jury  Duty :  Employees  are  granted  paid  time  off  for  jury  duty,  but  no  leave  is  accrued  for  \\njury\\n \\nduty\\n \\ndays.\\n \\nThe\\n \\ncompany\\n \\nwill\\n \\ncompensate\\n \\nemployees\\n \\nat\\n \\ntheir\\n \\nregular\\n \\npay\\n \\nrate,\\n \\nup\\n \\nto\\n \\nthe\\n \\ntime\\n \\nthey\\n \\nspend\\n \\nin\\n \\njury\\n \\nservice.', 'metadata': {'file_path': '/app/data/.cache/langflow/354908a6-5fe4-4fc8-ac41-3576737bdbb9/06b3e7ca-2178-4d28-9a49-e947fd8699b3.pdf'}, '$similarity': 0.8090591}\n",
      "{'_id': 'df50c9ed7cd44155a674012dfa363f20', 'page_content': 'preceding\\n \\nthe\\n \\nexpected\\n \\ndate\\n \\nof\\n \\ndelivery.\\n ○  Additional  Leave :  In  certain  cases,  employees  may  be  eligible  for  additional  \\nunpaid\\n \\nleave\\n \\nafter\\n \\nthe\\n \\nmaternity\\n \\nleave\\n \\nperiod.\\n 3.  Paternity  Leave:  \\n ○  Entitlement :  Male  employees  are  entitled  to  7  days  of  paid  paternity  leave  in  the  \\nevent\\n \\nof\\n \\nthe\\n \\nbirth\\n \\nor\\n \\nadoption\\n \\nof\\n \\na\\n \\nchild.\\n ○  Eligibility :  Employees  must  have  been  with  the  company  for  a  minimum  of  6  \\nmonths\\n \\nto\\n \\nbe\\n \\neligible\\n \\nfor\\n \\npaternity\\n \\nleave.\\n ○  Requesting  Leave :  Paternity  leave  should  be  requested  2  weeks  in  advance,  \\nexcept\\n \\nin\\n \\ncases\\n \\nof\\n \\nemergency.\\n 4.  Bereavement  Leave:  \\n ○  Entitlement :  Employees  are  entitled  to  3  days  of  paid  leave  in  the  event  of  the  \\ndeath\\n \\nof\\n \\nan\\n \\nimmediate\\n \\nfamily\\n \\nmember\\n \\n(spouse,\\n \\nchildren,\\n \\nparents,\\n \\nsiblings).\\n ○  Extended  Family :  Leave  for  the  death  of  extended  family  members  (such  as  \\ngrandparents,', 'metadata': {'file_path': '/app/data/.cache/langflow/354908a6-5fe4-4fc8-ac41-3576737bdbb9/06b3e7ca-2178-4d28-9a49-e947fd8699b3.pdf'}, '$similarity': 0.79859424}\n",
      "{'_id': 'e5ef08f58d384a39aa28f7fb72c4fdf4', 'page_content': 'e.  Maternity  Leave  Accrual:  \\n●  Maternity  Leave :  Maternity  leave  of  26  weeks  is  provided  under  the  Maternity  Benefit  \\nAct,\\n \\n1961,\\n \\nand\\n \\nis\\n \\nnot\\n \\naffected\\n \\nby\\n \\nthe\\n \\naccrual\\n \\nprocess.\\n \\nIt\\n \\nis\\n \\na\\n \\nstatutory\\n \\nentitlement\\n \\nand\\n \\ndoes\\n \\nnot\\n \\nneed\\n \\nto\\n \\nbe\\n \\naccrued.\\n \\nIt\\n \\nis\\n \\navailable\\n \\nupon\\n \\nrequest,\\n \\nprovided\\n \\nthe\\n \\nemployee\\n \\nhas\\n \\nworked\\n \\nfor\\n \\nat\\n \\nleast\\n \\n80\\n \\ndays\\n \\nin\\n \\nthe\\n \\n12\\n \\nmonths\\n \\npreceding\\n \\nthe\\n \\nexpected\\n \\ndelivery\\n \\ndate.\\n ●  Unused  Leave :  Employees  on  maternity  leave  can  also  utilize  accrued  vacation  leave  (if  \\napplicable)\\n \\nduring\\n \\ntheir\\n \\nleave\\n \\nperiod,\\n \\nprovided\\n \\nit\\n \\nis\\n \\napproved\\n \\nby\\n \\nHR\\n \\nand\\n \\nis\\n \\nwithin\\n \\nthe\\n \\nemployee’s\\n \\nentitlements.\\n \\n \\nf.  Paternity  Leave  Accrual:  \\n●  Paternity  Leave :  Paternity  leave  of  7  days  is  granted  to  male  employees  for  the  birth  or  \\nadoption\\n \\nof\\n \\na\\n \\nchild.\\n \\nThis\\n \\nleave\\n \\nis\\n \\nnot\\n \\naccrued\\n \\nand\\n \\nmust\\n \\nbe\\n \\ntaken\\n \\nin\\n \\none\\n \\ngo\\n \\nwithin\\n \\n3', 'metadata': {'file_path': '/app/data/.cache/langflow/354908a6-5fe4-4fc8-ac41-3576737bdbb9/06b3e7ca-2178-4d28-9a49-e947fd8699b3.pdf'}, '$similarity': 0.7918664}\n"
     ]
    }
   ],
   "source": [
    "for doc in results:\n",
    "    print(doc)\n"
   ]
  },
  {
   "cell_type": "markdown",
   "id": "8fb0de94",
   "metadata": {},
   "source": [
    "---"
   ]
  },
  {
   "cell_type": "markdown",
   "id": "f45def7c",
   "metadata": {},
   "source": [
    "## AstraDB Vector Tool (Custom CrewAI Tools)"
   ]
  },
  {
   "cell_type": "code",
   "execution_count": 160,
   "id": "552958da",
   "metadata": {},
   "outputs": [],
   "source": [
    "from astrapy import DataAPIClient\n",
    "from astrapy.data_types import DataAPIVector\n",
    "from openai import OpenAI\n",
    "\n",
    "def search_documents(query: str, top_k: int = 5) -> list[str]:\n",
    "    # Set up OpenAI\n",
    "    openai_client = OpenAI()\n",
    "    query_embedding = openai_client.embeddings.create(\n",
    "        model=\"text-embedding-3-small\",\n",
    "        input=query,\n",
    "        encoding_format=\"float\"\n",
    "    ).data[0].embedding\n",
    "\n",
    "    # Connect to Astra\n",
    "    astra_client = DataAPIClient(Token)\n",
    "    db = astra_client.get_database_by_api_endpoint(EndPoint)\n",
    "    collection = db.get_collection(\"CollectionSmallEmbeddings\")\n",
    "\n",
    "    # Query Astra\n",
    "    cursor = collection.find(\n",
    "        sort={\"$vector\": DataAPIVector(query_embedding)},\n",
    "        limit=top_k,\n",
    "        include_similarity=True\n",
    "    )\n",
    "\n",
    "    # Return documents\n",
    "    results = []\n",
    "    for doc in cursor:\n",
    "        text = doc.get(\"text\") or str(doc)\n",
    "        score = doc.get(\"$similarity\", 0)\n",
    "        results.append(f\"[{score:.4f}] {text}\")\n",
    "    return results\n"
   ]
  },
  {
   "cell_type": "code",
   "execution_count": 161,
   "id": "fa02b076",
   "metadata": {},
   "outputs": [],
   "source": [
    "from crewai.tools import BaseTool\n",
    "\n",
    "class AstraSearchTool(BaseTool):\n",
    "    name: str = \"VectorTool\"\n",
    "    description: str = \"Search the vector store for information about employee leave policy of AKAIWorks\"\n",
    "\n",
    "    def _run(self, query: str) -> str:\n",
    "        # This is where your vector search logic goes\n",
    "        results = search_documents(query)\n",
    "        return \"\\n\".join(results)\n"
   ]
  },
  {
   "cell_type": "code",
   "execution_count": 162,
   "id": "eb396807",
   "metadata": {},
   "outputs": [],
   "source": [
    "astra_tool = AstraSearchTool()"
   ]
  },
  {
   "cell_type": "markdown",
   "id": "31a3a153",
   "metadata": {},
   "source": [
    "---"
   ]
  },
  {
   "cell_type": "markdown",
   "id": "95e49dd4",
   "metadata": {},
   "source": [
    "## Tool Routing using CrewAI"
   ]
  },
  {
   "cell_type": "markdown",
   "id": "0903f850",
   "metadata": {},
   "source": [
    "<img src=\"./Assets/2.4 Tool Routing.png\">"
   ]
  },
  {
   "cell_type": "code",
   "execution_count": 220,
   "id": "df344e2f",
   "metadata": {},
   "outputs": [],
   "source": [
    "llm = LLM(\n",
    "    model=\"gpt-4o-mini\",\n",
    "    temperature=0.8,\n",
    "    max_tokens=150,\n",
    "    top_p=0.9,\n",
    "    frequency_penalty=0.1,\n",
    "    presence_penalty=0.1,\n",
    "    stop=[\"END\"],\n",
    "    seed=42\n",
    ")\n"
   ]
  },
  {
   "cell_type": "code",
   "execution_count": 221,
   "id": "b3f688b7",
   "metadata": {},
   "outputs": [],
   "source": [
    "Query_Responder=Agent(\n",
    "    role=\"AI Search Assistant\",\n",
    "    goal=\"Help users by either answering their queries directly using built-in knowledge,\"\n",
    "        \" or use the VectorTool when the query is about employee leave policy of AKAIWorks \"\n",
    "        \"or performing a live web search using the Google Serper API when up-to-date or external information is required.\",\n",
    "\n",
    "    backstory=\"You were built to bridge the gap between real-time information and artificial intelligence. \"\n",
    "            \"Equipped with access to the web through the Serper API, employee leave policy via the vector tool, you excel at retrieving the most recent, relevant data when needed.\"\n",
    "            \" But you also know when to keep things simple — using your own understanding to answer straightforward questions without delay.\"\n",
    "            \" You’re the perfect blend of real-time access and inherent intelligence. \"\n",
    "            \"Remember that company name might not be explicitly mentioned but assume that the leave policy query is implicitly for the organisation.\"\"\",\n",
    "    tools=[SerperDevTool(),astra_tool],\n",
    "    verbose=True,\n",
    "    llm=llm\n",
    ")\n"
   ]
  },
  {
   "cell_type": "code",
   "execution_count": 222,
   "id": "a050929f",
   "metadata": {},
   "outputs": [],
   "source": [
    "handle_user_query= Task(\n",
    "    description=(\n",
    "        \"Receive and respond to a user's question - {user_input} \"\n",
    "        \"If the query is simple or general knowledge (e.g., definitions, common facts), \"\n",
    "        \"answer using your own knowledge. \"\n",
    "        \"If the query appears to require current or web-based information \"\n",
    "        \"(e.g., news, trending topics, recent data), \"\n",
    "        \"perform a web search using the Serper API tool to gather relevant information first. \"\n",
    "        \"If the query is about the employee leave policy of AKAIWorks, \"\n",
    "        \"perform a vector database search using vector search tool.\"\n",
    "        \"Remember that company name might not be explicitly mentioned but assume that the leave policy query is implicitly for the organisation.\"\n",
    "        \"Ensure your response is concise, helpful, and clearly indicates whether it was based on a search or internal understanding.\"\n",
    "        \"Always end your answer by saying which source you used: [LLM], [Web Search], or [Vector DB].\"\n",
    "    ),\n",
    "    expected_output=(\n",
    "        \"A final answer to the user's question, either using internal knowledge or based on live search results. \"\n",
    "        \"If using search, summarize the result clearly and include key information retrieved. \"\n",
    "        \"Indicate whether the result was from the web or internal knowledge.\"\n",
    "        \"Always end your answer by saying which source you used: [LLM], [Web Search], or [Vector DB].\"\n",
    "    ),\n",
    "    agent=Query_Responder\n",
    ")"
   ]
  },
  {
   "cell_type": "code",
   "execution_count": 223,
   "id": "c4ab804c",
   "metadata": {},
   "outputs": [],
   "source": [
    "crew = Crew(\n",
    "    agents=[Query_Responder],\n",
    "    tasks=[handle_user_query],\n",
    "    process=Process.sequential\n",
    ")\n"
   ]
  },
  {
   "cell_type": "code",
   "execution_count": 224,
   "id": "479b7e48",
   "metadata": {},
   "outputs": [
    {
     "name": "stdout",
     "output_type": "stream",
     "text": [
      "\u001b[1m\u001b[95m# Agent:\u001b[00m \u001b[1m\u001b[92mAI Search Assistant\u001b[00m\n",
      "\u001b[95m## Task:\u001b[00m \u001b[92mReceive and respond to a user's question - How many paternity leaves are employees entitled to? If the query is simple or general knowledge (e.g., definitions, common facts), answer using your own knowledge. If the query appears to require current or web-based information (e.g., news, trending topics, recent data), perform a web search using the Serper API tool to gather relevant information first. If the query is about the employee leave policy of AKAIWorks, perform a vector database search using vector search tool.Remember that company name might not be explicitly mentioned but assume that the leave policy query is implicitly for the organisation.Ensure your response is concise, helpful, and clearly indicates whether it was based on a search or internal understanding.Always end your answer by saying which source you used: [LLM], [Web Search], or [Vector DB].\u001b[00m\n"
     ]
    },
    {
     "name": "stdout",
     "output_type": "stream",
     "text": [
      "\n",
      "\n",
      "\u001b[1m\u001b[95m# Agent:\u001b[00m \u001b[1m\u001b[92mAI Search Assistant\u001b[00m\n",
      "\u001b[95m## Thought:\u001b[00m \u001b[92mAction: VectorTool\u001b[00m\n",
      "\u001b[95m## Using tool:\u001b[00m \u001b[92mVectorTool\u001b[00m\n",
      "\u001b[95m## Tool Input:\u001b[00m \u001b[92m\n",
      "\"{\\\"query\\\": \\\"paternity leave policy AKAIWorks\\\"}\"\u001b[00m\n",
      "\u001b[95m## Tool Output:\u001b[00m \u001b[92m\n",
      "[0.8236] {'_id': 'c0dedc882dc742bf8355a4ec4501516f', 'page_content': 'the\\n \\nMaternity\\n \\nBenefit\\n \\nAct,\\n \\n1961\\n,\\n \\nand\\n \\nother\\n \\napplicable\\n \\nlaws\\n \\nin\\n \\nIndia.\\n \\nFemale\\n \\nemployees\\n \\nare\\n \\nentitled\\n \\nto\\n \\nup\\n \\nto\\n \\n26\\n \\nweeks\\n \\nof\\n \\npaid\\n \\nmaternity\\n \\nleave,\\n \\nprovided\\n \\nthey\\n \\nmeet\\n \\nthe\\n \\neligibility\\n \\ncriteria.\\n ○  The  company  recognizes  that  maternity  leave  is  an  important  right  and  \\nencourages\\n \\nemployees\\n \\nto\\n \\ninform\\n \\nHR\\n \\nas\\n \\nsoon\\n \\nas\\n \\npossible\\n \\nto\\n \\nmake\\n \\narrangements\\n \\nfor\\n \\nleave.\\n ○  Employees  must  provide  medical  documentation  confirming  pregnancy  and  \\nexpected\\n \\ndelivery\\n \\ndates,\\n \\nand\\n \\nthey\\n \\nmust\\n \\napply\\n \\nfor\\n \\nmaternity\\n \\nleave\\n \\nat\\n \\nleast\\n \\n8\\n \\nweeks\\n \\nbefore\\n \\ntheir\\n \\ndue\\n \\ndate.\\n 2.  Paternity  Leave:  \\n ○  AKAIWorks  LLP  provides  paternity  leave  to  male  employees  in  the  case  of  \\nchildbirth.\\n \\nEligible\\n \\nemployees\\n \\nare\\n \\nentitled\\n \\nto\\n \\nup\\n \\nto\\n \\n7\\n \\ndays\\n \\nof\\n \\npaid\\n \\npaternity\\n \\nleave,\\n \\nwhich\\n \\ncan\\n \\nbe\\n \\nused\\n \\nwithin\\n \\n6\\n \\nmonths\\n \\nof\\n \\nthe\\n \\nchild’s\\n \\nbirth.', 'metadata': {'file_path': '/app/data/.cache/langflow/354908a6-5fe4-4fc8-ac41-3576737bdbb9/06b3e7ca-2178-4d28-9a49-e947fd8699b3.pdf'}, '$similarity': 0.82363725}\n",
      "[0.8195] {'_id': 'c30773ab711c4e6dbe493a69a01a5172', 'page_content': 'to\\n \\nensure\\n \\nthat\\n \\nthe\\n \\nleave\\n \\nis\\n \\nrecorded\\n \\ncorrectly.\\n ○  Maternity  and  paternity  leave  are  subject  to  the  conditions  outlined  in  the  \\nMaternity\\n \\nLeave\\n \\nPolicy\\n \\nand\\n \\nother\\n \\nrelevant\\n \\ncompany\\n \\npolicies.\\n \\n \\n10.  Leave  Policy  Exceptions  and  Special  Provisions  \\nAt  AKAIWorks  LLP ,  we  recognize  that  there  may  be  exceptional  circumstances  that  require  \\ndeviations\\n \\nfrom\\n \\nthe\\n \\nstandard\\n \\nleave\\n \\npolicy.\\n \\nThis\\n \\nsection\\n \\noutlines\\n \\nspecific\\n \\nsituations\\n \\nwhere\\n \\nexceptions\\n \\nor\\n \\nspecial\\n \\nprovisions\\n \\nmay\\n \\napply,\\n \\nensuring\\n \\nthat\\n \\nemployees\\n \\nare\\n \\nsupported\\n \\nduring\\n \\nunforeseen\\n \\nevents\\n \\nor\\n \\nunique\\n \\nsituations\\n \\nthat\\n \\nrequire\\n \\nflexibility\\n \\nin\\n \\nleave\\n \\nmanagement.\\n \\n \\na.  Leave  for  Employees  with  Special  Needs  or  Disabilities  \\n1.  Special  Leave  Provisions  for  Employees  with  Disabilities:  \\n ○  AKAIWorks  LLP  is  committed  to  supporting  employees  with  disabilities  by  \\noffering\\n \\nflexible\\n \\nleave\\n \\noptions', 'metadata': {'file_path': '/app/data/.cache/langflow/354908a6-5fe4-4fc8-ac41-3576737bdbb9/06b3e7ca-2178-4d28-9a49-e947fd8699b3.pdf'}, '$similarity': 0.8194514}\n",
      "[0.8182] {'_id': '7496d13752d0467882197c974d720a45', 'page_content': 'communicated\\n \\npromptly\\n \\nto\\n \\nall\\n \\nemployees,\\n \\nand\\n \\nwe\\n \\nwill\\n \\ntake\\n \\ninto\\n \\naccount\\n \\nemployee\\n \\nfeedback\\n \\nduring\\n \\nthe\\n \\nreview\\n \\nprocess.\\n \\nBy\\n \\nmaintaining\\n \\nan\\n \\nopen\\n \\ndialogue\\n \\nabout\\n \\nthe\\n \\npolicy\\n \\nand\\n \\nbeing\\n \\nflexible\\n \\nin\\n \\naddressing\\n \\nthe\\n \\ndiverse\\n \\nneeds\\n \\nof\\n \\nour\\n \\nworkforce,\\n \\nwe\\n \\naim\\n \\nto\\n \\ncreate\\n \\na\\n \\nsupportive\\n \\nenvironment\\n \\nfor\\n \\neveryone\\n \\nat\\n \\nAKAIWorks\\n \\nLLP\\n.\\n \\nEmployees  are  encouraged  to  familiarize  themselves  with  this  policy  and  take  full  advantage  of  \\ntheir\\n \\nleave\\n \\nentitlements\\n \\nto\\n \\nmaintain\\n \\na\\n \\nhealthy\\n \\nwork-life\\n \\nbalance.\\n \\nWe\\n \\nunderstand\\n \\nthat\\n \\nbalancing\\n \\nwork  and  personal  life  can  be  challenging,  but  by  respecting  the  guidelines  laid  out  in  this  policy,  \\nwe\\n \\ncan\\n \\nensure\\n \\nthat\\n \\nboth\\n \\nthe\\n \\ncompany\\n \\nand\\n \\nits\\n \\nemployees\\n \\nsucceed\\n \\nand\\n \\nthrive.\\n \\nBy  following  the  guidelines  in  this  Leave  Policy ,  employees  contribute  to  maintaining  a  \\nwell-structured\\n \\nand\\n \\nharmonious', 'metadata': {'file_path': '/app/data/.cache/langflow/354908a6-5fe4-4fc8-ac41-3576737bdbb9/06b3e7ca-2178-4d28-9a49-e947fd8699b3.pdf'}, '$similarity': 0.8181653}\n",
      "[0.8135] {'_id': 'c1f5eaa30fc549f396defba4c4b4019e', 'page_content': 'in\\n \\ntheir\\n \\nemployment\\n \\ncontract.\\n \\nFor\\n \\nexample,\\n \\nthey\\n \\nmay\\n \\nnot\\n \\nbe\\n \\neligible\\n \\nfor\\n \\nfull\\n \\npaid\\n \\nleave\\n \\nuntil\\n \\nthe\\n \\nprobation\\n \\nperiod\\n \\nhas\\n \\nbeen\\n \\ncompleted\\n \\nsuccessfully.\\n \\n ●  Employees  on  Leave  of  Absence :  Employees  who  are  currently  on  a  leave  of  \\nabsence,\\n \\nsuch\\n \\nas\\n \\nmedical\\n \\nleave\\n \\nor\\n \\nfamily\\n \\nleave,\\n \\nwill\\n \\ncontinue\\n \\nto\\n \\nbe\\n \\ncovered\\n \\nunder\\n \\nthis\\n \\npolicy,\\n \\nsubject\\n \\nto\\n \\nthe\\n \\nterms\\n \\nand\\n \\nconditions\\n \\nthat\\n \\napply\\n \\nto\\n \\ntheir\\n \\nspecific\\n \\nleave\\n \\ntype.\\n \\n ●  Employees  Working  Remotely :  Employees  who  work  remotely  or  have  flexible  working  \\narrangements\\n \\nare\\n \\nentitled\\n \\nto\\n \\nthe\\n \\nsame\\n \\nleave\\n \\nbenefits\\n \\nas\\n \\non-site\\n \\nemployees,\\n \\nprovided\\n \\nthey\\n \\ncomply\\n \\nwith\\n \\nthe\\n \\npolicy’s\\n \\nprocedures\\n \\nfor\\n \\nrequesting\\n \\nleave.\\n \\n \\n3.  Types  of  Leave  \\nAt  AKAIWorks  LLP ,  we  provide  a  variety  of  leave  options  to  ensure  that  employees  can  take  \\ntime\\n \\noff\\n \\nfor\\n \\npersonal,\\n \\nmedical,\\n \\nand\\n \\nfamily-related', 'metadata': {'file_path': '/app/data/.cache/langflow/354908a6-5fe4-4fc8-ac41-3576737bdbb9/06b3e7ca-2178-4d28-9a49-e947fd8699b3.pdf'}, '$similarity': 0.81354696}\n",
      "[0.8129] {'_id': '59fff31dbb2649019d463753da48218b', 'page_content': 'the\\n \\nFactories\\n \\nAct,\\n \\n1948\\n,\\n \\nthe\\n \\nMaternity\\n \\nBenefit\\n \\nAct,\\n \\n1961\\n,\\n \\nand\\n \\nother\\n \\napplicable\\n \\nstate\\n \\nor\\n \\ncentral\\n \\nlaws.\\n \\nLeave\\n \\nrecords\\n \\nare\\n \\nmaintained\\n \\nto\\n \\nensure\\n \\ncompliance\\n \\nwith\\n \\nstatutory  regulations,  and  HR  will  submit  any  required  reports  to  regulatory  \\nauthorities\\n \\nas\\n \\nnecessary.\\n ○  HR  is  responsible  for  ensuring  that  all  leave  entitlements  are  accurately  \\ncalculated\\n \\nand\\n \\nreported\\n \\nin\\n \\ncompliance\\n \\nwith\\n \\nlegal\\n \\nrequirements,\\n \\nincluding\\n \\npaid\\n \\nleaves,\\n \\nsick\\n \\nleave,\\n \\nmaternity\\n \\nleave,\\n \\nand\\n \\nother\\n \\nstatutory\\n \\nleave.\\n \\n \\n12.  Conclusion  \\nAt  AKAIWorks  LLP ,  we  recognize  that  our  employees  are  our  greatest  asset,  and  we  are  \\ncommitted\\n \\nto\\n \\ncreating\\n \\na\\n \\nwork\\n \\nenvironment\\n \\nthat\\n \\npromotes\\n \\nboth\\n \\nproductivity\\n \\nand\\n \\npersonal\\n \\nwell-being.\\n \\nThe\\n \\nLeave\\n \\nPolicy\\n \\nhas\\n \\nbeen\\n \\ncarefully\\n \\ndesigned\\n \\nto\\n \\nensure\\n \\nthat\\n \\nall\\n \\nemployees\\n \\nhave\\n \\naccess\\n \\nto\\n \\nthe\\n \\nnecessary\\n \\nleave\\n \\nentitlements', 'metadata': {'file_path': '/app/data/.cache/langflow/354908a6-5fe4-4fc8-ac41-3576737bdbb9/06b3e7ca-2178-4d28-9a49-e947fd8699b3.pdf'}, '$similarity': 0.81295}\u001b[00m\n",
      "\n",
      "\n",
      "\u001b[1m\u001b[95m# Agent:\u001b[00m \u001b[1m\u001b[92mAI Search Assistant\u001b[00m\n",
      "\u001b[95m## Final Answer:\u001b[00m \u001b[92m\n",
      "Employees at AKAIWorks are entitled to up to 7 days of paid paternity leave, which can be utilized within 6 months of the child’s birth. This leave is provided to male employees in the case of childbirth. [Vector DB]\u001b[00m\n",
      "\n",
      "\n"
     ]
    }
   ],
   "source": [
    "result = crew.kickoff(inputs={\"user_input\": \"How many paternity leaves are employees entitled to?\"})"
   ]
  },
  {
   "cell_type": "code",
   "execution_count": 225,
   "id": "2bbf3ecc",
   "metadata": {},
   "outputs": [
    {
     "data": {
      "text/markdown": [
       "### Employees at AKAIWorks are entitled to up to 7 days of paid paternity leave, which can be utilized within 6 months of the child’s birth. This leave is provided to male employees in the case of childbirth. [Vector DB]"
      ],
      "text/plain": [
       "<IPython.core.display.Markdown object>"
      ]
     },
     "metadata": {},
     "output_type": "display_data"
    }
   ],
   "source": [
    "display(Markdown(\"### \"+result.raw))\n"
   ]
  },
  {
   "cell_type": "markdown",
   "id": "8038d96a",
   "metadata": {},
   "source": [
    "---"
   ]
  },
  {
   "cell_type": "markdown",
   "id": "4d4f1378",
   "metadata": {},
   "source": [
    "So we saw how to call external applications using __Tools__, now we will move to [Agents solving multiple tasks in steps](./3.%20MultiStep%20Agents.ipynb)"
   ]
  },
  {
   "cell_type": "markdown",
   "id": "198ea297",
   "metadata": {},
   "source": [
    "---\n",
    "---"
   ]
  },
  {
   "cell_type": "markdown",
   "id": "8a7b5616",
   "metadata": {},
   "source": [
    "<img src=\"./Assets/profile_s.png\" width=100> \n",
    "\n",
    "Hi! I'm Abhinav! I have spent over 15 years consulting and leadership roles in data science, machine learning and AI. My current focus is in the applied Generative AI domain focussing on solving enterprise needs through contextual intelligence. I'm passionate about AI advancements constantly exploring emerging technologies to push the boundaries and create positive impacts in the world. Let’s build the future, together!\n",
    "\n",
    "[If you haven't already, get your copy of A Simple Guide to Retrieval Augmented Generation here](https://mng.bz/6ePo)\n",
    "\n",
    "<a href=\"https://mng.bz/6ePo\" target=\"_blank\">\n",
    "    <img src=\"./Assets/NewMEAPFooter.png\" alt=\"New MEAP\" width= 70%\" />\n",
    "</a>\n",
    "\n",
    "#### If you'd like to chat, I'd be very happy to connect\n",
    "\n",
    "[![GitHub followers](https://img.shields.io/badge/Github-000000?style=for-the-badge&logo=github&logoColor=black&color=orange)](https://github.com/abhinav-kimothi)\n",
    "[![LinkedIn](https://img.shields.io/badge/LinkedIn-000000?style=for-the-badge&logo=linkedin&logoColor=orange&color=black)](https://www.linkedin.com/comm/mynetwork/discovery-see-all?usecase=PEOPLE_FOLLOWS&followMember=abhinav-kimothi)\n",
    "[![Medium](https://img.shields.io/badge/Medium-000000?style=for-the-badge&logo=medium&logoColor=black&color=orange)](https://medium.com/@abhinavkimothi)\n",
    "[![Insta](https://img.shields.io/badge/Instagram-000000?style=for-the-badge&logo=instagram&logoColor=orange&color=black)](https://www.instagram.com/akaiworks/)\n",
    "[![Mail](https://img.shields.io/badge/email-000000?style=for-the-badge&logo=gmail&logoColor=black&color=orange)](mailto:abhinav.kimothi.ds@gmail.com)\n",
    "[![X](https://img.shields.io/badge/Follow-000000?style=for-the-badge&logo=X&logoColor=orange&color=black)](https://twitter.com/abhinav_kimothi)\n",
    "[![Linktree](https://img.shields.io/badge/Linktree-000000?style=for-the-badge&logo=linktree&logoColor=black&color=orange)](https://linktr.ee/abhinavkimothi)\n",
    "[![Gumroad](https://img.shields.io/badge/Gumroad-000000?style=for-the-badge&logo=gumroad&logoColor=orange&color=black)](https://abhinavkimothi.gumroad.com/)\n",
    "\n",
    "---"
   ]
  }
 ],
 "metadata": {
  "kernelspec": {
   "display_name": ".agent_env",
   "language": "python",
   "name": "python3"
  },
  "language_info": {
   "codemirror_mode": {
    "name": "ipython",
    "version": 3
   },
   "file_extension": ".py",
   "mimetype": "text/x-python",
   "name": "python",
   "nbconvert_exporter": "python",
   "pygments_lexer": "ipython3",
   "version": "3.11.12"
  }
 },
 "nbformat": 4,
 "nbformat_minor": 5
}
