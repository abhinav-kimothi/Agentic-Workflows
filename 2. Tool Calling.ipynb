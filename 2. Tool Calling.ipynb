{
 "cells": [
  {
   "cell_type": "markdown",
   "id": "827b068f",
   "metadata": {},
   "source": [
    "<img src=\"./Assets/1.1 AgWorkHeaderImage.png\">"
   ]
  },
  {
   "cell_type": "markdown",
   "id": "dd1ccd39",
   "metadata": {},
   "source": [
    "## Tool Use\n",
    "\n",
    "It combines MEMORY, REASONING, PLANNING, and __ACTIONS (often via EXTERNAL TOOLS)__ to fulfil TASKS.\n",
    "\n",
    "Tools are methods that help LLMs accomplish actions that require interaction with entities outside of the model.\n",
    "\n",
    "<img src=\"./Assets/2.1 Tool Use Single.png\">"
   ]
  },
  {
   "cell_type": "markdown",
   "id": "137b408b",
   "metadata": {},
   "source": [
    "---"
   ]
  },
  {
   "cell_type": "code",
   "execution_count": 76,
   "id": "90dd3d20",
   "metadata": {},
   "outputs": [
    {
     "data": {
      "text/plain": [
       "True"
      ]
     },
     "execution_count": 76,
     "metadata": {},
     "output_type": "execute_result"
    }
   ],
   "source": [
    "from dotenv import load_dotenv\n",
    "import os\n",
    "\n",
    "load_dotenv()"
   ]
  },
  {
   "cell_type": "code",
   "execution_count": 77,
   "id": "c405d0b4",
   "metadata": {},
   "outputs": [],
   "source": [
    "from crewai import LLM\n",
    "llm = LLM(model=\"gpt-4o-mini\")"
   ]
  },
  {
   "cell_type": "code",
   "execution_count": 78,
   "id": "580f6fc0",
   "metadata": {},
   "outputs": [],
   "source": [
    "from crewai import Agent\n",
    "from crewai_tools import SerperDevTool"
   ]
  },
  {
   "cell_type": "code",
   "execution_count": 79,
   "id": "5edc89ba",
   "metadata": {},
   "outputs": [],
   "source": [
    "Query_Responder=Agent(\n",
    "    role=f\"\"\"AI Web Search Assistant\"\"\",\n",
    "    goal=f\"Help users by either answering their queries directly using built-in knowledge or performing a live web search using the Google Serper API when up-to-date or external information is required.\",\n",
    "    backstory=f\"\"\"You were built to bridge the gap between real-time information and artificial intelligence. Equipped with access to the web through the Serper API, you excel at retrieving the most recent, relevant data when needed. But you also know when to keep things simple — using your own understanding to answer straightforward questions without delay. You’re the perfect blend of real-time access and inherent intelligence.\"\"\",\n",
    "    tools=[SerperDevTool()],\n",
    "    verbose=True,\n",
    "    llm=llm\n",
    ")\n"
   ]
  },
  {
   "cell_type": "code",
   "execution_count": 80,
   "id": "08cec27f",
   "metadata": {},
   "outputs": [],
   "source": [
    "from crewai import Task"
   ]
  },
  {
   "cell_type": "code",
   "execution_count": 81,
   "id": "08274352",
   "metadata": {},
   "outputs": [],
   "source": [
    "handle_user_query= Task(\n",
    "    description=(\n",
    "        \"Receive and respond to a user's question - {user_input} \"\n",
    "        \"If the query is simple or general knowledge (e.g., definitions, common facts), \"\n",
    "        \"answer using your own knowledge. \"\n",
    "        \"If the query appears to require current or web-based information \"\n",
    "        \"(e.g., news, trending topics, recent data), \"\n",
    "        \"perform a web search using the Serper API tool to gather relevant information first. \"\n",
    "        \"Ensure your response is concise, helpful, and clearly indicates whether it was based on a search or internal understanding.\"\n",
    "    ),\n",
    "    expected_output=(\n",
    "        \"A final answer to the user's question, either using internal knowledge or based on live search results. \"\n",
    "        \"If using search, summarize the result clearly and include key information retrieved. \"\n",
    "        \"Indicate whether the result was from the web or internal knowledge.\"\n",
    "    ),\n",
    "    agent=Query_Responder\n",
    ")"
   ]
  },
  {
   "cell_type": "code",
   "execution_count": 82,
   "id": "e36c6351",
   "metadata": {},
   "outputs": [],
   "source": [
    "from crewai import Crew, Process\n",
    "\n",
    "crew = Crew(\n",
    "    agents=[Query_Responder],\n",
    "    tasks=[handle_user_query],\n",
    "    process=Process.sequential\n",
    ")\n"
   ]
  },
  {
   "cell_type": "code",
   "execution_count": 89,
   "id": "f25bf7a2",
   "metadata": {},
   "outputs": [
    {
     "name": "stdout",
     "output_type": "stream",
     "text": [
      "\u001b[1m\u001b[95m# Agent:\u001b[00m \u001b[1m\u001b[92mAI Web Search Assistant\u001b[00m\n",
      "\u001b[95m## Task:\u001b[00m \u001b[92mReceive and respond to a user's question - Who won the first t20 world cup? If the query is simple or general knowledge (e.g., definitions, common facts), answer using your own knowledge. If the query appears to require current or web-based information (e.g., news, trending topics, recent data), perform a web search using the Serper API tool to gather relevant information first. Ensure your response is concise, helpful, and clearly indicates whether it was based on a search or internal understanding.\u001b[00m\n",
      "\n",
      "\n",
      "\u001b[1m\u001b[95m# Agent:\u001b[00m \u001b[1m\u001b[92mAI Web Search Assistant\u001b[00m\n",
      "\u001b[95m## Final Answer:\u001b[00m \u001b[92m\n",
      "The first T20 World Cup was held in 2007, and it was won by India, who defeated Pakistan in the final.\u001b[00m\n",
      "\n",
      "\n"
     ]
    }
   ],
   "source": [
    "result = crew.kickoff(inputs={\"user_input\": \"Who won the first t20 world cup?\"})"
   ]
  },
  {
   "cell_type": "code",
   "execution_count": 90,
   "id": "9659e4ce",
   "metadata": {},
   "outputs": [
    {
     "data": {
      "text/markdown": [
       "The first T20 World Cup was held in 2007, and it was won by India, who defeated Pakistan in the final."
      ],
      "text/plain": [
       "<IPython.core.display.Markdown object>"
      ]
     },
     "metadata": {},
     "output_type": "display_data"
    }
   ],
   "source": [
    "from IPython.display import Markdown, display\n",
    "display(Markdown(result.raw))"
   ]
  },
  {
   "cell_type": "markdown",
   "id": "48adc5d0",
   "metadata": {},
   "source": [
    "---"
   ]
  },
  {
   "cell_type": "code",
   "execution_count": 91,
   "id": "9cad6028",
   "metadata": {},
   "outputs": [],
   "source": [
    "Token=os.environ[\"ASTRA_TOKEN\"]\n",
    "EndPoint=os.environ[\"ASTRA_ENDPOINT\"]"
   ]
  },
  {
   "cell_type": "code",
   "execution_count": 92,
   "id": "a106eac9",
   "metadata": {},
   "outputs": [
    {
     "name": "stdout",
     "output_type": "stream",
     "text": [
      "Connected to Astra DB: ['CollectionSmallEmbeddings']\n"
     ]
    }
   ],
   "source": [
    "from astrapy import DataAPIClient\n",
    "\n",
    "# Initialize the client\n",
    "client = DataAPIClient(Token)\n",
    "db = client.get_database_by_api_endpoint(\n",
    "  EndPoint\n",
    ")\n",
    "\n",
    "print(f\"Connected to Astra DB: {db.list_collection_names()}\")"
   ]
  },
  {
   "cell_type": "code",
   "execution_count": 93,
   "id": "cf0fa22e",
   "metadata": {},
   "outputs": [],
   "source": [
    "collection = db.get_collection(\"CollectionSmallEmbeddings\")"
   ]
  },
  {
   "cell_type": "code",
   "execution_count": 94,
   "id": "b7a87933",
   "metadata": {},
   "outputs": [],
   "source": [
    "query=\"How many days of paternity leave can be availed?\""
   ]
  },
  {
   "cell_type": "code",
   "execution_count": 95,
   "id": "c79f3f55",
   "metadata": {},
   "outputs": [],
   "source": [
    "from openai import OpenAI\n",
    "client = OpenAI()\n",
    "\n",
    "query_embedding=client.embeddings.create(\n",
    "  model=\"text-embedding-3-small\",\n",
    "  input=query,\n",
    "  encoding_format=\"float\"\n",
    ")\n"
   ]
  },
  {
   "cell_type": "code",
   "execution_count": 96,
   "id": "4b9bfe6a",
   "metadata": {},
   "outputs": [],
   "source": [
    "from astrapy.data_types import DataAPIVector\n",
    "\n",
    "results = collection.find(\n",
    "    sort={\"$vector\": DataAPIVector(query_embedding.data[0].embedding)},\n",
    "    limit=5,\n",
    "    include_similarity=True\n",
    ")\n"
   ]
  },
  {
   "cell_type": "code",
   "execution_count": 97,
   "id": "beb832a8",
   "metadata": {},
   "outputs": [
    {
     "name": "stdout",
     "output_type": "stream",
     "text": [
      "{'_id': '693147c55d554642bab1ed63f2285c55', 'page_content': 'childbirth.\\n \\nEligible\\n \\nemployees\\n \\nare\\n \\nentitled\\n \\nto\\n \\nup\\n \\nto\\n \\n7\\n \\ndays\\n \\nof\\n \\npaid\\n \\npaternity\\n \\nleave,\\n \\nwhich\\n \\ncan\\n \\nbe\\n \\nused\\n \\nwithin\\n \\n6\\n \\nmonths\\n \\nof\\n \\nthe\\n \\nchild’s\\n \\nbirth.\\n ○  Employees  are  required  to  provide  proof  of  the  birth  (e.g.,  a  birth  certificate  or  \\nhospital\\n \\nrecords)\\n \\nwhen\\n \\napplying\\n \\nfor\\n \\npaternity\\n \\nleave.\\n \\n \\nf.  Long-Term  Leave  for  Medical  Conditions  or  Personal  Circumstances  \\n1.  Leave  for  Long-Term  Medical  Conditions:  \\n ○  Employees  dealing  with  long-term  medical  conditions  that  require  extended  time  \\noff\\n \\nmay\\n \\nrequest\\n \\nlong-term\\n \\nmedical\\n \\nleave\\n.\\n \\nThis\\n \\nleave\\n \\nis\\n \\ntypically\\n \\nunpaid\\n \\nand\\n \\nrequires\\n \\nmedical\\n \\ndocumentation\\n \\nto\\n \\nsubstantiate\\n \\nthe\\n \\nrequest.\\n ○  The  company  will  review  each  case  individually  and  may  approve  long-term  \\nmedical\\n \\nleave,\\n \\nwith\\n \\nthe\\n \\nemployee\\n \\nbeing\\n \\nallowed\\n \\nto\\n \\ntake\\n \\ntime\\n \\noff\\n \\nwhile\\n \\nmaintaining\\n \\ntheir\\n \\nposition\\n \\nwithin\\n \\nthe\\n \\ncompany.', 'metadata': {'file_path': '/app/data/.cache/langflow/354908a6-5fe4-4fc8-ac41-3576737bdbb9/06b3e7ca-2178-4d28-9a49-e947fd8699b3.pdf'}, '$similarity': 0.81507856}\n",
      "{'_id': 'c0dedc882dc742bf8355a4ec4501516f', 'page_content': 'the\\n \\nMaternity\\n \\nBenefit\\n \\nAct,\\n \\n1961\\n,\\n \\nand\\n \\nother\\n \\napplicable\\n \\nlaws\\n \\nin\\n \\nIndia.\\n \\nFemale\\n \\nemployees\\n \\nare\\n \\nentitled\\n \\nto\\n \\nup\\n \\nto\\n \\n26\\n \\nweeks\\n \\nof\\n \\npaid\\n \\nmaternity\\n \\nleave,\\n \\nprovided\\n \\nthey\\n \\nmeet\\n \\nthe\\n \\neligibility\\n \\ncriteria.\\n ○  The  company  recognizes  that  maternity  leave  is  an  important  right  and  \\nencourages\\n \\nemployees\\n \\nto\\n \\ninform\\n \\nHR\\n \\nas\\n \\nsoon\\n \\nas\\n \\npossible\\n \\nto\\n \\nmake\\n \\narrangements\\n \\nfor\\n \\nleave.\\n ○  Employees  must  provide  medical  documentation  confirming  pregnancy  and  \\nexpected\\n \\ndelivery\\n \\ndates,\\n \\nand\\n \\nthey\\n \\nmust\\n \\napply\\n \\nfor\\n \\nmaternity\\n \\nleave\\n \\nat\\n \\nleast\\n \\n8\\n \\nweeks\\n \\nbefore\\n \\ntheir\\n \\ndue\\n \\ndate.\\n 2.  Paternity  Leave:  \\n ○  AKAIWorks  LLP  provides  paternity  leave  to  male  employees  in  the  case  of  \\nchildbirth.\\n \\nEligible\\n \\nemployees\\n \\nare\\n \\nentitled\\n \\nto\\n \\nup\\n \\nto\\n \\n7\\n \\ndays\\n \\nof\\n \\npaid\\n \\npaternity\\n \\nleave,\\n \\nwhich\\n \\ncan\\n \\nbe\\n \\nused\\n \\nwithin\\n \\n6\\n \\nmonths\\n \\nof\\n \\nthe\\n \\nchild’s\\n \\nbirth.', 'metadata': {'file_path': '/app/data/.cache/langflow/354908a6-5fe4-4fc8-ac41-3576737bdbb9/06b3e7ca-2178-4d28-9a49-e947fd8699b3.pdf'}, '$similarity': 0.8109356}\n",
      "{'_id': '97a8fe5a4b624107ae92eb83e19defcb', 'page_content': 'adoption\\n \\nof\\n \\na\\n \\nchild.\\n \\nThis\\n \\nleave\\n \\nis\\n \\nnot\\n \\naccrued\\n \\nand\\n \\nmust\\n \\nbe\\n \\ntaken\\n \\nin\\n \\none\\n \\ngo\\n \\nwithin\\n \\n3\\n \\nmonths\\n \\nof\\n \\nthe\\n \\nbirth\\n \\nor\\n \\nadoption.\\n ●  Eligibility :  Employees  must  have  been  with  the  company  for  a  minimum  of  6  months  to  \\nqualify\\n \\nfor\\n \\npaternity\\n \\nleave.\\n \\n \\ng.  Statutory  Leave  Accrual  (Public  Holidays,  Jury  Duty,  Voting,  Bereavement  Leave):  \\n●  Public  Holidays :  Employees  do  not  accrue  public  holidays;  these  are  granted  on  the  \\ndesignated\\n \\ndays\\n \\nas\\n \\nspecified\\n \\nin\\n \\nthe\\n \\ncompany\\n \\ncalendar.\\n \\nIf\\n \\na\\n \\npublic\\n \\nholiday\\n \\nfalls\\n \\non\\n \\na\\n \\nweekend,\\n \\nit\\n \\nmay\\n \\nnot\\n \\nbe\\n \\nsubstituted\\n \\nunless\\n \\nrequired\\n \\nby\\n \\noperational\\n \\nneeds.\\n ●  Jury  Duty :  Employees  are  granted  paid  time  off  for  jury  duty,  but  no  leave  is  accrued  for  \\njury\\n \\nduty\\n \\ndays.\\n \\nThe\\n \\ncompany\\n \\nwill\\n \\ncompensate\\n \\nemployees\\n \\nat\\n \\ntheir\\n \\nregular\\n \\npay\\n \\nrate,\\n \\nup\\n \\nto\\n \\nthe\\n \\ntime\\n \\nthey\\n \\nspend\\n \\nin\\n \\njury\\n \\nservice.', 'metadata': {'file_path': '/app/data/.cache/langflow/354908a6-5fe4-4fc8-ac41-3576737bdbb9/06b3e7ca-2178-4d28-9a49-e947fd8699b3.pdf'}, '$similarity': 0.8090591}\n",
      "{'_id': 'df50c9ed7cd44155a674012dfa363f20', 'page_content': 'preceding\\n \\nthe\\n \\nexpected\\n \\ndate\\n \\nof\\n \\ndelivery.\\n ○  Additional  Leave :  In  certain  cases,  employees  may  be  eligible  for  additional  \\nunpaid\\n \\nleave\\n \\nafter\\n \\nthe\\n \\nmaternity\\n \\nleave\\n \\nperiod.\\n 3.  Paternity  Leave:  \\n ○  Entitlement :  Male  employees  are  entitled  to  7  days  of  paid  paternity  leave  in  the  \\nevent\\n \\nof\\n \\nthe\\n \\nbirth\\n \\nor\\n \\nadoption\\n \\nof\\n \\na\\n \\nchild.\\n ○  Eligibility :  Employees  must  have  been  with  the  company  for  a  minimum  of  6  \\nmonths\\n \\nto\\n \\nbe\\n \\neligible\\n \\nfor\\n \\npaternity\\n \\nleave.\\n ○  Requesting  Leave :  Paternity  leave  should  be  requested  2  weeks  in  advance,  \\nexcept\\n \\nin\\n \\ncases\\n \\nof\\n \\nemergency.\\n 4.  Bereavement  Leave:  \\n ○  Entitlement :  Employees  are  entitled  to  3  days  of  paid  leave  in  the  event  of  the  \\ndeath\\n \\nof\\n \\nan\\n \\nimmediate\\n \\nfamily\\n \\nmember\\n \\n(spouse,\\n \\nchildren,\\n \\nparents,\\n \\nsiblings).\\n ○  Extended  Family :  Leave  for  the  death  of  extended  family  members  (such  as  \\ngrandparents,', 'metadata': {'file_path': '/app/data/.cache/langflow/354908a6-5fe4-4fc8-ac41-3576737bdbb9/06b3e7ca-2178-4d28-9a49-e947fd8699b3.pdf'}, '$similarity': 0.79859424}\n",
      "{'_id': 'e5ef08f58d384a39aa28f7fb72c4fdf4', 'page_content': 'e.  Maternity  Leave  Accrual:  \\n●  Maternity  Leave :  Maternity  leave  of  26  weeks  is  provided  under  the  Maternity  Benefit  \\nAct,\\n \\n1961,\\n \\nand\\n \\nis\\n \\nnot\\n \\naffected\\n \\nby\\n \\nthe\\n \\naccrual\\n \\nprocess.\\n \\nIt\\n \\nis\\n \\na\\n \\nstatutory\\n \\nentitlement\\n \\nand\\n \\ndoes\\n \\nnot\\n \\nneed\\n \\nto\\n \\nbe\\n \\naccrued.\\n \\nIt\\n \\nis\\n \\navailable\\n \\nupon\\n \\nrequest,\\n \\nprovided\\n \\nthe\\n \\nemployee\\n \\nhas\\n \\nworked\\n \\nfor\\n \\nat\\n \\nleast\\n \\n80\\n \\ndays\\n \\nin\\n \\nthe\\n \\n12\\n \\nmonths\\n \\npreceding\\n \\nthe\\n \\nexpected\\n \\ndelivery\\n \\ndate.\\n ●  Unused  Leave :  Employees  on  maternity  leave  can  also  utilize  accrued  vacation  leave  (if  \\napplicable)\\n \\nduring\\n \\ntheir\\n \\nleave\\n \\nperiod,\\n \\nprovided\\n \\nit\\n \\nis\\n \\napproved\\n \\nby\\n \\nHR\\n \\nand\\n \\nis\\n \\nwithin\\n \\nthe\\n \\nemployee’s\\n \\nentitlements.\\n \\n \\nf.  Paternity  Leave  Accrual:  \\n●  Paternity  Leave :  Paternity  leave  of  7  days  is  granted  to  male  employees  for  the  birth  or  \\nadoption\\n \\nof\\n \\na\\n \\nchild.\\n \\nThis\\n \\nleave\\n \\nis\\n \\nnot\\n \\naccrued\\n \\nand\\n \\nmust\\n \\nbe\\n \\ntaken\\n \\nin\\n \\none\\n \\ngo\\n \\nwithin\\n \\n3', 'metadata': {'file_path': '/app/data/.cache/langflow/354908a6-5fe4-4fc8-ac41-3576737bdbb9/06b3e7ca-2178-4d28-9a49-e947fd8699b3.pdf'}, '$similarity': 0.7918664}\n"
     ]
    }
   ],
   "source": [
    "for doc in results:\n",
    "    print(doc)\n"
   ]
  },
  {
   "cell_type": "code",
   "execution_count": 98,
   "id": "552958da",
   "metadata": {},
   "outputs": [],
   "source": [
    "from astrapy import DataAPIClient\n",
    "from astrapy.data_types import DataAPIVector\n",
    "from openai import OpenAI\n",
    "\n",
    "def search_documents(query: str, top_k: int = 5) -> list[str]:\n",
    "    # Set up OpenAI\n",
    "    openai_client = OpenAI()\n",
    "    query_embedding = openai_client.embeddings.create(\n",
    "        model=\"text-embedding-3-small\",\n",
    "        input=query,\n",
    "        encoding_format=\"float\"\n",
    "    ).data[0].embedding\n",
    "\n",
    "    # Connect to Astra\n",
    "    astra_client = DataAPIClient(Token)\n",
    "    db = astra_client.get_database_by_api_endpoint(EndPoint)\n",
    "    collection = db.get_collection(\"CollectionSmallEmbeddings\")\n",
    "\n",
    "    # Query Astra\n",
    "    cursor = collection.find(\n",
    "        sort={\"$vector\": DataAPIVector(query_embedding)},\n",
    "        limit=top_k,\n",
    "        include_similarity=True\n",
    "    )\n",
    "\n",
    "    # Return documents\n",
    "    results = []\n",
    "    for doc in cursor:\n",
    "        text = doc.get(\"text\") or str(doc)\n",
    "        score = doc.get(\"$similarity\", 0)\n",
    "        results.append(f\"[{score:.4f}] {text}\")\n",
    "    return results\n"
   ]
  },
  {
   "cell_type": "code",
   "execution_count": 99,
   "id": "fa02b076",
   "metadata": {},
   "outputs": [],
   "source": [
    "from crewai.tools import BaseTool\n",
    "\n",
    "class AstraSearchTool(BaseTool):\n",
    "    name: str = \"VectorTool\"\n",
    "    description: str = \"Search the vector store for information about employee leave policy of AKAIWorks\"\n",
    "\n",
    "    def _run(self, query: str) -> str:\n",
    "        # This is where your vector search logic goes\n",
    "        results = search_documents(query)\n",
    "        return \"\\n\".join(results)\n"
   ]
  },
  {
   "cell_type": "code",
   "execution_count": 100,
   "id": "eb396807",
   "metadata": {},
   "outputs": [],
   "source": [
    "astra_tool = AstraSearchTool()"
   ]
  },
  {
   "cell_type": "code",
   "execution_count": 101,
   "id": "df344e2f",
   "metadata": {},
   "outputs": [],
   "source": [
    "llm = LLM(\n",
    "    model=\"openai/gpt-4o-mini\", # call model by provider/model_name\n",
    "    temperature=0.8,\n",
    "    max_tokens=150,\n",
    "    top_p=0.9,\n",
    "    frequency_penalty=0.1,\n",
    "    presence_penalty=0.1,\n",
    "    stop=[\"END\"],\n",
    "    seed=42\n",
    ")\n"
   ]
  },
  {
   "cell_type": "code",
   "execution_count": 116,
   "id": "b3f688b7",
   "metadata": {},
   "outputs": [],
   "source": [
    "Query_Responder=Agent(\n",
    "    role=f\"\"\"AI Search Assistant\"\"\",\n",
    "    goal=f\"Help users by either answering their queries directly using built-in knowledge, or use the VectorTool when the query is about employee leave policy of AKAIWorks or performing a live web search using the Google Serper API when up-to-date or external information is required.\",\n",
    "    backstory=f\"\"\"You were built to bridge the gap between real-time information and artificial intelligence. Equipped with access to the web through the Serper API, employee leave policy via the vector tool, you excel at retrieving the most recent, relevant data when needed. But you also know when to keep things simple — using your own understanding to answer straightforward questions without delay. You’re the perfect blend of real-time access and inherent intelligence. Remember that company name might not be explicitly mentioned but assume that the leave policy query is implicitly for the organisation.\"\"\",\n",
    "    tools=[SerperDevTool(),astra_tool],\n",
    "    verbose=True,\n",
    "    llm=llm\n",
    ")\n"
   ]
  },
  {
   "cell_type": "code",
   "execution_count": 127,
   "id": "a050929f",
   "metadata": {},
   "outputs": [],
   "source": [
    "handle_user_query= Task(\n",
    "    description=(\n",
    "        \"Receive and respond to a user's question - {user_input} \"\n",
    "        \"If the query is simple or general knowledge (e.g., definitions, common facts), \"\n",
    "        \"answer using your own knowledge. \"\n",
    "        \"If the query appears to require current or web-based information \"\n",
    "        \"(e.g., news, trending topics, recent data), \"\n",
    "        \"perform a web search using the Serper API tool to gather relevant information first. \"\n",
    "        \"If the query is about the employee leave policy of AKAIWorks, \"\n",
    "        \"perform a vector database search using vector search tool.\"\n",
    "        \"Remember that company name might not be explicitly mentioned but assume that the leave policy query is implicitly for the organisation.\"\n",
    "        \"Ensure your response is concise, helpful, and clearly indicates whether it was based on a search or internal understanding.\"\n",
    "        \"Always end your answer by saying which source you used: [LLM], [Web Search], or [Vector DB].\"\n",
    "    ),\n",
    "    expected_output=(\n",
    "        \"A final answer to the user's question, either using internal knowledge or based on live search results. \"\n",
    "        \"If using search, summarize the result clearly and include key information retrieved. \"\n",
    "        \"Indicate whether the result was from the web or internal knowledge.\"\n",
    "        \"Always end your answer by saying which source you used: [LLM], [Web Search], or [Vector DB].\"\n",
    "    ),\n",
    "    agent=Query_Responder\n",
    ")"
   ]
  },
  {
   "cell_type": "code",
   "execution_count": 128,
   "id": "c4ab804c",
   "metadata": {},
   "outputs": [],
   "source": [
    "crew = Crew(\n",
    "    agents=[Query_Responder],\n",
    "    tasks=[handle_user_query],\n",
    "    process=Process.sequential\n",
    ")\n"
   ]
  },
  {
   "cell_type": "code",
   "execution_count": 129,
   "id": "479b7e48",
   "metadata": {},
   "outputs": [
    {
     "name": "stdout",
     "output_type": "stream",
     "text": [
      "\u001b[1m\u001b[95m# Agent:\u001b[00m \u001b[1m\u001b[92mAI Search Assistant\u001b[00m\n",
      "\u001b[95m## Task:\u001b[00m \u001b[92mReceive and respond to a user's question - How many paternity leaves are employees typically entitled to in a year in the United States? If the query is simple or general knowledge (e.g., definitions, common facts), answer using your own knowledge. If the query appears to require current or web-based information (e.g., news, trending topics, recent data), perform a web search using the Serper API tool to gather relevant information first. If the query is about the employee leave policy of AKAIWorks, perform a vector database search using vector search tool.Remember that company name might not be explicitly mentioned but assume that the leave policy query is implicitly for the organisation.Ensure your response is concise, helpful, and clearly indicates whether it was based on a search or internal understanding.Always end your answer by saying which source you used: [LLM], [Web Search], or [Vector DB].\u001b[00m\n",
      "\n",
      "\n",
      "\u001b[1m\u001b[95m# Agent:\u001b[00m \u001b[1m\u001b[92mAI Search Assistant\u001b[00m\n",
      "\u001b[95m## Final Answer:\u001b[00m \u001b[92m\n",
      "In the United States, there is no federal law mandating paid paternity leave. However, many employers offer paternity leave as part of their benefits package, which can range from a few days to several weeks. Typically, employees may be entitled to around 1 to 2 weeks of paid paternity leave, but this can vary significantly by company policy and state laws. Some states have implemented their own family leave laws that may provide for longer periods of leave. [LLM]\u001b[00m\n",
      "\n",
      "\n"
     ]
    }
   ],
   "source": [
    "result = crew.kickoff(inputs={\"user_input\": \"How many paternity leaves are employees typically entitled to in a year in the United States?\"})"
   ]
  },
  {
   "cell_type": "code",
   "execution_count": 130,
   "id": "2bbf3ecc",
   "metadata": {},
   "outputs": [
    {
     "data": {
      "text/markdown": [
       "In the United States, there is no federal law mandating paid paternity leave. However, many employers offer paternity leave as part of their benefits package, which can range from a few days to several weeks. Typically, employees may be entitled to around 1 to 2 weeks of paid paternity leave, but this can vary significantly by company policy and state laws. Some states have implemented their own family leave laws that may provide for longer periods of leave. [LLM]"
      ],
      "text/plain": [
       "<IPython.core.display.Markdown object>"
      ]
     },
     "metadata": {},
     "output_type": "display_data"
    }
   ],
   "source": [
    "display(Markdown(result.raw))\n"
   ]
  },
  {
   "cell_type": "markdown",
   "id": "8038d96a",
   "metadata": {},
   "source": [
    "---"
   ]
  },
  {
   "cell_type": "markdown",
   "id": "20f8c7e6",
   "metadata": {},
   "source": []
  }
 ],
 "metadata": {
  "kernelspec": {
   "display_name": ".agent_env",
   "language": "python",
   "name": "python3"
  },
  "language_info": {
   "codemirror_mode": {
    "name": "ipython",
    "version": 3
   },
   "file_extension": ".py",
   "mimetype": "text/x-python",
   "name": "python",
   "nbconvert_exporter": "python",
   "pygments_lexer": "ipython3",
   "version": "3.11.12"
  }
 },
 "nbformat": 4,
 "nbformat_minor": 5
}
