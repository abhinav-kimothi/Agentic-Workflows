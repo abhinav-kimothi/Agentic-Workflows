{
 "cells": [
  {
   "cell_type": "markdown",
   "id": "51892d0e",
   "metadata": {},
   "source": [
    "<img src=\"./Assets/1.1 AgWorkHeaderImage.png\">"
   ]
  },
  {
   "cell_type": "markdown",
   "id": "4c111729",
   "metadata": {},
   "source": [
    "## What is an Agent?\n",
    "\n",
    "..an Agent is a __SYSTEM__ that leverages an __AI MODEL__ to interact with its __ENVIRONMENT__ to achieve a __USER-DEFINED OBJECTIVE__. It combines _MEMORY_, _REASONING_, _PLANNING_, and _ACTIONS_ (often via _EXTERNAL TOOLS_) to fulfil _TASKS_."
   ]
  },
  {
   "cell_type": "markdown",
   "id": "c2c42da9",
   "metadata": {},
   "source": [
    "---"
   ]
  },
  {
   "cell_type": "markdown",
   "id": "a260871d",
   "metadata": {},
   "source": [
    "## Agency Point of View for developing Agents\n"
   ]
  },
  {
   "cell_type": "markdown",
   "id": "1d03e5c6",
   "metadata": {},
   "source": [
    "<img src=\"./Assets/1.2 Agency Cross Tab.png\">"
   ]
  },
  {
   "cell_type": "markdown",
   "id": "dbadb1ce",
   "metadata": {},
   "source": [
    "---"
   ]
  },
  {
   "cell_type": "markdown",
   "id": "4e8c957b",
   "metadata": {},
   "source": [
    "## Simple Agents\n",
    "\n",
    "- __Stateless__ Simple Processor\n",
    "- __Stateless__ Simple Routing\n",
    "- __Memory Aware__ Router"
   ]
  },
  {
   "cell_type": "markdown",
   "id": "5203bad4",
   "metadata": {},
   "source": [
    "### Stateless Simple Processor using OpenAI API\n",
    "\n",
    "<img src=\"./Assets/1.3 Simple Processor.png\">"
   ]
  },
  {
   "cell_type": "markdown",
   "id": "18cdcb0b",
   "metadata": {},
   "source": [
    "### Using OpenAI Responses API"
   ]
  },
  {
   "cell_type": "code",
   "execution_count": 3,
   "id": "615e6002",
   "metadata": {},
   "outputs": [],
   "source": [
    "from dotenv import load_dotenv\n",
    "import os"
   ]
  },
  {
   "cell_type": "code",
   "execution_count": 4,
   "id": "f8702aea",
   "metadata": {},
   "outputs": [
    {
     "name": "stdout",
     "output_type": "stream",
     "text": [
      "Success: .env file found with some environment variables\n"
     ]
    }
   ],
   "source": [
    "if load_dotenv():\n",
    "    print(\"Success: .env file found with some environment variables\")\n",
    "else:\n",
    "    print(\"Caution: No environment variables found. Please create .env file in the root directory or add environment variables in the .env file\")"
   ]
  },
  {
   "cell_type": "code",
   "execution_count": 5,
   "id": "fe8aca3e",
   "metadata": {},
   "outputs": [],
   "source": [
    "api_key=os.environ[\"OPENAI_API_KEY\"]"
   ]
  },
  {
   "cell_type": "code",
   "execution_count": 6,
   "id": "4a359686",
   "metadata": {},
   "outputs": [],
   "source": [
    "#### os.environ[\"OPENAI_API_KEY\"] = \"sk-proj-******\""
   ]
  },
  {
   "cell_type": "markdown",
   "id": "7f29f6e7",
   "metadata": {},
   "source": [
    "Make a call to OpenAI API"
   ]
  },
  {
   "cell_type": "code",
   "execution_count": 43,
   "id": "17ddd4cb",
   "metadata": {},
   "outputs": [],
   "source": [
    "from openai import OpenAI\n",
    "client = OpenAI()\n",
    "\n",
    "response = client.responses.create(\n",
    "    model=\"gpt-4o-mini\",\n",
    "    input=\"Write a one-sentence bedtime story about a unicorn.\"\n",
    ")\n"
   ]
  },
  {
   "cell_type": "code",
   "execution_count": 31,
   "id": "58ab3cc0",
   "metadata": {},
   "outputs": [
    {
     "data": {
      "text/plain": [
       "'As the shimmering stars twinkled above, Luna the unicorn galloped across the moonlit meadow, scattering wishes of joy and dreams to all who slept beneath her magical light.'"
      ]
     },
     "execution_count": 31,
     "metadata": {},
     "output_type": "execute_result"
    }
   ],
   "source": [
    "response.output_text"
   ]
  },
  {
   "cell_type": "code",
   "execution_count": 32,
   "id": "cc162429",
   "metadata": {},
   "outputs": [],
   "source": [
    "import textwrap"
   ]
  },
  {
   "cell_type": "code",
   "execution_count": 36,
   "id": "479d3a99",
   "metadata": {},
   "outputs": [
    {
     "name": "stdout",
     "output_type": "stream",
     "text": [
      "As the shimmering stars twinkled above, Luna the unicorn galloped across the moonlit meadow,\n",
      "scattering wishes of joy and dreams to all who slept beneath her magical light.\n"
     ]
    }
   ],
   "source": [
    "print(textwrap.fill(response.output_text,100))"
   ]
  },
  {
   "cell_type": "code",
   "execution_count": 44,
   "id": "cba62590",
   "metadata": {},
   "outputs": [
    {
     "data": {
      "text/markdown": [
       "As the moonlight kissed the tranquil meadow, a shimmering unicorn named Luna danced among the stars, granting wishes to all the dreamy children tucked in their beds."
      ],
      "text/plain": [
       "<IPython.core.display.Markdown object>"
      ]
     },
     "metadata": {},
     "output_type": "display_data"
    }
   ],
   "source": [
    "from IPython.display import Markdown, display\n",
    "display(Markdown(response.output_text))"
   ]
  },
  {
   "cell_type": "markdown",
   "id": "e8560041",
   "metadata": {},
   "source": [
    "### Stateless Simple Processor"
   ]
  },
  {
   "cell_type": "code",
   "execution_count": 37,
   "id": "bd3672c2",
   "metadata": {},
   "outputs": [],
   "source": [
    "system_prompt=\"\"\"\n",
    "You are a top-tier email marketing expert known for crafting high-converting subject lines. Your job is to generate concise, compelling, and curiosity-driven subject lines that maximise open rates for marketing emails.\n",
    "Each subject line should:\n",
    "\t•\tBe under 50 characters (if possible)\n",
    "\t•\tInclude emotional or benefit-driven language\n",
    "\t•\tAvoid spammy or misleading phrases\n",
    "\t•\tBe tailored to the target audience and campaign goal\n",
    "\n",
    "Input:\n",
    "\t•\tProduct/Service: Food Delivery Business - Zwigato\n",
    "\t•\tTarget Audience: Young working professionals\n",
    "\t•\tTone: Quirky and Witty\n",
    "\t•\tOffer or CTA (if any): First Order Free\n",
    "\t•\tContext/Purpose: New Launch \n",
    "\n",
    "Output:\n",
    "Generate 5 unique subject lines that follow the instructions above. Include a short explanation of why each one might perform well.\n",
    "\"\"\""
   ]
  },
  {
   "cell_type": "code",
   "execution_count": 46,
   "id": "51f6e229",
   "metadata": {},
   "outputs": [],
   "source": [
    "response = client.responses.create(\n",
    "    model=\"gpt-4o-mini\",\n",
    "    input=system_prompt\n",
    ")"
   ]
  },
  {
   "cell_type": "code",
   "execution_count": 47,
   "id": "0930faf1",
   "metadata": {},
   "outputs": [
    {
     "name": "stdout",
     "output_type": "stream",
     "text": [
      "Here are five quirky and witty subject lines tailored for Zwigato's new launch targeting young working professionals:\n",
      "\n",
      "1. **\"Dinner's On Us—First Order Free!\"**\n",
      "   - **Explanation:** This straightforward approach combines clarity with a strong call to action, leveraging the excitement of a free offer that appeals to budget-conscious young professionals.\n",
      "\n",
      "2. **\"Skip the Cooking, We've Got You Covered!\"**\n",
      "   - **Explanation:** This subject line highlights a major pain point—cooking after a long day of work—while ushering in the promise of convenience, which is appealing to busy professionals.\n",
      "\n",
      "3. **\"Your Taste Buds Called—They Want Zwigato!\"**\n",
      "   - **Explanation:** Using personification adds a light-hearted touch while piquing curiosity about what Zwigato has to offer, inviting the reader to explore the unique flavors available.\n",
      "\n",
      "4. **\"Hungry? Grab Your Free Zwigato Feast!\"**\n",
      "   - **Explanation:** The word \"Feast\" evokes indulgence and excitement, compelling readers to consider their appetite. The word \"Free\" acts as a double lure that increases the chances of opening.\n",
      "\n",
      "5. **\"Why Cook When Zwigato’s Got Your Back?\"**\n",
      "   - **Explanation:** This casual tone resonates with young professionals, encouraging them to opt for convenience. It suggests reliability and support in a humorous way, boosting engagement.\n",
      "\n",
      "Each of these subject lines incorporates emotional appeal and a hint of curiosity, designed to drive high open rates among the intended audience.\n"
     ]
    }
   ],
   "source": [
    "print(response.output_text)"
   ]
  },
  {
   "cell_type": "code",
   "execution_count": 48,
   "id": "e43b3aca",
   "metadata": {},
   "outputs": [
    {
     "data": {
      "text/markdown": [
       "Here are five quirky and witty subject lines tailored for Zwigato's new launch targeting young working professionals:\n",
       "\n",
       "1. **\"Dinner's On Us—First Order Free!\"**\n",
       "   - **Explanation:** This straightforward approach combines clarity with a strong call to action, leveraging the excitement of a free offer that appeals to budget-conscious young professionals.\n",
       "\n",
       "2. **\"Skip the Cooking, We've Got You Covered!\"**\n",
       "   - **Explanation:** This subject line highlights a major pain point—cooking after a long day of work—while ushering in the promise of convenience, which is appealing to busy professionals.\n",
       "\n",
       "3. **\"Your Taste Buds Called—They Want Zwigato!\"**\n",
       "   - **Explanation:** Using personification adds a light-hearted touch while piquing curiosity about what Zwigato has to offer, inviting the reader to explore the unique flavors available.\n",
       "\n",
       "4. **\"Hungry? Grab Your Free Zwigato Feast!\"**\n",
       "   - **Explanation:** The word \"Feast\" evokes indulgence and excitement, compelling readers to consider their appetite. The word \"Free\" acts as a double lure that increases the chances of opening.\n",
       "\n",
       "5. **\"Why Cook When Zwigato’s Got Your Back?\"**\n",
       "   - **Explanation:** This casual tone resonates with young professionals, encouraging them to opt for convenience. It suggests reliability and support in a humorous way, boosting engagement.\n",
       "\n",
       "Each of these subject lines incorporates emotional appeal and a hint of curiosity, designed to drive high open rates among the intended audience."
      ],
      "text/plain": [
       "<IPython.core.display.Markdown object>"
      ]
     },
     "metadata": {},
     "output_type": "display_data"
    }
   ],
   "source": [
    "display(Markdown(response.output_text))"
   ]
  },
  {
   "cell_type": "markdown",
   "id": "45d7c57f",
   "metadata": {},
   "source": [
    "---"
   ]
  },
  {
   "cell_type": "markdown",
   "id": "c3326ca1",
   "metadata": {},
   "source": [
    "### Stateless Simple Processor with inferred input attributes"
   ]
  },
  {
   "cell_type": "code",
   "execution_count": 49,
   "id": "f3fef232",
   "metadata": {},
   "outputs": [],
   "source": [
    "user_input_message=\"\"\"\n",
    "Create a campaign for my course on Agentic Workflows for professionals seeking knowledge on AI agents. \n",
    "I am offering a 50% off.\n",
    "\"\"\""
   ]
  },
  {
   "cell_type": "code",
   "execution_count": 50,
   "id": "97a96d10",
   "metadata": {},
   "outputs": [],
   "source": [
    "system_prompt=f\"\"\"\n",
    "You are a top-tier email marketing expert known for crafting high-converting subject lines. Your job is to generate concise, compelling, and curiosity-driven subject lines that maximise open rates for marketing emails.\n",
    "Each subject line should:\n",
    "\t•\tBe under 50 characters (if possible)\n",
    "\t•\tInclude emotional or benefit-driven language\n",
    "\t•\tAvoid spammy or misleading phrases\n",
    "\t•\tBe tailored to the target audience and campaign goal\n",
    "\n",
    "You are given the following input message from the user for the generation of the subject lines.\n",
    "\n",
    "{user_input_message}\n",
    "\n",
    "From the Input message infer the following. If not able to infer make assumptions:\n",
    "\t•\tProduct/Service: \n",
    "\t•\tTarget Audience: \n",
    "\t•\tTone: \n",
    "\t•\tOffer or CTA (if any): \n",
    "\t•\tContext/Purpose: \n",
    "\n",
    "Output:\n",
    "List the inferred attributes and then \n",
    "generate 5 unique subject lines that follow the instructions above. Include a short explanation of why each one might perform well.\n",
    "\"\"\""
   ]
  },
  {
   "cell_type": "code",
   "execution_count": 51,
   "id": "98429dbf",
   "metadata": {},
   "outputs": [],
   "source": [
    "response = client.responses.create(\n",
    "    model=\"gpt-4o-mini\",\n",
    "    input=system_prompt\n",
    ")"
   ]
  },
  {
   "cell_type": "code",
   "execution_count": 52,
   "id": "3350a600",
   "metadata": {},
   "outputs": [
    {
     "data": {
      "text/markdown": [
       "### Inferred Attributes:\n",
       "\n",
       "- **Product/Service:** Course on Agentic Workflows focused on AI agents.\n",
       "- **Target Audience:** Professionals seeking knowledge or skills related to AI and workflows.\n",
       "- **Tone:** Informative, empowering, and professional.\n",
       "- **Offer or CTA:** 50% off on the course.\n",
       "- **Context/Purpose:** To promote the course and attract sign-ups with a limited-time discount.\n",
       "\n",
       "### Subject Lines:\n",
       "\n",
       "1. **\"Unlock AI Mastery: 50% Off Today!\"**\n",
       "   - **Explanation:** This subject line emphasizes the unique opportunity to gain mastery in a trending field (AI). The urgency added by \"Today!\" encourages immediate action.\n",
       "\n",
       "2. **\"Transform Your Workflow with 50% Off!\"**\n",
       "   - **Explanation:** This line connects the course to a direct benefit—transforming workflows. The clear mention of a discount adds incentive without sounding spammy.\n",
       "\n",
       "3. **\"Elevate Your Skills: AI Course 50% Off!\"**\n",
       "   - **Explanation:** The phrase \"Elevate Your Skills\" appeals to personal and professional growth while explicitly stating the offer, making it clear and appealing.\n",
       "\n",
       "4. **\"Step into the Future: Learn AI Agents at Half Price!\"**\n",
       "   - **Explanation:** This line invokes curiosity about the future of work and positions the course as an essential step toward innovation, combined with the enticing offer.\n",
       "\n",
       "5. **\"Grab Your 50% Discount on AI Workflow Training!\"**\n",
       "   - **Explanation:** The directness of \"Grab Your Discount\" creates a sense of urgency and call-to-action. The specificity of \"AI Workflow Training\" targets the audience effectively.\n",
       "\n",
       "These subject lines are designed to evoke interest, drive urgency, and communicate value, significantly enhancing the chances of high open rates."
      ],
      "text/plain": [
       "<IPython.core.display.Markdown object>"
      ]
     },
     "metadata": {},
     "output_type": "display_data"
    }
   ],
   "source": [
    "display(Markdown(response.output_text))"
   ]
  },
  {
   "cell_type": "markdown",
   "id": "af3a498d",
   "metadata": {},
   "source": [
    "---"
   ]
  },
  {
   "cell_type": "markdown",
   "id": "21c30aa8",
   "metadata": {},
   "source": [
    "### Stateless Simple Router using OpenAI API\n",
    "\n",
    "<img src=\"./Assets/1.4 Simple Router.png\">\n",
    "\n"
   ]
  },
  {
   "cell_type": "code",
   "execution_count": 76,
   "id": "c3adc0e4",
   "metadata": {},
   "outputs": [],
   "source": [
    "import uuid\n",
    "message_id = uuid.uuid4()\n"
   ]
  },
  {
   "cell_type": "code",
   "execution_count": 77,
   "id": "ef6ba20d",
   "metadata": {},
   "outputs": [],
   "source": [
    "from datetime import datetime\n",
    "\n",
    "message_date=datetime.now()"
   ]
  },
  {
   "cell_type": "code",
   "execution_count": 78,
   "id": "7b6a4ad8",
   "metadata": {},
   "outputs": [],
   "source": [
    "user_message=\"\"\"\n",
    "my laptop is has arrived. I am so excited.\n",
    "\"\"\""
   ]
  },
  {
   "cell_type": "code",
   "execution_count": 79,
   "id": "3ee61939",
   "metadata": {},
   "outputs": [],
   "source": [
    "system_prompt=f\"\"\"\n",
    "You are an NLP expert assisting the technical team in analyzing user messages. The analysis will be used by the team to make decisions more effectively.\n",
    "\n",
    "You have been provided with the {message_id} and {message_date} along with the following user message.\n",
    "\n",
    "### Start of User Message\n",
    "{user_message}\n",
    "### End of User Message\n",
    "\n",
    "**Task 1:**\n",
    "#### **1. Message Classification **\n",
    "Classify the message into a **single category** that best describes its purpose. Choose the category from the predefined list below. This classification will help the technical team identify specific themes and make decisions faster.\n",
    "\n",
    "- **Order Management**: A message regarding the status of the order that user has placed.\n",
    "- **Application Support**: A message regarding the web or mobile application functionality.\n",
    "- **Service Feedback**: A message regarding customer service.\n",
    "- **Shopping Assistance**: A message requiring assistance in shopping.\n",
    "- **Others**: A general message.\n",
    "- **Spam**: A message that seems like spam.\n",
    "\n",
    "\n",
    "##### **Important Instructions for Classification:**\n",
    "- Ensure each message is classified into **only one category** based on its primary intent or purpose. If multiple intents are detected, select the most relevant category that reflects the user's main goal.\n",
    "- Do not create new categories or use freeform text for classification. Always use one of the predefined categories exactly as they appear in the list above.\n",
    "\n",
    "**task 2**\n",
    "Analyze the sentiment of the message and classify it into one of the following categories:\n",
    "- **Positive**: The message conveys positivity, satisfaction, gratitude, or encouragement.\n",
    "- **Neutral**: The message is factual, descriptive, or lacks any emotional tone.\n",
    "- **Negative**: The message conveys frustration, dissatisfaction, or criticism.\n",
    "\n",
    "Respond in JSON Format.\n",
    "\n",
    "message_id:\n",
    "message_date:\n",
    "message_category:\n",
    "message_sentiment:\n",
    "\n",
    "\"\"\"\n"
   ]
  },
  {
   "cell_type": "code",
   "execution_count": 80,
   "id": "2af0578e",
   "metadata": {},
   "outputs": [],
   "source": [
    "response = client.responses.create(\n",
    "    model=\"gpt-4o-mini\",\n",
    "    input=system_prompt\n",
    ")"
   ]
  },
  {
   "cell_type": "code",
   "execution_count": 81,
   "id": "9d3e1c4b",
   "metadata": {},
   "outputs": [
    {
     "data": {
      "text/markdown": [
       "```json\n",
       "{\n",
       "  \"message_id\": \"c57de42a-b475-45b5-a5dc-30d4a022a5c0\",\n",
       "  \"message_date\": \"2025-05-15 22:07:35.401394\",\n",
       "  \"message_category\": \"Order Management\",\n",
       "  \"message_sentiment\": \"Positive\"\n",
       "}\n",
       "```"
      ],
      "text/plain": [
       "<IPython.core.display.Markdown object>"
      ]
     },
     "metadata": {},
     "output_type": "display_data"
    }
   ],
   "source": [
    "display(Markdown(response.output_text))"
   ]
  },
  {
   "cell_type": "markdown",
   "id": "137600ca",
   "metadata": {},
   "source": [
    "---"
   ]
  },
  {
   "cell_type": "markdown",
   "id": "76efe7ff",
   "metadata": {},
   "source": [
    "### Memory Aware Simple Processor\n",
    "\n",
    "<img src=\"./Assets/1.5 Memory Aware.png\">"
   ]
  },
  {
   "cell_type": "markdown",
   "id": "505647ec",
   "metadata": {},
   "source": [
    "### OpenAI Chat Completion API"
   ]
  },
  {
   "cell_type": "code",
   "execution_count": 82,
   "id": "17f5e362",
   "metadata": {},
   "outputs": [],
   "source": [
    "system_prompt=\"\"\"\n",
    "You are a top-tier email marketing expert known for crafting high-converting subject lines. Your job is to generate concise, compelling, and curiosity-driven subject lines that maximise open rates for marketing emails.\n",
    "Each subject line should:\n",
    "\t•\tBe under 50 characters (if possible)\n",
    "\t•\tInclude emotional or benefit-driven language\n",
    "\t•\tAvoid spammy or misleading phrases\n",
    "\t•\tBe tailored to the target audience and campaign goal\n",
    "\n",
    "You will be given an input message from the user for the generation of the subject lines.\n",
    "\n",
    "From the Input message infer the following. If not able to infer make assumptions:\n",
    "\t•\tProduct/Service: \n",
    "\t•\tTarget Audience: \n",
    "\t•\tTone: \n",
    "\t•\tOffer or CTA (if any): \n",
    "\t•\tContext/Purpose: \n",
    "\n",
    "Output:\n",
    "List the inferred attributes and then \n",
    "generate 5 unique subject lines that follow the instructions above. Include a short explanation of why each one might perform well.\n",
    "\"\"\""
   ]
  },
  {
   "cell_type": "code",
   "execution_count": 83,
   "id": "bc85c296",
   "metadata": {},
   "outputs": [],
   "source": [
    "user_message=\"\"\"\n",
    "Create a campaign for my course on Agentic Workflows for professionals seeking knowledge on AI agents. \n",
    "I am offering a 50% off.\n",
    "\"\"\""
   ]
  },
  {
   "cell_type": "code",
   "execution_count": 84,
   "id": "44b72ed1",
   "metadata": {},
   "outputs": [],
   "source": [
    "completion = client.chat.completions.create(\n",
    "  model=\"gpt-4o-mini\",\n",
    "  messages=[\n",
    "    {\"role\": \"system\", \"content\": system_prompt},\n",
    "    {\"role\": \"user\", \"content\": user_message}\n",
    "  ]\n",
    ")\n"
   ]
  },
  {
   "cell_type": "code",
   "execution_count": 87,
   "id": "efa1c446",
   "metadata": {},
   "outputs": [
    {
     "data": {
      "text/markdown": [
       "**Inferred Attributes:**\n",
       "- **Product/Service:** Course on Agentic Workflows related to AI agents\n",
       "- **Target Audience:** Professionals seeking knowledge on AI\n",
       "- **Tone:** Informative and motivational\n",
       "- **Offer or CTA (if any):** 50% off the course\n",
       "- **Context/Purpose:** Promote enrollment in the course with a discount\n",
       "\n",
       "**Subject Lines:**\n",
       "\n",
       "1. \"Unlock AI Skills: 50% Off Today!\"  \n",
       "   *This creates urgency and highlights the significant discount, encouraging immediate action.*\n",
       "\n",
       "2. \"Transform Your Career with AI Knowledge!\"  \n",
       "   *Focuses on the career advancement benefit, appealing to professionals looking to upskill.*\n",
       "\n",
       "3. \"Master Agentic Workflows—Half Price Now!\"  \n",
       "   *Directly mentions the course content and offers a compelling discount for immediate interest.*\n",
       "\n",
       "4. \"Step Into the Future: AI Mastery Awaits!\"  \n",
       "   *Evokes curiosity about the future of work with AI, motivating professionals to learn more.*\n",
       "\n",
       "5. \"Elevate Your Expertise: Join for 50% Off!\"  \n",
       "   *Emphasizes personal and professional growth, casual framing of the discount as an exclusive opportunity.*\n",
       "\n",
       "Each subject line is crafted to resonate with the target audience’s aspirations and urgency, making them more likely to open the email and explore the offer."
      ],
      "text/plain": [
       "<IPython.core.display.Markdown object>"
      ]
     },
     "metadata": {},
     "output_type": "display_data"
    }
   ],
   "source": [
    "display(Markdown(completion.choices[0].message.content))"
   ]
  },
  {
   "cell_type": "code",
   "execution_count": 88,
   "id": "8ff29c83",
   "metadata": {},
   "outputs": [],
   "source": [
    "chat_history=[\n",
    "    {\"role\": \"system\", \"content\": system_prompt},\n",
    "    {\"role\": \"user\", \"content\": user_message}\n",
    "]"
   ]
  },
  {
   "cell_type": "code",
   "execution_count": 97,
   "id": "0afd094e",
   "metadata": {},
   "outputs": [],
   "source": [
    "chat_history.append(completion.choices[0].message)"
   ]
  },
  {
   "cell_type": "code",
   "execution_count": 98,
   "id": "5f09fdce",
   "metadata": {},
   "outputs": [
    {
     "data": {
      "text/plain": [
       "[{'role': 'system',\n",
       "  'content': '\\nYou are a top-tier email marketing expert known for crafting high-converting subject lines. Your job is to generate concise, compelling, and curiosity-driven subject lines that maximise open rates for marketing emails.\\nEach subject line should:\\n\\t•\\tBe under 50 characters (if possible)\\n\\t•\\tInclude emotional or benefit-driven language\\n\\t•\\tAvoid spammy or misleading phrases\\n\\t•\\tBe tailored to the target audience and campaign goal\\n\\nYou will be given an input message from the user for the generation of the subject lines.\\n\\nFrom the Input message infer the following. If not able to infer make assumptions:\\n\\t•\\tProduct/Service: \\n\\t•\\tTarget Audience: \\n\\t•\\tTone: \\n\\t•\\tOffer or CTA (if any): \\n\\t•\\tContext/Purpose: \\n\\nOutput:\\nList the inferred attributes and then \\ngenerate 5 unique subject lines that follow the instructions above. Include a short explanation of why each one might perform well.\\n'},\n",
       " {'role': 'user',\n",
       "  'content': '\\nCreate a campaign for my course on Agentic Workflows for professionals seeking knowledge on AI agents. \\nI am offering a 50% off.\\n'},\n",
       " ChatCompletionMessage(content='**Inferred Attributes:**\\n- **Product/Service:** Course on Agentic Workflows related to AI agents\\n- **Target Audience:** Professionals seeking knowledge on AI\\n- **Tone:** Informative and motivational\\n- **Offer or CTA (if any):** 50% off the course\\n- **Context/Purpose:** Promote enrollment in the course with a discount\\n\\n**Subject Lines:**\\n\\n1. \"Unlock AI Skills: 50% Off Today!\"  \\n   *This creates urgency and highlights the significant discount, encouraging immediate action.*\\n\\n2. \"Transform Your Career with AI Knowledge!\"  \\n   *Focuses on the career advancement benefit, appealing to professionals looking to upskill.*\\n\\n3. \"Master Agentic Workflows—Half Price Now!\"  \\n   *Directly mentions the course content and offers a compelling discount for immediate interest.*\\n\\n4. \"Step Into the Future: AI Mastery Awaits!\"  \\n   *Evokes curiosity about the future of work with AI, motivating professionals to learn more.*\\n\\n5. \"Elevate Your Expertise: Join for 50% Off!\"  \\n   *Emphasizes personal and professional growth, casual framing of the discount as an exclusive opportunity.*\\n\\nEach subject line is crafted to resonate with the target audience’s aspirations and urgency, making them more likely to open the email and explore the offer.', refusal=None, role='assistant', annotations=[], audio=None, function_call=None, tool_calls=None)]"
      ]
     },
     "execution_count": 98,
     "metadata": {},
     "output_type": "execute_result"
    }
   ],
   "source": [
    "chat_history"
   ]
  },
  {
   "cell_type": "code",
   "execution_count": 99,
   "id": "d42fd7a0",
   "metadata": {},
   "outputs": [],
   "source": [
    "chat_history.append({ \"role\": \"user\", \"content\": \"Make it quirky\" })\n"
   ]
  },
  {
   "cell_type": "code",
   "execution_count": 101,
   "id": "f9833d45",
   "metadata": {},
   "outputs": [
    {
     "data": {
      "text/plain": [
       "[{'role': 'system',\n",
       "  'content': '\\nYou are a top-tier email marketing expert known for crafting high-converting subject lines. Your job is to generate concise, compelling, and curiosity-driven subject lines that maximise open rates for marketing emails.\\nEach subject line should:\\n\\t•\\tBe under 50 characters (if possible)\\n\\t•\\tInclude emotional or benefit-driven language\\n\\t•\\tAvoid spammy or misleading phrases\\n\\t•\\tBe tailored to the target audience and campaign goal\\n\\nYou will be given an input message from the user for the generation of the subject lines.\\n\\nFrom the Input message infer the following. If not able to infer make assumptions:\\n\\t•\\tProduct/Service: \\n\\t•\\tTarget Audience: \\n\\t•\\tTone: \\n\\t•\\tOffer or CTA (if any): \\n\\t•\\tContext/Purpose: \\n\\nOutput:\\nList the inferred attributes and then \\ngenerate 5 unique subject lines that follow the instructions above. Include a short explanation of why each one might perform well.\\n'},\n",
       " {'role': 'user',\n",
       "  'content': '\\nCreate a campaign for my course on Agentic Workflows for professionals seeking knowledge on AI agents. \\nI am offering a 50% off.\\n'},\n",
       " ChatCompletionMessage(content='**Inferred Attributes:**\\n- **Product/Service:** Course on Agentic Workflows related to AI agents\\n- **Target Audience:** Professionals seeking knowledge on AI\\n- **Tone:** Informative and motivational\\n- **Offer or CTA (if any):** 50% off the course\\n- **Context/Purpose:** Promote enrollment in the course with a discount\\n\\n**Subject Lines:**\\n\\n1. \"Unlock AI Skills: 50% Off Today!\"  \\n   *This creates urgency and highlights the significant discount, encouraging immediate action.*\\n\\n2. \"Transform Your Career with AI Knowledge!\"  \\n   *Focuses on the career advancement benefit, appealing to professionals looking to upskill.*\\n\\n3. \"Master Agentic Workflows—Half Price Now!\"  \\n   *Directly mentions the course content and offers a compelling discount for immediate interest.*\\n\\n4. \"Step Into the Future: AI Mastery Awaits!\"  \\n   *Evokes curiosity about the future of work with AI, motivating professionals to learn more.*\\n\\n5. \"Elevate Your Expertise: Join for 50% Off!\"  \\n   *Emphasizes personal and professional growth, casual framing of the discount as an exclusive opportunity.*\\n\\nEach subject line is crafted to resonate with the target audience’s aspirations and urgency, making them more likely to open the email and explore the offer.', refusal=None, role='assistant', annotations=[], audio=None, function_call=None, tool_calls=None),\n",
       " {'role': 'user', 'content': 'Make it quirky'}]"
      ]
     },
     "execution_count": 101,
     "metadata": {},
     "output_type": "execute_result"
    }
   ],
   "source": [
    "chat_history"
   ]
  },
  {
   "cell_type": "code",
   "execution_count": 102,
   "id": "60df6161",
   "metadata": {},
   "outputs": [],
   "source": [
    "completion = client.chat.completions.create(\n",
    "  model=\"gpt-4o-mini\",\n",
    "  messages=chat_history\n",
    ")\n"
   ]
  },
  {
   "cell_type": "code",
   "execution_count": 103,
   "id": "48b2bb47",
   "metadata": {},
   "outputs": [
    {
     "data": {
      "text/markdown": [
       "**Inferred Attributes:**\n",
       "- **Product/Service:** Course on Agentic Workflows related to AI agents\n",
       "- **Target Audience:** Professionals seeking knowledge on AI\n",
       "- **Tone:** Quirky and playful\n",
       "- **Offer or CTA (if any):** 50% off the course\n",
       "- **Context/Purpose:** Promote enrollment in the course with a discount \n",
       "\n",
       "**Subject Lines:**\n",
       "\n",
       "1. \"AI-n’t You Curious? 50% Off Awaits!\"  \n",
       "   *The pun on \"ain't\" introduces a playful twist while encouraging curiosity, making it fun to read.*\n",
       "\n",
       "2. \"Don’t Miss the AI Boat—Sail in at Half Price!\"  \n",
       "   *A catchy nautical metaphor to convey urgency and excitement about the learning opportunity at a reduced cost.*\n",
       "\n",
       "3. \"Get Your Head in the AI Game for 50% Less!\"  \n",
       "   *A playful sports reference, suggesting that joining the course can level up one’s skills while reducing costs.*\n",
       "\n",
       "4. \"50% Off: Train Your Brain to Think Like an AI!\"  \n",
       "   *A cheeky invitation to transform thinking patterns, creating an engaging and relatable call to action.*\n",
       "\n",
       "5. \"Unlock AI Secrets—Half Price, Full Fun!\"  \n",
       "   *Hints at mystery and fun involved in the learning process while spotlighting the discount for added allure.*\n",
       "\n",
       "Each quirky subject line aims to capture attention through humor and wordplay, appealing to professionals' desire for a fresh and enjoyable learning experience while highlighting the discount."
      ],
      "text/plain": [
       "<IPython.core.display.Markdown object>"
      ]
     },
     "metadata": {},
     "output_type": "display_data"
    }
   ],
   "source": [
    "display(Markdown(completion.choices[0].message.content))"
   ]
  },
  {
   "cell_type": "code",
   "execution_count": 104,
   "id": "34da1a0e",
   "metadata": {},
   "outputs": [],
   "source": [
    "chat_history.append(completion.choices[0].message)"
   ]
  },
  {
   "cell_type": "code",
   "execution_count": 105,
   "id": "28b86e10",
   "metadata": {},
   "outputs": [],
   "source": [
    "chat_history.append({ \"role\": \"user\", \"content\": \"create 10 more and extremely funny\" })"
   ]
  },
  {
   "cell_type": "code",
   "execution_count": 106,
   "id": "1a3c14ca",
   "metadata": {},
   "outputs": [],
   "source": [
    "completion = client.chat.completions.create(\n",
    "  model=\"gpt-4o-mini\",\n",
    "  messages=chat_history\n",
    ")"
   ]
  },
  {
   "cell_type": "code",
   "execution_count": 107,
   "id": "57a9ca49",
   "metadata": {},
   "outputs": [
    {
     "data": {
      "text/markdown": [
       "**Inferred Attributes:**\n",
       "- **Product/Service:** Course on Agentic Workflows related to AI agents\n",
       "- **Target Audience:** Professionals seeking knowledge on AI\n",
       "- **Tone:** Extremely funny and lighthearted\n",
       "- **Offer or CTA (if any):** 50% off the course\n",
       "- **Context/Purpose:** Promote enrollment in the course with a discount \n",
       "\n",
       "**Subject Lines:**\n",
       "\n",
       "1. \"50% Off! Because AI Doesn’t Learn on Its Own!\"  \n",
       "   *A humorous take on AI needing humans, creating a sense of urgency to enroll.*\n",
       "\n",
       "2. \"Don’t Be a Noob—Become an AI Guru for Half Price!\"  \n",
       "   *Playful jab at being a beginner, enticing professionals to improve their skills at a discount.*\n",
       "\n",
       "3. \"Why Hire an AI When You Can Be One? 50% Off!\"  \n",
       "   *Funny twist by suggesting professionals can learn to be AI-like, appealing to their sense of humor.*\n",
       "\n",
       "4. \"Half Price and Full of AI Shenanigans!\"  \n",
       "   *Promises a fun learning experience, attracting those who want knowledge with a side of laughter.*\n",
       "\n",
       "5. \"Get Schooled in AI—50% Off and Zero Homework!\"  \n",
       "   *Light-hearted jab at traditional learning frustrations, making the course sound appealing.*\n",
       "\n",
       "6. \"50% Off: Because Who Needs Sleep When You Can Master AI?\"  \n",
       "   *Funny exaggeration to imply the importance and excitement of learning AI, making it sound enticing.*\n",
       "\n",
       "7. \"Want to Impress Robots? Sign Up—50% Off!\"  \n",
       "   *A humorous take on impressing AI, appealing to professionals looking to enhance their skills.*\n",
       "\n",
       "8. \"Make Your AI Skills Funnier, 50% Off Now!\"  \n",
       "   *Suggests that learning AI can add humor to a serious skill set, sparking intrigue and humor at the same time.*\n",
       "\n",
       "9. \"Become an AI Wizard—No Wand Required, Just 50% Off!\"  \n",
       "   *Dramatic imagery of magic, tickling the funny bone while conveying the course's transformative benefits.*\n",
       "\n",
       "10. \"Professors Fear This Course—50% Off Your AI Adventure!\"  \n",
       "   *Funny suggestion that the course is so good it makes professors anxious, inviting intrigue and humor.*\n",
       "\n",
       "Each of these subject lines uses humor to create a memorable connection, encouraging opens and attracting professionals eager for a fun and engaging learning experience, all while highlighting the attractive discount."
      ],
      "text/plain": [
       "<IPython.core.display.Markdown object>"
      ]
     },
     "metadata": {},
     "output_type": "display_data"
    }
   ],
   "source": [
    "display(Markdown(completion.choices[0].message.content))"
   ]
  },
  {
   "cell_type": "markdown",
   "id": "61a8075d",
   "metadata": {},
   "source": [
    "---"
   ]
  }
 ],
 "metadata": {
  "kernelspec": {
   "display_name": ".agent_env",
   "language": "python",
   "name": "python3"
  },
  "language_info": {
   "codemirror_mode": {
    "name": "ipython",
    "version": 3
   },
   "file_extension": ".py",
   "mimetype": "text/x-python",
   "name": "python",
   "nbconvert_exporter": "python",
   "pygments_lexer": "ipython3",
   "version": "3.11.12"
  }
 },
 "nbformat": 4,
 "nbformat_minor": 5
}
