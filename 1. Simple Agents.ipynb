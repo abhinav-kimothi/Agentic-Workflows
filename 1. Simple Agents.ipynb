{
 "cells": [
  {
   "cell_type": "markdown",
   "id": "51892d0e",
   "metadata": {},
   "source": [
    "<img src=\"./Assets/1.1 AgWorkHeaderImage.png\">"
   ]
  },
  {
   "cell_type": "markdown",
   "id": "4c111729",
   "metadata": {},
   "source": [
    "## What is an Agent?\n",
    "\n",
    "..an Agent is a __SYSTEM__ that leverages an __AI MODEL__ to interact with its __ENVIRONMENT__ to achieve a __USER-DEFINED OBJECTIVE__. It combines _MEMORY_, _REASONING_, _PLANNING_, and _ACTIONS_ (often via _EXTERNAL TOOLS_) to fulfil _TASKS_."
   ]
  },
  {
   "cell_type": "markdown",
   "id": "c2c42da9",
   "metadata": {},
   "source": [
    "---"
   ]
  },
  {
   "cell_type": "markdown",
   "id": "a260871d",
   "metadata": {},
   "source": [
    "## Agency Point of View for developing Agents\n"
   ]
  },
  {
   "cell_type": "markdown",
   "id": "1d03e5c6",
   "metadata": {},
   "source": [
    "<img src=\"./Assets/1.2 Agency Cross Tab.png\">"
   ]
  },
  {
   "cell_type": "markdown",
   "id": "dbadb1ce",
   "metadata": {},
   "source": [
    "---"
   ]
  },
  {
   "cell_type": "markdown",
   "id": "4e8c957b",
   "metadata": {},
   "source": [
    "## Simple Agents\n",
    "\n",
    "- __Stateless__ Simple Processor\n",
    "- __Stateless__ Simple Routing\n",
    "- __Memory Aware__ Router"
   ]
  },
  {
   "cell_type": "markdown",
   "id": "5203bad4",
   "metadata": {},
   "source": [
    "### Stateless Simple Processor using OpenAI API\n",
    "\n",
    "<img src=\"./Assets/1.3 Simple Processor.png\">"
   ]
  },
  {
   "cell_type": "markdown",
   "id": "18cdcb0b",
   "metadata": {},
   "source": [
    "### Using OpenAI Responses API"
   ]
  },
  {
   "cell_type": "code",
   "execution_count": 110,
   "id": "615e6002",
   "metadata": {},
   "outputs": [],
   "source": [
    "from dotenv import load_dotenv\n",
    "import os"
   ]
  },
  {
   "cell_type": "code",
   "execution_count": 111,
   "id": "f8702aea",
   "metadata": {},
   "outputs": [
    {
     "name": "stdout",
     "output_type": "stream",
     "text": [
      "Success: .env file found with some environment variables\n"
     ]
    }
   ],
   "source": [
    "if load_dotenv():\n",
    "    print(\"Success: .env file found with some environment variables\")\n",
    "else:\n",
    "    print(\"Caution: No environment variables found. Please create .env file in the root directory or add environment variables in the .env file\")"
   ]
  },
  {
   "cell_type": "code",
   "execution_count": 112,
   "id": "fe8aca3e",
   "metadata": {},
   "outputs": [],
   "source": [
    "api_key=os.environ[\"OPENAI_API_KEY\"]"
   ]
  },
  {
   "cell_type": "code",
   "execution_count": 113,
   "id": "4a359686",
   "metadata": {},
   "outputs": [],
   "source": [
    "#### os.environ[\"OPENAI_API_KEY\"] = \"sk-proj-******\""
   ]
  },
  {
   "cell_type": "markdown",
   "id": "7f29f6e7",
   "metadata": {},
   "source": [
    "Make a call to OpenAI API"
   ]
  },
  {
   "cell_type": "code",
   "execution_count": 114,
   "id": "17ddd4cb",
   "metadata": {},
   "outputs": [],
   "source": [
    "from openai import OpenAI\n",
    "client = OpenAI()\n",
    "\n",
    "response = client.responses.create(\n",
    "    model=\"gpt-4o-mini\",\n",
    "    input=\"Write a one-sentence bedtime story about a unicorn.\"\n",
    ")\n"
   ]
  },
  {
   "cell_type": "code",
   "execution_count": 115,
   "id": "58ab3cc0",
   "metadata": {},
   "outputs": [
    {
     "data": {
      "text/plain": [
       "'In a shimmering forest under a blanket of starlight, a gentle unicorn named Luna danced with fireflies, spreading dreams of magic and wonder to all who slept.'"
      ]
     },
     "execution_count": 115,
     "metadata": {},
     "output_type": "execute_result"
    }
   ],
   "source": [
    "response.output_text"
   ]
  },
  {
   "cell_type": "code",
   "execution_count": 116,
   "id": "cc162429",
   "metadata": {},
   "outputs": [],
   "source": [
    "import textwrap"
   ]
  },
  {
   "cell_type": "code",
   "execution_count": 117,
   "id": "479d3a99",
   "metadata": {},
   "outputs": [
    {
     "name": "stdout",
     "output_type": "stream",
     "text": [
      "In a shimmering forest under a blanket of starlight, a gentle unicorn named Luna danced with\n",
      "fireflies, spreading dreams of magic and wonder to all who slept.\n"
     ]
    }
   ],
   "source": [
    "print(textwrap.fill(response.output_text,100))"
   ]
  },
  {
   "cell_type": "code",
   "execution_count": 118,
   "id": "cba62590",
   "metadata": {},
   "outputs": [
    {
     "data": {
      "text/markdown": [
       "### In a shimmering forest under a blanket of starlight, a gentle unicorn named Luna danced with fireflies, spreading dreams of magic and wonder to all who slept."
      ],
      "text/plain": [
       "<IPython.core.display.Markdown object>"
      ]
     },
     "metadata": {},
     "output_type": "display_data"
    }
   ],
   "source": [
    "from IPython.display import Markdown, display\n",
    "display(Markdown(\"### \"+response.output_text))"
   ]
  },
  {
   "cell_type": "markdown",
   "id": "ff2eba8b",
   "metadata": {},
   "source": [
    "---"
   ]
  },
  {
   "cell_type": "markdown",
   "id": "e8560041",
   "metadata": {},
   "source": [
    "### Stateless Simple Processor"
   ]
  },
  {
   "cell_type": "code",
   "execution_count": 119,
   "id": "bd3672c2",
   "metadata": {},
   "outputs": [],
   "source": [
    "system_prompt=\"\"\"\n",
    "You are a top-tier email marketing expert known for crafting high-converting subject lines. Your job is to generate concise, compelling, and curiosity-driven subject lines that maximise open rates for marketing emails.\n",
    "Each subject line should:\n",
    "\t•\tBe under 50 characters (if possible)\n",
    "\t•\tInclude emotional or benefit-driven language\n",
    "\t•\tAvoid spammy or misleading phrases\n",
    "\t•\tBe tailored to the target audience and campaign goal\n",
    "\n",
    "Input:\n",
    "\t•\tProduct/Service: Food Delivery Business - Zwigato\n",
    "\t•\tTarget Audience: Young working professionals\n",
    "\t•\tTone: Quirky and Witty\n",
    "\t•\tOffer or CTA (if any): First Order Free\n",
    "\t•\tContext/Purpose: New Launch \n",
    "\n",
    "Output:\n",
    "Generate 5 unique subject lines that follow the instructions above. Include a short explanation of why each one might perform well.\n",
    "\"\"\""
   ]
  },
  {
   "cell_type": "code",
   "execution_count": 120,
   "id": "51f6e229",
   "metadata": {},
   "outputs": [],
   "source": [
    "response = client.responses.create(\n",
    "    model=\"gpt-4o-mini\",\n",
    "    input=system_prompt\n",
    ")"
   ]
  },
  {
   "cell_type": "code",
   "execution_count": 121,
   "id": "0930faf1",
   "metadata": {},
   "outputs": [
    {
     "name": "stdout",
     "output_type": "stream",
     "text": [
      "Here are five unique subject lines for Zwigato's food delivery launch, tailored to young working professionals:\n",
      "\n",
      "1. **\"Your First Dish? On Us!\"**\n",
      "   - *Why it works:* This subject line is direct and emphasizes the free offer. The informal tone makes it feel friendly and appealing to busy young professionals who enjoy perks.\n",
      "\n",
      "2. **\"Ditch the Takeout Stress—We’ve Got Your First Meal!\"**\n",
      "   - *Why it works:* This line plays on the stress of ordering food, highlighting convenience. Young professionals often seek ease, making it relatable and compelling.\n",
      "\n",
      "3. **\"Hungry? Let Us Treat You to Your First Meal!\"**\n",
      "   - *Why it works:* The phrase \"Let Us Treat You\" feels personal and inviting. It taps into the audience's hunger and desire for a fun, cost-effective dining experience.\n",
      "\n",
      "4. **\"Foodie Alert: Get Your First Order Free!\"**\n",
      "   - *Why it works:* This subject line uses playful language, appealing to food lovers. The excitement in “Foodie Alert” grabs attention, driving curiosity.\n",
      "\n",
      "5. **\"Savor the Flavor—Your First Order's on Us!\"**\n",
      "   - *Why it works:* This playful twist on a familiar phrase music resonates with a young audience who appreciates clever wording. The promise of \"flavor\" ties directly to food, increasing intrigue.\n",
      "\n",
      "Each subject line is crafted to evoke emotion, resonate with the target audience, and clearly communicate the appealing offer, making them likely to drive high open rates.\n"
     ]
    }
   ],
   "source": [
    "print(response.output_text)"
   ]
  },
  {
   "cell_type": "code",
   "execution_count": 122,
   "id": "e43b3aca",
   "metadata": {},
   "outputs": [
    {
     "data": {
      "text/markdown": [
       "### Here are five unique subject lines for Zwigato's food delivery launch, tailored to young working professionals:\n",
       "\n",
       "1. **\"Your First Dish? On Us!\"**\n",
       "   - *Why it works:* This subject line is direct and emphasizes the free offer. The informal tone makes it feel friendly and appealing to busy young professionals who enjoy perks.\n",
       "\n",
       "2. **\"Ditch the Takeout Stress—We’ve Got Your First Meal!\"**\n",
       "   - *Why it works:* This line plays on the stress of ordering food, highlighting convenience. Young professionals often seek ease, making it relatable and compelling.\n",
       "\n",
       "3. **\"Hungry? Let Us Treat You to Your First Meal!\"**\n",
       "   - *Why it works:* The phrase \"Let Us Treat You\" feels personal and inviting. It taps into the audience's hunger and desire for a fun, cost-effective dining experience.\n",
       "\n",
       "4. **\"Foodie Alert: Get Your First Order Free!\"**\n",
       "   - *Why it works:* This subject line uses playful language, appealing to food lovers. The excitement in “Foodie Alert” grabs attention, driving curiosity.\n",
       "\n",
       "5. **\"Savor the Flavor—Your First Order's on Us!\"**\n",
       "   - *Why it works:* This playful twist on a familiar phrase music resonates with a young audience who appreciates clever wording. The promise of \"flavor\" ties directly to food, increasing intrigue.\n",
       "\n",
       "Each subject line is crafted to evoke emotion, resonate with the target audience, and clearly communicate the appealing offer, making them likely to drive high open rates."
      ],
      "text/plain": [
       "<IPython.core.display.Markdown object>"
      ]
     },
     "metadata": {},
     "output_type": "display_data"
    }
   ],
   "source": [
    "display(Markdown(\"### \" + response.output_text))"
   ]
  },
  {
   "cell_type": "markdown",
   "id": "45d7c57f",
   "metadata": {},
   "source": [
    "---"
   ]
  },
  {
   "cell_type": "markdown",
   "id": "c3326ca1",
   "metadata": {},
   "source": [
    "### Stateless Simple Processor with inferred input attributes"
   ]
  },
  {
   "cell_type": "code",
   "execution_count": 123,
   "id": "f3fef232",
   "metadata": {},
   "outputs": [],
   "source": [
    "user_input_message=\"\"\"\n",
    "Create a campaign for my course on Agentic Workflows for professionals seeking knowledge on AI agents. \n",
    "I am offering a 50% off.\n",
    "\"\"\""
   ]
  },
  {
   "cell_type": "code",
   "execution_count": 124,
   "id": "97a96d10",
   "metadata": {},
   "outputs": [],
   "source": [
    "system_prompt=f\"\"\"\n",
    "You are a top-tier email marketing expert known for crafting high-converting subject lines. Your job is to generate concise, compelling, and curiosity-driven subject lines that maximise open rates for marketing emails.\n",
    "Each subject line should:\n",
    "\t•\tBe under 50 characters (if possible)\n",
    "\t•\tInclude emotional or benefit-driven language\n",
    "\t•\tAvoid spammy or misleading phrases\n",
    "\t•\tBe tailored to the target audience and campaign goal\n",
    "\n",
    "You are given the following input message from the user for the generation of the subject lines.\n",
    "\n",
    "{user_input_message}\n",
    "\n",
    "From the Input message infer the following. If not able to infer make assumptions:\n",
    "\t•\tProduct/Service: \n",
    "\t•\tTarget Audience: \n",
    "\t•\tTone: \n",
    "\t•\tOffer or CTA (if any): \n",
    "\t•\tContext/Purpose: \n",
    "\n",
    "Output:\n",
    "List the inferred attributes and then \n",
    "generate 5 unique subject lines that follow the instructions above. Include a short explanation of why each one might perform well.\n",
    "\"\"\""
   ]
  },
  {
   "cell_type": "code",
   "execution_count": 128,
   "id": "98429dbf",
   "metadata": {},
   "outputs": [],
   "source": [
    "response = client.responses.create(\n",
    "    model=\"gpt-4o-mini\",\n",
    "    input=system_prompt\n",
    ")"
   ]
  },
  {
   "cell_type": "code",
   "execution_count": 129,
   "id": "3350a600",
   "metadata": {},
   "outputs": [
    {
     "data": {
      "text/markdown": [
       "### Inferred Attributes:\n",
       "\n",
       "- **Product/Service:** Course on Agentic Workflows focused on AI agents\n",
       "- **Target Audience:** Professionals seeking to enhance their knowledge of AI and improve their workflow efficiency\n",
       "- **Tone:** Informative, encouraging, and professional\n",
       "- **Offer or CTA:** 50% discount on the course\n",
       "- **Context/Purpose:** To promote the course and encourage enrollment at a discounted rate\n",
       "\n",
       "### Subject Lines:\n",
       "\n",
       "1. **\"Unlock AI Secrets—50% Off Today!\"**\n",
       "   - **Explanation:** This subject line evokes curiosity (\"Unlock AI Secrets\") and emphasizes the urgency of the discount, making it enticing for professionals eager to learn.\n",
       "\n",
       "2. **\"Transform Your Workflow: 50% Off Course!\"**\n",
       "   - **Explanation:** It highlights the benefit of transforming workflows through the course. The discount serves as a motivating factor for potential students to take action.\n",
       "\n",
       "3. **\"Master AI Agents at Half the Price!\"**\n",
       "   - **Explanation:** Starting with \"Master\" positions the course as an opportunity for expertise, appealing to professionals who want to advance their skills while emphasizing the savings.\n",
       "\n",
       "4. **\"Elevate Your Career: AI Course 50% Off!\"**\n",
       "   - **Explanation:** This subject line connects the course directly to career advancement, a significant motivator for professionals, combined with the focus on the discount.\n",
       "\n",
       "5. **\"Discover the Future of Work—50% Savings!\"**\n",
       "   - **Explanation:** It piques interest by inviting readers to explore \"the Future of Work,\" which is highly relevant to AI and workflows, while also highlighting the financial incentive.\n",
       "\n",
       "These subject lines incorporate benefits and emotional appeal while maintaining clarity and professionalism, making them suitable for the target audience of professionals interested in AI."
      ],
      "text/plain": [
       "<IPython.core.display.Markdown object>"
      ]
     },
     "metadata": {},
     "output_type": "display_data"
    }
   ],
   "source": [
    "display(Markdown(response.output_text))"
   ]
  },
  {
   "cell_type": "markdown",
   "id": "af3a498d",
   "metadata": {},
   "source": [
    "---"
   ]
  },
  {
   "cell_type": "markdown",
   "id": "21c30aa8",
   "metadata": {},
   "source": [
    "### Stateless Simple Router using OpenAI API\n",
    "\n",
    "<img src=\"./Assets/1.4 Simple Router.png\">\n",
    "\n"
   ]
  },
  {
   "cell_type": "code",
   "execution_count": 130,
   "id": "c3adc0e4",
   "metadata": {},
   "outputs": [],
   "source": [
    "import uuid\n",
    "message_id = uuid.uuid4()\n"
   ]
  },
  {
   "cell_type": "code",
   "execution_count": 131,
   "id": "ef6ba20d",
   "metadata": {},
   "outputs": [],
   "source": [
    "from datetime import datetime\n",
    "\n",
    "message_date=datetime.now()"
   ]
  },
  {
   "cell_type": "code",
   "execution_count": 132,
   "id": "7b6a4ad8",
   "metadata": {},
   "outputs": [],
   "source": [
    "user_message=\"\"\"\n",
    "my laptop is has arrived. I am so excited.\n",
    "\"\"\""
   ]
  },
  {
   "cell_type": "code",
   "execution_count": 133,
   "id": "3ee61939",
   "metadata": {},
   "outputs": [],
   "source": [
    "system_prompt=f\"\"\"\n",
    "You are an NLP expert assisting the technical team in analyzing user messages. The analysis will be used by the team to make decisions more effectively.\n",
    "\n",
    "You have been provided with the {message_id} and {message_date} along with the following user message.\n",
    "\n",
    "### Start of User Message\n",
    "{user_message}\n",
    "### End of User Message\n",
    "\n",
    "**Task 1:**\n",
    "#### **1. Message Classification **\n",
    "Classify the message into a **single category** that best describes its purpose. Choose the category from the predefined list below. This classification will help the technical team identify specific themes and make decisions faster.\n",
    "\n",
    "- **Order Management**: A message regarding the status of the order that user has placed.\n",
    "- **Application Support**: A message regarding the web or mobile application functionality.\n",
    "- **Service Feedback**: A message regarding customer service.\n",
    "- **Shopping Assistance**: A message requiring assistance in shopping.\n",
    "- **Others**: A general message.\n",
    "- **Spam**: A message that seems like spam.\n",
    "\n",
    "\n",
    "##### **Important Instructions for Classification:**\n",
    "- Ensure each message is classified into **only one category** based on its primary intent or purpose. If multiple intents are detected, select the most relevant category that reflects the user's main goal.\n",
    "- Do not create new categories or use freeform text for classification. Always use one of the predefined categories exactly as they appear in the list above.\n",
    "\n",
    "**task 2**\n",
    "Analyze the sentiment of the message and classify it into one of the following categories:\n",
    "- **Positive**: The message conveys positivity, satisfaction, gratitude, or encouragement.\n",
    "- **Neutral**: The message is factual, descriptive, or lacks any emotional tone.\n",
    "- **Negative**: The message conveys frustration, dissatisfaction, or criticism.\n",
    "\n",
    "Respond in JSON Format.\n",
    "\n",
    "message_id:\n",
    "message_date:\n",
    "message_category:\n",
    "message_sentiment:\n",
    "\n",
    "\"\"\"\n"
   ]
  },
  {
   "cell_type": "code",
   "execution_count": 134,
   "id": "2af0578e",
   "metadata": {},
   "outputs": [],
   "source": [
    "response = client.responses.create(\n",
    "    model=\"gpt-4o-mini\",\n",
    "    input=system_prompt\n",
    ")"
   ]
  },
  {
   "cell_type": "code",
   "execution_count": 135,
   "id": "9d3e1c4b",
   "metadata": {},
   "outputs": [
    {
     "data": {
      "text/markdown": [
       "```json\n",
       "{\n",
       "  \"message_id\": \"421f826a-09c1-474a-a8f2-b719652817c1\",\n",
       "  \"message_date\": \"2025-05-16 10:26:22.839668\",\n",
       "  \"message_category\": \"Order Management\",\n",
       "  \"message_sentiment\": \"Positive\"\n",
       "}\n",
       "```"
      ],
      "text/plain": [
       "<IPython.core.display.Markdown object>"
      ]
     },
     "metadata": {},
     "output_type": "display_data"
    }
   ],
   "source": [
    "display(Markdown(response.output_text))"
   ]
  },
  {
   "cell_type": "markdown",
   "id": "137600ca",
   "metadata": {},
   "source": [
    "---"
   ]
  },
  {
   "cell_type": "markdown",
   "id": "76efe7ff",
   "metadata": {},
   "source": [
    "### Memory Aware Simple Processor\n",
    "\n",
    "<img src=\"./Assets/1.5 Memory Aware.png\">"
   ]
  },
  {
   "cell_type": "markdown",
   "id": "505647ec",
   "metadata": {},
   "source": [
    "### OpenAI Chat Completion API"
   ]
  },
  {
   "cell_type": "code",
   "execution_count": 136,
   "id": "17f5e362",
   "metadata": {},
   "outputs": [],
   "source": [
    "system_prompt=\"\"\"\n",
    "You are a top-tier email marketing expert known for crafting high-converting subject lines. Your job is to generate concise, compelling, and curiosity-driven subject lines that maximise open rates for marketing emails.\n",
    "Each subject line should:\n",
    "\t•\tBe under 50 characters (if possible)\n",
    "\t•\tInclude emotional or benefit-driven language\n",
    "\t•\tAvoid spammy or misleading phrases\n",
    "\t•\tBe tailored to the target audience and campaign goal\n",
    "\n",
    "You will be given an input message from the user for the generation of the subject lines.\n",
    "\n",
    "From the Input message infer the following. If not able to infer make assumptions:\n",
    "\t•\tProduct/Service: \n",
    "\t•\tTarget Audience: \n",
    "\t•\tTone: \n",
    "\t•\tOffer or CTA (if any): \n",
    "\t•\tContext/Purpose: \n",
    "\n",
    "Output:\n",
    "List the inferred attributes and then \n",
    "generate 5 unique subject lines that follow the instructions above. Include a short explanation of why each one might perform well.\n",
    "\"\"\""
   ]
  },
  {
   "cell_type": "code",
   "execution_count": 137,
   "id": "bc85c296",
   "metadata": {},
   "outputs": [],
   "source": [
    "user_message=\"\"\"\n",
    "Create a campaign for my course on Agentic Workflows for professionals seeking knowledge on AI agents. \n",
    "I am offering a 50% off.\n",
    "\"\"\""
   ]
  },
  {
   "cell_type": "code",
   "execution_count": 140,
   "id": "44b72ed1",
   "metadata": {},
   "outputs": [],
   "source": [
    "completion = client.chat.completions.create(\n",
    "  model=\"gpt-4o-mini\",\n",
    "  messages=[\n",
    "    {\"role\": \"system\", \"content\": system_prompt},\n",
    "    {\"role\": \"user\", \"content\": user_message}\n",
    "  ]\n",
    ")\n"
   ]
  },
  {
   "cell_type": "code",
   "execution_count": 141,
   "id": "efa1c446",
   "metadata": {},
   "outputs": [
    {
     "data": {
      "text/markdown": [
       "**Inferred Attributes:**\n",
       "- **Product/Service:** Course on Agentic Workflows focusing on AI agents\n",
       "- **Target Audience:** Professionals seeking knowledge on AI agents\n",
       "- **Tone:** Informative and promotional\n",
       "- **Offer or CTA (if any):** 50% off\n",
       "- **Context/Purpose:** Promote a course to increase enrollments\n",
       "\n",
       "**Subject Lines:**\n",
       "\n",
       "1. **\"Unlock AI Mastery at 50% Off!\"**\n",
       "   - This subject line emphasizes the benefit of mastering AI while highlighting the significant discount, making it compelling for professionals looking to enhance their skills.\n",
       "\n",
       "2. **\"Transform Your Career with AI Workflows!\"**\n",
       "   - It appeals to the audience's desire for career advancement, suggesting that learning about AI workflows can lead to better job opportunities or effectiveness in their roles.\n",
       "\n",
       "3. **\"Ready to Harness AI? Save 50% Today!\"**\n",
       "   - This creates a sense of urgency and encourages immediate action, appealing to those interested in adopting AI technologies in their work.\n",
       "\n",
       "4. **\"Elevate Your Skills: AI Course 50% Off!\"**\n",
       "   - This subject line conveys a clear benefit of skill enhancement and positions the course offer positively with the discount.\n",
       "\n",
       "5. **\"Discover the Future of Work with 50% Off!\"**\n",
       "   - It builds curiosity about the 'future of work' while inviting professionals to learn more, making the offer feel timely and essential. \n",
       "\n",
       "Each of these subject lines focuses on the benefit of the course, the enticing discount, and the professional development aspect that resonates with the target audience, thus maximizing the chances of a higher open rate."
      ],
      "text/plain": [
       "<IPython.core.display.Markdown object>"
      ]
     },
     "metadata": {},
     "output_type": "display_data"
    }
   ],
   "source": [
    "display(Markdown(completion.choices[0].message.content))"
   ]
  },
  {
   "cell_type": "code",
   "execution_count": 142,
   "id": "8ff29c83",
   "metadata": {},
   "outputs": [],
   "source": [
    "chat_history=[\n",
    "    {\"role\": \"system\", \"content\": system_prompt},\n",
    "    {\"role\": \"user\", \"content\": user_message}\n",
    "]"
   ]
  },
  {
   "cell_type": "code",
   "execution_count": 143,
   "id": "0afd094e",
   "metadata": {},
   "outputs": [],
   "source": [
    "chat_history.append(completion.choices[0].message)"
   ]
  },
  {
   "cell_type": "code",
   "execution_count": 144,
   "id": "5f09fdce",
   "metadata": {},
   "outputs": [
    {
     "data": {
      "text/plain": [
       "[{'role': 'system',\n",
       "  'content': '\\nYou are a top-tier email marketing expert known for crafting high-converting subject lines. Your job is to generate concise, compelling, and curiosity-driven subject lines that maximise open rates for marketing emails.\\nEach subject line should:\\n\\t•\\tBe under 50 characters (if possible)\\n\\t•\\tInclude emotional or benefit-driven language\\n\\t•\\tAvoid spammy or misleading phrases\\n\\t•\\tBe tailored to the target audience and campaign goal\\n\\nYou will be given an input message from the user for the generation of the subject lines.\\n\\nFrom the Input message infer the following. If not able to infer make assumptions:\\n\\t•\\tProduct/Service: \\n\\t•\\tTarget Audience: \\n\\t•\\tTone: \\n\\t•\\tOffer or CTA (if any): \\n\\t•\\tContext/Purpose: \\n\\nOutput:\\nList the inferred attributes and then \\ngenerate 5 unique subject lines that follow the instructions above. Include a short explanation of why each one might perform well.\\n'},\n",
       " {'role': 'user',\n",
       "  'content': '\\nCreate a campaign for my course on Agentic Workflows for professionals seeking knowledge on AI agents. \\nI am offering a 50% off.\\n'},\n",
       " ChatCompletionMessage(content='**Inferred Attributes:**\\n- **Product/Service:** Course on Agentic Workflows focusing on AI agents\\n- **Target Audience:** Professionals seeking knowledge on AI agents\\n- **Tone:** Informative and promotional\\n- **Offer or CTA (if any):** 50% off\\n- **Context/Purpose:** Promote a course to increase enrollments\\n\\n**Subject Lines:**\\n\\n1. **\"Unlock AI Mastery at 50% Off!\"**\\n   - This subject line emphasizes the benefit of mastering AI while highlighting the significant discount, making it compelling for professionals looking to enhance their skills.\\n\\n2. **\"Transform Your Career with AI Workflows!\"**\\n   - It appeals to the audience\\'s desire for career advancement, suggesting that learning about AI workflows can lead to better job opportunities or effectiveness in their roles.\\n\\n3. **\"Ready to Harness AI? Save 50% Today!\"**\\n   - This creates a sense of urgency and encourages immediate action, appealing to those interested in adopting AI technologies in their work.\\n\\n4. **\"Elevate Your Skills: AI Course 50% Off!\"**\\n   - This subject line conveys a clear benefit of skill enhancement and positions the course offer positively with the discount.\\n\\n5. **\"Discover the Future of Work with 50% Off!\"**\\n   - It builds curiosity about the \\'future of work\\' while inviting professionals to learn more, making the offer feel timely and essential. \\n\\nEach of these subject lines focuses on the benefit of the course, the enticing discount, and the professional development aspect that resonates with the target audience, thus maximizing the chances of a higher open rate.', refusal=None, role='assistant', annotations=[], audio=None, function_call=None, tool_calls=None)]"
      ]
     },
     "execution_count": 144,
     "metadata": {},
     "output_type": "execute_result"
    }
   ],
   "source": [
    "chat_history"
   ]
  },
  {
   "cell_type": "code",
   "execution_count": 145,
   "id": "d42fd7a0",
   "metadata": {},
   "outputs": [],
   "source": [
    "chat_history.append({ \"role\": \"user\", \"content\": \"Make it quirky\" })\n"
   ]
  },
  {
   "cell_type": "code",
   "execution_count": 146,
   "id": "f9833d45",
   "metadata": {},
   "outputs": [
    {
     "data": {
      "text/plain": [
       "[{'role': 'system',\n",
       "  'content': '\\nYou are a top-tier email marketing expert known for crafting high-converting subject lines. Your job is to generate concise, compelling, and curiosity-driven subject lines that maximise open rates for marketing emails.\\nEach subject line should:\\n\\t•\\tBe under 50 characters (if possible)\\n\\t•\\tInclude emotional or benefit-driven language\\n\\t•\\tAvoid spammy or misleading phrases\\n\\t•\\tBe tailored to the target audience and campaign goal\\n\\nYou will be given an input message from the user for the generation of the subject lines.\\n\\nFrom the Input message infer the following. If not able to infer make assumptions:\\n\\t•\\tProduct/Service: \\n\\t•\\tTarget Audience: \\n\\t•\\tTone: \\n\\t•\\tOffer or CTA (if any): \\n\\t•\\tContext/Purpose: \\n\\nOutput:\\nList the inferred attributes and then \\ngenerate 5 unique subject lines that follow the instructions above. Include a short explanation of why each one might perform well.\\n'},\n",
       " {'role': 'user',\n",
       "  'content': '\\nCreate a campaign for my course on Agentic Workflows for professionals seeking knowledge on AI agents. \\nI am offering a 50% off.\\n'},\n",
       " ChatCompletionMessage(content='**Inferred Attributes:**\\n- **Product/Service:** Course on Agentic Workflows focusing on AI agents\\n- **Target Audience:** Professionals seeking knowledge on AI agents\\n- **Tone:** Informative and promotional\\n- **Offer or CTA (if any):** 50% off\\n- **Context/Purpose:** Promote a course to increase enrollments\\n\\n**Subject Lines:**\\n\\n1. **\"Unlock AI Mastery at 50% Off!\"**\\n   - This subject line emphasizes the benefit of mastering AI while highlighting the significant discount, making it compelling for professionals looking to enhance their skills.\\n\\n2. **\"Transform Your Career with AI Workflows!\"**\\n   - It appeals to the audience\\'s desire for career advancement, suggesting that learning about AI workflows can lead to better job opportunities or effectiveness in their roles.\\n\\n3. **\"Ready to Harness AI? Save 50% Today!\"**\\n   - This creates a sense of urgency and encourages immediate action, appealing to those interested in adopting AI technologies in their work.\\n\\n4. **\"Elevate Your Skills: AI Course 50% Off!\"**\\n   - This subject line conveys a clear benefit of skill enhancement and positions the course offer positively with the discount.\\n\\n5. **\"Discover the Future of Work with 50% Off!\"**\\n   - It builds curiosity about the \\'future of work\\' while inviting professionals to learn more, making the offer feel timely and essential. \\n\\nEach of these subject lines focuses on the benefit of the course, the enticing discount, and the professional development aspect that resonates with the target audience, thus maximizing the chances of a higher open rate.', refusal=None, role='assistant', annotations=[], audio=None, function_call=None, tool_calls=None),\n",
       " {'role': 'user', 'content': 'Make it quirky'}]"
      ]
     },
     "execution_count": 146,
     "metadata": {},
     "output_type": "execute_result"
    }
   ],
   "source": [
    "chat_history"
   ]
  },
  {
   "cell_type": "code",
   "execution_count": 147,
   "id": "60df6161",
   "metadata": {},
   "outputs": [],
   "source": [
    "completion = client.chat.completions.create(\n",
    "  model=\"gpt-4o-mini\",\n",
    "  messages=chat_history\n",
    ")\n"
   ]
  },
  {
   "cell_type": "code",
   "execution_count": 148,
   "id": "48b2bb47",
   "metadata": {},
   "outputs": [
    {
     "data": {
      "text/markdown": [
       "**Inferred Attributes:**\n",
       "- **Product/Service:** Course on Agentic Workflows focusing on AI agents\n",
       "- **Target Audience:** Professionals seeking knowledge on AI agents\n",
       "- **Tone:** Quirky and playful\n",
       "- **Offer or CTA (if any):** 50% off\n",
       "- **Context/Purpose:** Promote a course to increase enrollments in a fun way\n",
       "\n",
       "**Subject Lines:**\n",
       "\n",
       "1. **\"AI Not Just for Robots: 50% Off!\"**\n",
       "   - This whimsical phrase plays on the stereotype of AI being for machines and invites professionals to explore its relevance in their work while highlighting the discount.\n",
       "\n",
       "2. **\"Your Brain + AI = 50% Off Genius!\"**\n",
       "   - Mixing math and fun, this subject line suggests a fun calculation that combines their intellect with AI knowledge, while teasing the discount as a bonus.\n",
       "\n",
       "3. **\"50% Off: AI That’ll Make Your Workflow Sing!\"**\n",
       "   - The phrase \"make your workflow sing\" adds a charming quirkiness, suggesting that learning about AI can infuse joy and efficiency in their work.\n",
       "\n",
       "4. **\"Crack the Code of AI & Save 50%!\"**\n",
       "   - Using the metaphor of cracking a code makes the learning process feel adventurous, and the promotion adds to the allure of discovery.\n",
       "\n",
       "5. **\"Join the AI Party: 50% Off Awaits!\"**\n",
       "   - This brings a fun and lively tone, inviting professionals to 'party' with AI in a festive way while subtly reminding them of the special offer.\n",
       "\n",
       "These quirkier subject lines introduce elements of fun and creativity, encouraging recipients to open the email out of curiosity and delight while still highlighting the attractive offer."
      ],
      "text/plain": [
       "<IPython.core.display.Markdown object>"
      ]
     },
     "metadata": {},
     "output_type": "display_data"
    }
   ],
   "source": [
    "display(Markdown(completion.choices[0].message.content))"
   ]
  },
  {
   "cell_type": "code",
   "execution_count": 149,
   "id": "34da1a0e",
   "metadata": {},
   "outputs": [],
   "source": [
    "chat_history.append(completion.choices[0].message)"
   ]
  },
  {
   "cell_type": "code",
   "execution_count": 150,
   "id": "28b86e10",
   "metadata": {},
   "outputs": [],
   "source": [
    "chat_history.append({ \"role\": \"user\", \"content\": \"create 10 more and extremely funny\" })"
   ]
  },
  {
   "cell_type": "code",
   "execution_count": 151,
   "id": "1a3c14ca",
   "metadata": {},
   "outputs": [],
   "source": [
    "completion = client.chat.completions.create(\n",
    "  model=\"gpt-4o-mini\",\n",
    "  messages=chat_history\n",
    ")"
   ]
  },
  {
   "cell_type": "code",
   "execution_count": 152,
   "id": "57a9ca49",
   "metadata": {},
   "outputs": [
    {
     "data": {
      "text/markdown": [
       "**Inferred Attributes:**\n",
       "- **Product/Service:** Course on Agentic Workflows focusing on AI agents\n",
       "- **Target Audience:** Professionals seeking knowledge on AI agents\n",
       "- **Tone:** Extremely funny and humorous\n",
       "- **Offer or CTA (if any):** 50% off\n",
       "- **Context/Purpose:** Promote a course to increase enrollments with a focus on humor\n",
       "\n",
       "**Subject Lines:**\n",
       "\n",
       "1. **\"Get Smarter, Not Just Nerdier—50% Off AI!\"**\n",
       "   - This playful nudge suggests that AI knowledge can be cool and witty, not just geeky.\n",
       "\n",
       "2. **\"50% Off! Because AI Won't Teach Itself!\"**\n",
       "   - A humorous reminder that someone has to learn AI; may as well be the reader who gets a discount!\n",
       "\n",
       "3. **\"Don’t Let Your Colleagues Out-Geek You—50% Off!\"**\n",
       "   - This creates a funny competitive spirit among peers, making the course seem like a badge of honor.\n",
       "\n",
       "4. **\"AI Will Steal Your Job... Unless You Join Us - 50% Off!\"**\n",
       "   - A cheeky take on the fears surrounding AI in the workplace, inviting them to learn how to stay ahead.\n",
       "\n",
       "5. **\"Warning: AI May Cause Excessive Coolness—50% Off!\"**\n",
       "   - Presenting a humorously absurd side effect of AI knowledge reshapes the serious topic into a fun invitation.\n",
       "\n",
       "6. **\"Be the AI Whisperer—50% Off Before It's Too Late!\"**\n",
       "   - This playful title adds a whimsical spin on mastering AI, suggesting a near-mystical proficiency.\n",
       "\n",
       "7. **\"Master AI and Confuse Your Cat—50% Off!\"**\n",
       "   - A funny and relatable image of using AI knowledge in absurd ways, leading to curiosity about the course.\n",
       "\n",
       "8. **“Join Us! No Cats were Harmed in Learning AI—50% Off!”**\n",
       "   - A light-hearted subject that reassures readers while leaving them curious and amused.\n",
       "\n",
       "9. **\"Your Future: AI & Awkward Silences—50% Off!\"**\n",
       "   - This cleverly plays on the common fear of awkwardness in conversations about tech, enticing them to dive in anyway.\n",
       "\n",
       "10. **\"Don’t Let AI Have All the Fun—50% Off Class!\"**\n",
       "   - It humorously portrays AI as a party crasher and invites professionals to reclaim their spot in the fun.\n",
       "\n",
       "These funny subject lines leverage humor, relatability, and absurdity to intrigue readers while simultaneously spotlighting the special offer, boosting the potential for high open rates."
      ],
      "text/plain": [
       "<IPython.core.display.Markdown object>"
      ]
     },
     "metadata": {},
     "output_type": "display_data"
    }
   ],
   "source": [
    "display(Markdown(completion.choices[0].message.content))"
   ]
  },
  {
   "cell_type": "markdown",
   "id": "668d225b",
   "metadata": {},
   "source": [
    "---\n",
    "\n",
    "These were __Simple Agents__, let's now move interact with the external world with [Tool Calling Agents](./2.%20Tool%20Calling.ipynb)"
   ]
  },
  {
   "cell_type": "markdown",
   "id": "61a8075d",
   "metadata": {},
   "source": [
    "---\n",
    "---"
   ]
  },
  {
   "cell_type": "markdown",
   "id": "068364d8",
   "metadata": {},
   "source": [
    "<img src=\"./Assets/profile_s.png\" width=100> \n",
    "\n",
    "Hi! I'm Abhinav! I have spent over 15 years consulting and leadership roles in data science, machine learning and AI. My current focus is in the applied Generative AI domain focussing on solving enterprise needs through contextual intelligence. I'm passionate about AI advancements constantly exploring emerging technologies to push the boundaries and create positive impacts in the world. Let’s build the future, together!\n",
    "\n",
    "[If you haven't already, get your copy of A Simple Guide to Retrieval Augmented Generation here](https://mng.bz/6ePo)\n",
    "\n",
    "<a href=\"https://mng.bz/6ePo\" target=\"_blank\">\n",
    "    <img src=\"./Assets/NewMEAPFooter.png\" alt=\"New MEAP\" width= 70%\" />\n",
    "</a>\n",
    "\n",
    "#### If you'd like to chat, I'd be very happy to connect\n",
    "\n",
    "[![GitHub followers](https://img.shields.io/badge/Github-000000?style=for-the-badge&logo=github&logoColor=black&color=orange)](https://github.com/abhinav-kimothi)\n",
    "[![LinkedIn](https://img.shields.io/badge/LinkedIn-000000?style=for-the-badge&logo=linkedin&logoColor=orange&color=black)](https://www.linkedin.com/comm/mynetwork/discovery-see-all?usecase=PEOPLE_FOLLOWS&followMember=abhinav-kimothi)\n",
    "[![Medium](https://img.shields.io/badge/Medium-000000?style=for-the-badge&logo=medium&logoColor=black&color=orange)](https://medium.com/@abhinavkimothi)\n",
    "[![Insta](https://img.shields.io/badge/Instagram-000000?style=for-the-badge&logo=instagram&logoColor=orange&color=black)](https://www.instagram.com/akaiworks/)\n",
    "[![Mail](https://img.shields.io/badge/email-000000?style=for-the-badge&logo=gmail&logoColor=black&color=orange)](mailto:abhinav.kimothi.ds@gmail.com)\n",
    "[![X](https://img.shields.io/badge/Follow-000000?style=for-the-badge&logo=X&logoColor=orange&color=black)](https://twitter.com/abhinav_kimothi)\n",
    "[![Linktree](https://img.shields.io/badge/Linktree-000000?style=for-the-badge&logo=linktree&logoColor=black&color=orange)](https://linktr.ee/abhinavkimothi)\n",
    "[![Gumroad](https://img.shields.io/badge/Gumroad-000000?style=for-the-badge&logo=gumroad&logoColor=orange&color=black)](https://abhinavkimothi.gumroad.com/)\n",
    "\n",
    "---"
   ]
  }
 ],
 "metadata": {
  "kernelspec": {
   "display_name": ".agent_env",
   "language": "python",
   "name": "python3"
  },
  "language_info": {
   "codemirror_mode": {
    "name": "ipython",
    "version": 3
   },
   "file_extension": ".py",
   "mimetype": "text/x-python",
   "name": "python",
   "nbconvert_exporter": "python",
   "pygments_lexer": "ipython3",
   "version": "3.11.12"
  }
 },
 "nbformat": 4,
 "nbformat_minor": 5
}
