{
 "cells": [
  {
   "cell_type": "markdown",
   "id": "51892d0e",
   "metadata": {},
   "source": [
    "<img src=\"./Assets/1.1 AgWorkHeaderImage.png\">"
   ]
  },
  {
   "cell_type": "markdown",
   "id": "4c111729",
   "metadata": {},
   "source": [
    "## What is an Agent?\n",
    "\n",
    "..an Agent is a __SYSTEM__ that leverages an __AI MODEL__ to interact with its __ENVIRONMENT__ to achieve a __USER-DEFINED OBJECTIVE__. It combines _MEMORY_, _REASONING_, _PLANNING_, and _ACTIONS_ (often via _EXTERNAL TOOLS_) to fulfil _TASKS_."
   ]
  },
  {
   "cell_type": "markdown",
   "id": "c2c42da9",
   "metadata": {},
   "source": [
    "---"
   ]
  },
  {
   "cell_type": "markdown",
   "id": "a260871d",
   "metadata": {},
   "source": [
    "## Agency Point of View for developing Agents\n"
   ]
  },
  {
   "cell_type": "markdown",
   "id": "1d03e5c6",
   "metadata": {},
   "source": [
    "<img src=\"./Assets/1.2 Agency Cross Tab.png\">"
   ]
  },
  {
   "cell_type": "markdown",
   "id": "dbadb1ce",
   "metadata": {},
   "source": [
    "---"
   ]
  },
  {
   "cell_type": "markdown",
   "id": "4e8c957b",
   "metadata": {},
   "source": [
    "## Simple Agents\n",
    "\n",
    "- __Stateless__ Simple Processor\n",
    "- __Stateless__ Simple Routing\n",
    "- __Memory Aware__ Router"
   ]
  },
  {
   "cell_type": "markdown",
   "id": "5203bad4",
   "metadata": {},
   "source": [
    "### Stateless Simple Processor using OpenAI API\n",
    "\n",
    "<img src=\"./Assets/1.3 Simple Processor.png\">"
   ]
  },
  {
   "cell_type": "markdown",
   "id": "18cdcb0b",
   "metadata": {},
   "source": [
    "### Using OpenAI Responses API"
   ]
  },
  {
   "cell_type": "code",
   "execution_count": 3,
   "id": "615e6002",
   "metadata": {},
   "outputs": [],
   "source": [
    "from dotenv import load_dotenv\n",
    "import os"
   ]
  },
  {
   "cell_type": "code",
   "execution_count": 4,
   "id": "f8702aea",
   "metadata": {},
   "outputs": [
    {
     "name": "stdout",
     "output_type": "stream",
     "text": [
      "Success: .env file found with some environment variables\n"
     ]
    }
   ],
   "source": [
    "if load_dotenv():\n",
    "    print(\"Success: .env file found with some environment variables\")\n",
    "else:\n",
    "    print(\"Caution: No environment variables found. Please create .env file in the root directory or add environment variables in the .env file\")"
   ]
  },
  {
   "cell_type": "code",
   "execution_count": 5,
   "id": "fe8aca3e",
   "metadata": {},
   "outputs": [],
   "source": [
    "api_key=os.environ[\"OPENAI_API_KEY\"]"
   ]
  },
  {
   "cell_type": "code",
   "execution_count": 113,
   "id": "4a359686",
   "metadata": {},
   "outputs": [],
   "source": [
    "#### os.environ[\"OPENAI_API_KEY\"] = \"sk-proj-******\""
   ]
  },
  {
   "cell_type": "markdown",
   "id": "7f29f6e7",
   "metadata": {},
   "source": [
    "Make a call to OpenAI API"
   ]
  },
  {
   "cell_type": "code",
   "execution_count": 6,
   "id": "17ddd4cb",
   "metadata": {},
   "outputs": [],
   "source": [
    "from openai import OpenAI\n",
    "client = OpenAI()\n",
    "\n",
    "response = client.responses.create(\n",
    "    model=\"gpt-4o-mini\",\n",
    "    input=\"Write a one-sentence bedtime story about a unicorn.\"\n",
    ")\n"
   ]
  },
  {
   "cell_type": "code",
   "execution_count": 7,
   "id": "58ab3cc0",
   "metadata": {},
   "outputs": [
    {
     "data": {
      "text/plain": [
       "'As the moonlight danced on the shimmering lake, Luna the unicorn soared into the night sky, leaving a trail of sparkles that whispered sweet dreams to all the children below.'"
      ]
     },
     "execution_count": 7,
     "metadata": {},
     "output_type": "execute_result"
    }
   ],
   "source": [
    "response.output_text"
   ]
  },
  {
   "cell_type": "code",
   "execution_count": 8,
   "id": "cc162429",
   "metadata": {},
   "outputs": [],
   "source": [
    "import textwrap"
   ]
  },
  {
   "cell_type": "code",
   "execution_count": 9,
   "id": "479d3a99",
   "metadata": {},
   "outputs": [
    {
     "name": "stdout",
     "output_type": "stream",
     "text": [
      "As the moonlight danced on the shimmering lake, Luna the unicorn soared into the night sky, leaving\n",
      "a trail of sparkles that whispered sweet dreams to all the children below.\n"
     ]
    }
   ],
   "source": [
    "print(textwrap.fill(response.output_text,100))"
   ]
  },
  {
   "cell_type": "code",
   "execution_count": 10,
   "id": "cba62590",
   "metadata": {},
   "outputs": [
    {
     "data": {
      "text/markdown": [
       "### As the moonlight danced on the shimmering lake, Luna the unicorn soared into the night sky, leaving a trail of sparkles that whispered sweet dreams to all the children below."
      ],
      "text/plain": [
       "<IPython.core.display.Markdown object>"
      ]
     },
     "metadata": {},
     "output_type": "display_data"
    }
   ],
   "source": [
    "from IPython.display import Markdown, display\n",
    "display(Markdown(\"### \"+response.output_text))"
   ]
  },
  {
   "cell_type": "markdown",
   "id": "ff2eba8b",
   "metadata": {},
   "source": [
    "---"
   ]
  },
  {
   "cell_type": "markdown",
   "id": "e8560041",
   "metadata": {},
   "source": [
    "### Stateless Simple Processor"
   ]
  },
  {
   "cell_type": "code",
   "execution_count": 11,
   "id": "bd3672c2",
   "metadata": {},
   "outputs": [],
   "source": [
    "system_prompt=\"\"\"\n",
    "You are a top-tier email marketing expert known for crafting high-converting subject lines. Your job is to generate concise, compelling, and curiosity-driven subject lines that maximise open rates for marketing emails.\n",
    "Each subject line should:\n",
    "\t•\tBe under 50 characters (if possible)\n",
    "\t•\tInclude emotional or benefit-driven language\n",
    "\t•\tAvoid spammy or misleading phrases\n",
    "\t•\tBe tailored to the target audience and campaign goal\n",
    "\n",
    "Input:\n",
    "\t•\tProduct/Service: Food Delivery Business - Zwigato\n",
    "\t•\tTarget Audience: Young working professionals\n",
    "\t•\tTone: Quirky and Witty\n",
    "\t•\tOffer or CTA (if any): First Order Free\n",
    "\t•\tContext/Purpose: New Launch \n",
    "\n",
    "Output:\n",
    "Generate 5 unique subject lines that follow the instructions above. Include a short explanation of why each one might perform well.\n",
    "\"\"\""
   ]
  },
  {
   "cell_type": "code",
   "execution_count": 12,
   "id": "51f6e229",
   "metadata": {},
   "outputs": [],
   "source": [
    "response = client.responses.create(\n",
    "    model=\"gpt-4o-mini\",\n",
    "    input=system_prompt\n",
    ")"
   ]
  },
  {
   "cell_type": "code",
   "execution_count": 13,
   "id": "0930faf1",
   "metadata": {},
   "outputs": [
    {
     "name": "stdout",
     "output_type": "stream",
     "text": [
      "Here are five unique subject lines tailored for Zwigato's food delivery service aimed at young working professionals, along with explanations for their potential effectiveness:\n",
      "\n",
      "1. **\"Your First Meal? On Us! 🍔✨\"**  \n",
      "   - This subject line is enticing and creates a sense of excitement with the affectionate phrase \"On Us.\" The emoji adds a quirky touch that draws the eye, appealing to the target audience's youthful vibe.\n",
      "\n",
      "2. **\"Tired? Let Us Serve You FREE Food!\"**  \n",
      "   - Using \"Tired\" taps into the exhaustion many young professionals feel. This subject line promises relief from that weariness, emphasizing the free offer in a way that feels relevant and immediate.\n",
      "\n",
      "3. **\"Ditch the Cooking—Enjoy a Free Feast!\"**  \n",
      "   - The phrase \"Ditch the Cooking\" speaks to the busy lifestyle of young professionals who may not always have time to cook. The word \"Feast\" sounds appealing and elevates the offer from a simple meal to a delightful experience.\n",
      "\n",
      "4. **\"Hungry for Something New? Try Us Free!\"**  \n",
      "   - This line piques curiosity with \"Something New\" and presents the free trial as an opportunity for exploration. It creates a sense of adventure while remaining relatable to a food-loving audience.\n",
      "\n",
      "5. **\"Your Taste Buds Called—They Want Free Food!\"**  \n",
      "   - This quirky take personifies taste buds, adding humor and whimsy. It creates a connection with the reader, enticing them to satisfy their cravings with a free offering. \n",
      "\n",
      "Each of these subject lines effectively combines emotional appeal, urgency, and curiosity while maintaining a lighthearted and witty tone.\n"
     ]
    }
   ],
   "source": [
    "print(response.output_text)"
   ]
  },
  {
   "cell_type": "code",
   "execution_count": 14,
   "id": "e43b3aca",
   "metadata": {},
   "outputs": [
    {
     "data": {
      "text/markdown": [
       "### Here are five unique subject lines tailored for Zwigato's food delivery service aimed at young working professionals, along with explanations for their potential effectiveness:\n",
       "\n",
       "1. **\"Your First Meal? On Us! 🍔✨\"**  \n",
       "   - This subject line is enticing and creates a sense of excitement with the affectionate phrase \"On Us.\" The emoji adds a quirky touch that draws the eye, appealing to the target audience's youthful vibe.\n",
       "\n",
       "2. **\"Tired? Let Us Serve You FREE Food!\"**  \n",
       "   - Using \"Tired\" taps into the exhaustion many young professionals feel. This subject line promises relief from that weariness, emphasizing the free offer in a way that feels relevant and immediate.\n",
       "\n",
       "3. **\"Ditch the Cooking—Enjoy a Free Feast!\"**  \n",
       "   - The phrase \"Ditch the Cooking\" speaks to the busy lifestyle of young professionals who may not always have time to cook. The word \"Feast\" sounds appealing and elevates the offer from a simple meal to a delightful experience.\n",
       "\n",
       "4. **\"Hungry for Something New? Try Us Free!\"**  \n",
       "   - This line piques curiosity with \"Something New\" and presents the free trial as an opportunity for exploration. It creates a sense of adventure while remaining relatable to a food-loving audience.\n",
       "\n",
       "5. **\"Your Taste Buds Called—They Want Free Food!\"**  \n",
       "   - This quirky take personifies taste buds, adding humor and whimsy. It creates a connection with the reader, enticing them to satisfy their cravings with a free offering. \n",
       "\n",
       "Each of these subject lines effectively combines emotional appeal, urgency, and curiosity while maintaining a lighthearted and witty tone."
      ],
      "text/plain": [
       "<IPython.core.display.Markdown object>"
      ]
     },
     "metadata": {},
     "output_type": "display_data"
    }
   ],
   "source": [
    "display(Markdown(\"### \" + response.output_text))"
   ]
  },
  {
   "cell_type": "markdown",
   "id": "45d7c57f",
   "metadata": {},
   "source": [
    "---"
   ]
  },
  {
   "cell_type": "markdown",
   "id": "c3326ca1",
   "metadata": {},
   "source": [
    "### Stateless Simple Processor with inferred input attributes"
   ]
  },
  {
   "cell_type": "code",
   "execution_count": 15,
   "id": "f3fef232",
   "metadata": {},
   "outputs": [],
   "source": [
    "user_input_message=\"\"\"\n",
    "Create a campaign for my course on Agentic Workflows for professionals seeking knowledge on AI agents. \n",
    "I am offering a 50% off.\n",
    "\"\"\""
   ]
  },
  {
   "cell_type": "code",
   "execution_count": 16,
   "id": "97a96d10",
   "metadata": {},
   "outputs": [],
   "source": [
    "system_prompt=f\"\"\"\n",
    "You are a top-tier email marketing expert known for crafting high-converting subject lines. Your job is to generate concise, compelling, and curiosity-driven subject lines that maximise open rates for marketing emails.\n",
    "Each subject line should:\n",
    "\t•\tBe under 50 characters (if possible)\n",
    "\t•\tInclude emotional or benefit-driven language\n",
    "\t•\tAvoid spammy or misleading phrases\n",
    "\t•\tBe tailored to the target audience and campaign goal\n",
    "\n",
    "You are given the following input message from the user for the generation of the subject lines.\n",
    "\n",
    "{user_input_message}\n",
    "\n",
    "From the Input message infer the following. If not able to infer make assumptions:\n",
    "\t•\tProduct/Service: \n",
    "\t•\tTarget Audience: \n",
    "\t•\tTone: \n",
    "\t•\tOffer or CTA (if any): \n",
    "\t•\tContext/Purpose: \n",
    "\n",
    "Output:\n",
    "List the inferred attributes and then \n",
    "generate 5 unique subject lines that follow the instructions above. Include a short explanation of why each one might perform well.\n",
    "\"\"\""
   ]
  },
  {
   "cell_type": "code",
   "execution_count": 17,
   "id": "98429dbf",
   "metadata": {},
   "outputs": [],
   "source": [
    "response = client.responses.create(\n",
    "    model=\"gpt-4o-mini\",\n",
    "    input=system_prompt\n",
    ")"
   ]
  },
  {
   "cell_type": "code",
   "execution_count": 18,
   "id": "3350a600",
   "metadata": {},
   "outputs": [
    {
     "data": {
      "text/markdown": [
       "### Inferred Attributes\n",
       "\n",
       "- **Product/Service:** Course on Agentic Workflows for AI agents\n",
       "- **Target Audience:** Professionals seeking knowledge on AI agents\n",
       "- **Tone:** Professional, informative, and persuasive\n",
       "- **Offer or CTA:** 50% off\n",
       "- **Context/Purpose:** To entice professionals to enroll in the course and highlight the discount\n",
       "\n",
       "### Subject Lines\n",
       "\n",
       "1. **\"Unlock AI Mastery: 50% Off Now!\"**  \n",
       "   *This subject line is direct and capitalizes on the promise of gaining mastery in a valuable topic, while the discount encourages immediate action.*\n",
       "\n",
       "2. **\"Transform Your Career with AI – 50% Off!\"**  \n",
       "   *By emphasizing transformation, this line appeals to professionals looking to advance their skills. The mention of a discount adds urgency.*\n",
       "\n",
       "3. **\"Ready to Harness AI? Get 50% Off Today!\"**  \n",
       "   *This line creates curiosity about the capabilities with AI, encouraging action while the discount feels time-sensitive.*\n",
       "\n",
       "4. **\"Elevate Your Skills: AI Course 50% Off!\"**  \n",
       "   *Focuses on skill elevation, presenting the course as an essential step in professional development, with a strong call to action through the discount.*\n",
       "\n",
       "5. **\"Become an AI Pro: Save 50% on Enrollment!\"**  \n",
       "   *This subject line taps into the aspiration of becoming a professional in AI, while the clear offer encourages recipients to explore the opportunity.*\n",
       "\n",
       "### Rationale for Performance\n",
       "\n",
       "- **Emotional Appeal:** Each subject line utilizes language that reflects professional growth and advancement, which resonates deeply with the target audience.\n",
       "- **Clarity and Conciseness:** The lines are clear and concise, avoiding any fluff while delivering essential information quickly.\n",
       "- **Urgency and Value:** The 50% discount creates urgency, prompting recipients to act quickly to take advantage of the offer."
      ],
      "text/plain": [
       "<IPython.core.display.Markdown object>"
      ]
     },
     "metadata": {},
     "output_type": "display_data"
    }
   ],
   "source": [
    "display(Markdown(response.output_text))"
   ]
  },
  {
   "cell_type": "markdown",
   "id": "af3a498d",
   "metadata": {},
   "source": [
    "---"
   ]
  },
  {
   "cell_type": "markdown",
   "id": "21c30aa8",
   "metadata": {},
   "source": [
    "### Stateless Simple Router using OpenAI API\n",
    "\n",
    "<img src=\"./Assets/1.4 Simple Router.png\">\n",
    "\n"
   ]
  },
  {
   "cell_type": "code",
   "execution_count": 19,
   "id": "c3adc0e4",
   "metadata": {},
   "outputs": [],
   "source": [
    "import uuid\n",
    "message_id = uuid.uuid4()\n"
   ]
  },
  {
   "cell_type": "code",
   "execution_count": 20,
   "id": "ef6ba20d",
   "metadata": {},
   "outputs": [],
   "source": [
    "from datetime import datetime\n",
    "\n",
    "message_date=datetime.now()"
   ]
  },
  {
   "cell_type": "code",
   "execution_count": 21,
   "id": "7b6a4ad8",
   "metadata": {},
   "outputs": [],
   "source": [
    "user_message=\"\"\"\n",
    "my laptop is has arrived. I am so excited.\n",
    "\"\"\""
   ]
  },
  {
   "cell_type": "code",
   "execution_count": 22,
   "id": "3ee61939",
   "metadata": {},
   "outputs": [],
   "source": [
    "system_prompt=f\"\"\"\n",
    "You are an NLP expert assisting the technical team in analyzing user messages. The analysis will be used by the team to make decisions more effectively.\n",
    "\n",
    "You have been provided with the {message_id} and {message_date} along with the following user message.\n",
    "\n",
    "### Start of User Message\n",
    "{user_message}\n",
    "### End of User Message\n",
    "\n",
    "**Task 1:**\n",
    "#### **1. Message Classification **\n",
    "Classify the message into a **single category** that best describes its purpose. Choose the category from the predefined list below. This classification will help the technical team identify specific themes and make decisions faster.\n",
    "\n",
    "- **Order Management**: A message regarding the status of the order that user has placed.\n",
    "- **Application Support**: A message regarding the web or mobile application functionality.\n",
    "- **Service Feedback**: A message regarding customer service.\n",
    "- **Shopping Assistance**: A message requiring assistance in shopping.\n",
    "- **Others**: A general message.\n",
    "- **Spam**: A message that seems like spam.\n",
    "\n",
    "\n",
    "##### **Important Instructions for Classification:**\n",
    "- Ensure each message is classified into **only one category** based on its primary intent or purpose. If multiple intents are detected, select the most relevant category that reflects the user's main goal.\n",
    "- Do not create new categories or use freeform text for classification. Always use one of the predefined categories exactly as they appear in the list above.\n",
    "\n",
    "**task 2**\n",
    "Analyze the sentiment of the message and classify it into one of the following categories:\n",
    "- **Positive**: The message conveys positivity, satisfaction, gratitude, or encouragement.\n",
    "- **Neutral**: The message is factual, descriptive, or lacks any emotional tone.\n",
    "- **Negative**: The message conveys frustration, dissatisfaction, or criticism.\n",
    "\n",
    "Respond in JSON Format.\n",
    "\n",
    "message_id:\n",
    "message_date:\n",
    "message_category:\n",
    "message_sentiment:\n",
    "\n",
    "\"\"\"\n"
   ]
  },
  {
   "cell_type": "code",
   "execution_count": 23,
   "id": "2af0578e",
   "metadata": {},
   "outputs": [],
   "source": [
    "response = client.responses.create(\n",
    "    model=\"gpt-4o-mini\",\n",
    "    input=system_prompt\n",
    ")"
   ]
  },
  {
   "cell_type": "code",
   "execution_count": 24,
   "id": "9d3e1c4b",
   "metadata": {},
   "outputs": [
    {
     "data": {
      "text/markdown": [
       "```json\n",
       "{\n",
       "  \"message_id\": \"affedb48-ce02-4f73-a707-d0f553b4970b\",\n",
       "  \"message_date\": \"2025-05-16 19:39:40.914949\",\n",
       "  \"message_category\": \"Order Management\",\n",
       "  \"message_sentiment\": \"Positive\"\n",
       "}\n",
       "```"
      ],
      "text/plain": [
       "<IPython.core.display.Markdown object>"
      ]
     },
     "metadata": {},
     "output_type": "display_data"
    }
   ],
   "source": [
    "display(Markdown(response.output_text))"
   ]
  },
  {
   "cell_type": "markdown",
   "id": "137600ca",
   "metadata": {},
   "source": [
    "---"
   ]
  },
  {
   "cell_type": "markdown",
   "id": "76efe7ff",
   "metadata": {},
   "source": [
    "### Memory Aware Simple Processor\n",
    "\n",
    "<img src=\"./Assets/1.5 Memory Aware.png\">"
   ]
  },
  {
   "cell_type": "markdown",
   "id": "505647ec",
   "metadata": {},
   "source": [
    "### OpenAI Chat Completion API"
   ]
  },
  {
   "cell_type": "code",
   "execution_count": 25,
   "id": "17f5e362",
   "metadata": {},
   "outputs": [],
   "source": [
    "system_prompt=\"\"\"\n",
    "You are a top-tier email marketing expert known for crafting high-converting subject lines. Your job is to generate concise, compelling, and curiosity-driven subject lines that maximise open rates for marketing emails.\n",
    "Each subject line should:\n",
    "\t•\tBe under 50 characters (if possible)\n",
    "\t•\tInclude emotional or benefit-driven language\n",
    "\t•\tAvoid spammy or misleading phrases\n",
    "\t•\tBe tailored to the target audience and campaign goal\n",
    "\n",
    "You will be given an input message from the user for the generation of the subject lines.\n",
    "\n",
    "From the Input message infer the following. If not able to infer make assumptions:\n",
    "\t•\tProduct/Service: \n",
    "\t•\tTarget Audience: \n",
    "\t•\tTone: \n",
    "\t•\tOffer or CTA (if any): \n",
    "\t•\tContext/Purpose: \n",
    "\n",
    "Output:\n",
    "List the inferred attributes and then \n",
    "generate 5 unique subject lines that follow the instructions above. Include a short explanation of why each one might perform well.\n",
    "\"\"\""
   ]
  },
  {
   "cell_type": "code",
   "execution_count": 26,
   "id": "bc85c296",
   "metadata": {},
   "outputs": [],
   "source": [
    "user_message=\"\"\"\n",
    "Create a campaign for my course on Agentic Workflows for professionals seeking knowledge on AI agents. \n",
    "I am offering a 50% off.\n",
    "\"\"\""
   ]
  },
  {
   "cell_type": "code",
   "execution_count": 27,
   "id": "44b72ed1",
   "metadata": {},
   "outputs": [],
   "source": [
    "completion = client.chat.completions.create(\n",
    "  model=\"gpt-4o-mini\",\n",
    "  messages=[\n",
    "    {\"role\": \"system\", \"content\": system_prompt},\n",
    "    {\"role\": \"user\", \"content\": user_message}\n",
    "  ]\n",
    ")\n"
   ]
  },
  {
   "cell_type": "code",
   "execution_count": 28,
   "id": "efa1c446",
   "metadata": {},
   "outputs": [
    {
     "data": {
      "text/markdown": [
       "**Inferred Attributes:**\n",
       "- **Product/Service:** Course on Agentic Workflows focused on AI agents\n",
       "- **Target Audience:** Professionals seeking knowledge on AI\n",
       "- **Tone:** Informative and motivating\n",
       "- **Offer or CTA (if any):** 50% off the course\n",
       "- **Context/Purpose:** Promote a discounted course to enhance understanding of AI agents\n",
       "\n",
       "**Generated Subject Lines:**\n",
       "\n",
       "1. \"Unlock AI Secrets: 50% Off Today!\"\n",
       "   - This subject line creates excitement and urgency while highlighting the discount, appealing to those eager to learn something valuable.\n",
       "\n",
       "2. \"Master AI Agents: Enroll Now for Half Price!\"\n",
       "   - By using \"Master,\" this line instills confidence in the reader about gaining expertise. The clear call to action encourages swift enrollment.\n",
       "\n",
       "3. \"Become an AI Pro: Get 50% Off Your Course!\"\n",
       "   - This emphasizes the benefit of becoming a professional in AI, paired with a strong incentive, making it hard to resist.\n",
       "\n",
       "4. \"Elevate Your Career: Save 50% on AI Training!\"\n",
       "   - This subject line taps into the career advancement appeal of the course, making it relevant to the professional audience.\n",
       "\n",
       "5. \"Transform Your Skills: Agentic Workflows at Half Price!\"\n",
       "   - \"Transform\" suggests significant personal growth and improvement, prompting curiosity about the course's content along with the attractive discount.\n",
       "\n",
       "Each subject line uses emotional language and direct benefits to resonate with the target audience, encouraging them to open the email and take action."
      ],
      "text/plain": [
       "<IPython.core.display.Markdown object>"
      ]
     },
     "metadata": {},
     "output_type": "display_data"
    }
   ],
   "source": [
    "display(Markdown(completion.choices[0].message.content))"
   ]
  },
  {
   "cell_type": "code",
   "execution_count": 29,
   "id": "8ff29c83",
   "metadata": {},
   "outputs": [],
   "source": [
    "chat_history=[\n",
    "    {\"role\": \"system\", \"content\": system_prompt},\n",
    "    {\"role\": \"user\", \"content\": user_message}\n",
    "]"
   ]
  },
  {
   "cell_type": "code",
   "execution_count": 30,
   "id": "0afd094e",
   "metadata": {},
   "outputs": [],
   "source": [
    "chat_history.append(completion.choices[0].message)"
   ]
  },
  {
   "cell_type": "code",
   "execution_count": 31,
   "id": "5f09fdce",
   "metadata": {},
   "outputs": [
    {
     "data": {
      "text/plain": [
       "[{'role': 'system',\n",
       "  'content': '\\nYou are a top-tier email marketing expert known for crafting high-converting subject lines. Your job is to generate concise, compelling, and curiosity-driven subject lines that maximise open rates for marketing emails.\\nEach subject line should:\\n\\t•\\tBe under 50 characters (if possible)\\n\\t•\\tInclude emotional or benefit-driven language\\n\\t•\\tAvoid spammy or misleading phrases\\n\\t•\\tBe tailored to the target audience and campaign goal\\n\\nYou will be given an input message from the user for the generation of the subject lines.\\n\\nFrom the Input message infer the following. If not able to infer make assumptions:\\n\\t•\\tProduct/Service: \\n\\t•\\tTarget Audience: \\n\\t•\\tTone: \\n\\t•\\tOffer or CTA (if any): \\n\\t•\\tContext/Purpose: \\n\\nOutput:\\nList the inferred attributes and then \\ngenerate 5 unique subject lines that follow the instructions above. Include a short explanation of why each one might perform well.\\n'},\n",
       " {'role': 'user',\n",
       "  'content': '\\nCreate a campaign for my course on Agentic Workflows for professionals seeking knowledge on AI agents. \\nI am offering a 50% off.\\n'},\n",
       " ChatCompletionMessage(content='**Inferred Attributes:**\\n- **Product/Service:** Course on Agentic Workflows focused on AI agents\\n- **Target Audience:** Professionals seeking knowledge on AI\\n- **Tone:** Informative and motivating\\n- **Offer or CTA (if any):** 50% off the course\\n- **Context/Purpose:** Promote a discounted course to enhance understanding of AI agents\\n\\n**Generated Subject Lines:**\\n\\n1. \"Unlock AI Secrets: 50% Off Today!\"\\n   - This subject line creates excitement and urgency while highlighting the discount, appealing to those eager to learn something valuable.\\n\\n2. \"Master AI Agents: Enroll Now for Half Price!\"\\n   - By using \"Master,\" this line instills confidence in the reader about gaining expertise. The clear call to action encourages swift enrollment.\\n\\n3. \"Become an AI Pro: Get 50% Off Your Course!\"\\n   - This emphasizes the benefit of becoming a professional in AI, paired with a strong incentive, making it hard to resist.\\n\\n4. \"Elevate Your Career: Save 50% on AI Training!\"\\n   - This subject line taps into the career advancement appeal of the course, making it relevant to the professional audience.\\n\\n5. \"Transform Your Skills: Agentic Workflows at Half Price!\"\\n   - \"Transform\" suggests significant personal growth and improvement, prompting curiosity about the course\\'s content along with the attractive discount.\\n\\nEach subject line uses emotional language and direct benefits to resonate with the target audience, encouraging them to open the email and take action.', refusal=None, role='assistant', annotations=[], audio=None, function_call=None, tool_calls=None)]"
      ]
     },
     "execution_count": 31,
     "metadata": {},
     "output_type": "execute_result"
    }
   ],
   "source": [
    "chat_history"
   ]
  },
  {
   "cell_type": "code",
   "execution_count": 33,
   "id": "d42fd7a0",
   "metadata": {},
   "outputs": [],
   "source": [
    "chat_history.append({ \"role\": \"user\", \"content\": \"Make it quirky\" })\n"
   ]
  },
  {
   "cell_type": "code",
   "execution_count": 34,
   "id": "f9833d45",
   "metadata": {},
   "outputs": [
    {
     "data": {
      "text/plain": [
       "[{'role': 'system',\n",
       "  'content': '\\nYou are a top-tier email marketing expert known for crafting high-converting subject lines. Your job is to generate concise, compelling, and curiosity-driven subject lines that maximise open rates for marketing emails.\\nEach subject line should:\\n\\t•\\tBe under 50 characters (if possible)\\n\\t•\\tInclude emotional or benefit-driven language\\n\\t•\\tAvoid spammy or misleading phrases\\n\\t•\\tBe tailored to the target audience and campaign goal\\n\\nYou will be given an input message from the user for the generation of the subject lines.\\n\\nFrom the Input message infer the following. If not able to infer make assumptions:\\n\\t•\\tProduct/Service: \\n\\t•\\tTarget Audience: \\n\\t•\\tTone: \\n\\t•\\tOffer or CTA (if any): \\n\\t•\\tContext/Purpose: \\n\\nOutput:\\nList the inferred attributes and then \\ngenerate 5 unique subject lines that follow the instructions above. Include a short explanation of why each one might perform well.\\n'},\n",
       " {'role': 'user',\n",
       "  'content': '\\nCreate a campaign for my course on Agentic Workflows for professionals seeking knowledge on AI agents. \\nI am offering a 50% off.\\n'},\n",
       " ChatCompletionMessage(content='**Inferred Attributes:**\\n- **Product/Service:** Course on Agentic Workflows focused on AI agents\\n- **Target Audience:** Professionals seeking knowledge on AI\\n- **Tone:** Informative and motivating\\n- **Offer or CTA (if any):** 50% off the course\\n- **Context/Purpose:** Promote a discounted course to enhance understanding of AI agents\\n\\n**Generated Subject Lines:**\\n\\n1. \"Unlock AI Secrets: 50% Off Today!\"\\n   - This subject line creates excitement and urgency while highlighting the discount, appealing to those eager to learn something valuable.\\n\\n2. \"Master AI Agents: Enroll Now for Half Price!\"\\n   - By using \"Master,\" this line instills confidence in the reader about gaining expertise. The clear call to action encourages swift enrollment.\\n\\n3. \"Become an AI Pro: Get 50% Off Your Course!\"\\n   - This emphasizes the benefit of becoming a professional in AI, paired with a strong incentive, making it hard to resist.\\n\\n4. \"Elevate Your Career: Save 50% on AI Training!\"\\n   - This subject line taps into the career advancement appeal of the course, making it relevant to the professional audience.\\n\\n5. \"Transform Your Skills: Agentic Workflows at Half Price!\"\\n   - \"Transform\" suggests significant personal growth and improvement, prompting curiosity about the course\\'s content along with the attractive discount.\\n\\nEach subject line uses emotional language and direct benefits to resonate with the target audience, encouraging them to open the email and take action.', refusal=None, role='assistant', annotations=[], audio=None, function_call=None, tool_calls=None),\n",
       " {'role': 'user', 'content': 'Make it quirky'},\n",
       " {'role': 'user', 'content': 'Make it quirky'}]"
      ]
     },
     "execution_count": 34,
     "metadata": {},
     "output_type": "execute_result"
    }
   ],
   "source": [
    "chat_history"
   ]
  },
  {
   "cell_type": "code",
   "execution_count": 35,
   "id": "60df6161",
   "metadata": {},
   "outputs": [],
   "source": [
    "completion = client.chat.completions.create(\n",
    "  model=\"gpt-4o-mini\",\n",
    "  messages=chat_history\n",
    ")\n"
   ]
  },
  {
   "cell_type": "code",
   "execution_count": 36,
   "id": "48b2bb47",
   "metadata": {},
   "outputs": [
    {
     "data": {
      "text/markdown": [
       "**Inferred Attributes:**\n",
       "- **Product/Service:** Course on Agentic Workflows focused on AI agents\n",
       "- **Target Audience:** Professionals seeking knowledge on AI\n",
       "- **Tone:** Quirky and playful\n",
       "- **Offer or CTA (if any):** 50% off the course\n",
       "- **Context/Purpose:** Promote a discounted course to enhance understanding of AI agents\n",
       "\n",
       "**Generated Subject Lines:**\n",
       "\n",
       "1. \"Don’t Be a Noob: Score 50% Off AI Magic!\"\n",
       "   - This playful tone speaks directly to professionals looking to upskill, using \"noob\" lightheartedly to create camaraderie.\n",
       "\n",
       "2. \"AI Agents and Coffee: 50% Off Awesomeness!\"\n",
       "   - Incorporating the everyday element of coffee adds charm and implies that learning can be both fun and rewarding.\n",
       "\n",
       "3. \"Unlock AI Superpowers: 50% Off Inside!\"\n",
       "   - The idea of \"superpowers\" makes learning feel extraordinary, sparking curiosity about how the course can transform skills.\n",
       "\n",
       "4. \"Ssshhh... AI Secrets at Half Price! 🤫\"\n",
       "   - The use of \"ssshhh\" adds an element of intrigue and secrecy, encouraging recipients to discover the special offer inside.\n",
       "\n",
       "5. \"Become an Agent of Change: 50% Off Awaits!\"\n",
       "   - This line plays with the \"agent\" theme, tapping into a sense of mission while making the discount sound like a special reward.\n",
       "\n",
       "Each subject line incorporates a quirky tone that captures attention and incites curiosity, reflecting a more relaxed, enjoyable approach to learning about AI agents."
      ],
      "text/plain": [
       "<IPython.core.display.Markdown object>"
      ]
     },
     "metadata": {},
     "output_type": "display_data"
    }
   ],
   "source": [
    "display(Markdown(completion.choices[0].message.content))"
   ]
  },
  {
   "cell_type": "code",
   "execution_count": 37,
   "id": "34da1a0e",
   "metadata": {},
   "outputs": [],
   "source": [
    "chat_history.append(completion.choices[0].message)"
   ]
  },
  {
   "cell_type": "code",
   "execution_count": 38,
   "id": "28b86e10",
   "metadata": {},
   "outputs": [],
   "source": [
    "chat_history.append({ \"role\": \"user\", \"content\": \"create 10 more and extremely funny\" })"
   ]
  },
  {
   "cell_type": "code",
   "execution_count": 40,
   "id": "1a3c14ca",
   "metadata": {},
   "outputs": [],
   "source": [
    "completion = client.chat.completions.create(\n",
    "  model=\"gpt-4o-mini\",\n",
    "  messages=chat_history\n",
    ")"
   ]
  },
  {
   "cell_type": "code",
   "execution_count": 41,
   "id": "57a9ca49",
   "metadata": {},
   "outputs": [
    {
     "data": {
      "text/markdown": [
       "**Inferred Attributes:**\n",
       "- **Product/Service:** Course on Agentic Workflows focused on AI agents\n",
       "- **Target Audience:** Professionals seeking knowledge on AI\n",
       "- **Tone:** Extremely funny and humorous\n",
       "- **Offer or CTA (if any):** 50% off the course\n",
       "- **Context/Purpose:** Promote a discounted course to enhance understanding of AI agents\n",
       "\n",
       "**Generated Subject Lines:**\n",
       "\n",
       "1. \"Don’t Let AI Take Over! Learn for 50% Less!\"\n",
       "   - This line humorously positions learning as a defense against AI takeover, attracting attention with a playful sense of urgency.\n",
       "\n",
       "2. \"AI: Because Your Dog Can't Do Your Job! 🐶\"\n",
       "   - The silliness of suggesting a dog could replace someone at work creates a fun image while promoting the course.\n",
       "\n",
       "3. \"Enroll Now—AI Won’t Learn Itself (Sadly)!\"\n",
       "   - This playful jab at the current state of AI sparks interest while highlighting the necessity of human learning.\n",
       "\n",
       "4. \"50% Off! Because Who Else Will Feed Your AI?\"\n",
       "   - This absurd statement personifies AI, adding a humorous twist that makes the reader smile and want to know more.\n",
       "\n",
       "5. \"Learn AI, So You Can Stop Talking to Your Toaster!\"\n",
       "   - This line exaggerates the ridiculousness of having conversations with appliances, capturing attention and driving home the learning aspect.\n",
       "\n",
       "6. \"Avoid Becoming a Cautionary AI Tale—Save 50%!\"\n",
       "   - By referencing the potential pitfalls of AI mishaps, this line uses dark humor to compel action towards education.\n",
       "\n",
       "7. \"Unlock AI Knowledge—Your Cat Would Approve! 🐱\"\n",
       "   - Including a cat reference in a humorous context implies that even our pets see the value in learning about AI.\n",
       "\n",
       "8. \"Half Price! Because AI Doesn't Work for Free!\"\n",
       "   - This cheeky angle attributes a humorous cost to AI's intelligence, encouraging the reader to invest in their own knowledge.\n",
       "\n",
       "9. \"Get Smart (Not Skynet) with 50% Off!\"\n",
       "   - This line humorously contrasts being knowledgeable with becoming dangerous, appealing to sci-fi fans while emphasizing the course.\n",
       "\n",
       "10. \"Do Your Future AI Overlords a Favor—Learn for Less!\"\n",
       "   - This tongue-in-cheek suggestion to prepare for future AIs creates a funny and lighthearted tone that intrigues the reader.\n",
       "\n",
       "Each of these subject lines uses humor in different ways to maximize engagement and spark curiosity, making the newsletter feel entertaining while promoting the value of the course."
      ],
      "text/plain": [
       "<IPython.core.display.Markdown object>"
      ]
     },
     "metadata": {},
     "output_type": "display_data"
    }
   ],
   "source": [
    "display(Markdown(completion.choices[0].message.content))"
   ]
  },
  {
   "cell_type": "markdown",
   "id": "668d225b",
   "metadata": {},
   "source": [
    "---\n",
    "\n",
    "These were __Simple Agents__, let's now move interact with the external world with [Tool Calling Agents](./2.%20Tool%20Calling.ipynb)"
   ]
  },
  {
   "cell_type": "markdown",
   "id": "61a8075d",
   "metadata": {},
   "source": [
    "---\n",
    "---"
   ]
  },
  {
   "cell_type": "markdown",
   "id": "068364d8",
   "metadata": {},
   "source": [
    "<img src=\"./Assets/profile_s.png\" width=100> \n",
    "\n",
    "Hi! I'm Abhinav! I have spent over 15 years consulting and leadership roles in data science, machine learning and AI. My current focus is in the applied Generative AI domain focussing on solving enterprise needs through contextual intelligence. I'm passionate about AI advancements constantly exploring emerging technologies to push the boundaries and create positive impacts in the world. Let’s build the future, together!\n",
    "\n",
    "[If you haven't already, get your copy of A Simple Guide to Retrieval Augmented Generation here](https://mng.bz/6ePo)\n",
    "\n",
    "<a href=\"https://mng.bz/6ePo\" target=\"_blank\">\n",
    "    <img src=\"./Assets/NewMEAPFooter.png\" alt=\"New MEAP\" width= 70%\" />\n",
    "</a>\n",
    "\n",
    "#### If you'd like to chat, I'd be very happy to connect\n",
    "\n",
    "[![GitHub followers](https://img.shields.io/badge/Github-000000?style=for-the-badge&logo=github&logoColor=black&color=orange)](https://github.com/abhinav-kimothi)\n",
    "[![LinkedIn](https://img.shields.io/badge/LinkedIn-000000?style=for-the-badge&logo=linkedin&logoColor=orange&color=black)](https://www.linkedin.com/comm/mynetwork/discovery-see-all?usecase=PEOPLE_FOLLOWS&followMember=abhinav-kimothi)\n",
    "[![Medium](https://img.shields.io/badge/Medium-000000?style=for-the-badge&logo=medium&logoColor=black&color=orange)](https://medium.com/@abhinavkimothi)\n",
    "[![Insta](https://img.shields.io/badge/Instagram-000000?style=for-the-badge&logo=instagram&logoColor=orange&color=black)](https://www.instagram.com/akaiworks/)\n",
    "[![Mail](https://img.shields.io/badge/email-000000?style=for-the-badge&logo=gmail&logoColor=black&color=orange)](mailto:abhinav.kimothi.ds@gmail.com)\n",
    "[![X](https://img.shields.io/badge/Follow-000000?style=for-the-badge&logo=X&logoColor=orange&color=black)](https://twitter.com/abhinav_kimothi)\n",
    "[![Linktree](https://img.shields.io/badge/Linktree-000000?style=for-the-badge&logo=linktree&logoColor=black&color=orange)](https://linktr.ee/abhinavkimothi)\n",
    "[![Gumroad](https://img.shields.io/badge/Gumroad-000000?style=for-the-badge&logo=gumroad&logoColor=orange&color=black)](https://abhinavkimothi.gumroad.com/)\n",
    "\n",
    "---"
   ]
  },
  {
   "cell_type": "code",
   "execution_count": null,
   "id": "2246616e",
   "metadata": {},
   "outputs": [],
   "source": []
  }
 ],
 "metadata": {
  "kernelspec": {
   "display_name": ".agent_env",
   "language": "python",
   "name": "python3"
  },
  "language_info": {
   "codemirror_mode": {
    "name": "ipython",
    "version": 3
   },
   "file_extension": ".py",
   "mimetype": "text/x-python",
   "name": "python",
   "nbconvert_exporter": "python",
   "pygments_lexer": "ipython3",
   "version": "3.11.12"
  }
 },
 "nbformat": 4,
 "nbformat_minor": 5
}
