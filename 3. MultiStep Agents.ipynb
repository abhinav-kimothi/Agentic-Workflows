{
 "cells": [
  {
   "cell_type": "markdown",
   "id": "6b745e4d",
   "metadata": {},
   "source": [
    "<img src=\"./Assets/1.1 AgWorkHeaderImage.png\">"
   ]
  },
  {
   "cell_type": "markdown",
   "id": "acf5d5c2",
   "metadata": {},
   "source": [
    "## Multi-step Agentic Flow"
   ]
  },
  {
   "cell_type": "markdown",
   "id": "8b3902e9",
   "metadata": {},
   "source": [
    "<img src=\"./Assets/3.1 MultiStep.png\">\n",
    "\n",
    "---"
   ]
  },
  {
   "cell_type": "markdown",
   "id": "3dab86ad",
   "metadata": {},
   "source": [
    "#### Load All Keys"
   ]
  },
  {
   "cell_type": "code",
   "execution_count": 1,
   "id": "f2ea56ba",
   "metadata": {},
   "outputs": [
    {
     "data": {
      "text/plain": [
       "True"
      ]
     },
     "execution_count": 1,
     "metadata": {},
     "output_type": "execute_result"
    }
   ],
   "source": [
    "from dotenv import load_dotenv\n",
    "import os\n",
    "\n",
    "load_dotenv()"
   ]
  },
  {
   "cell_type": "markdown",
   "id": "0319d8d8",
   "metadata": {},
   "source": [
    "## Recall: AstraDB Vector Tool (Custom CrewAI Tools)"
   ]
  },
  {
   "cell_type": "code",
   "execution_count": 4,
   "id": "c978b22d",
   "metadata": {},
   "outputs": [],
   "source": [
    "Token=os.environ[\"ASTRA_TOKEN\"]\n",
    "EndPoint=os.environ[\"ASTRA_ENDPOINT\"]"
   ]
  },
  {
   "cell_type": "code",
   "execution_count": 2,
   "id": "1861549f",
   "metadata": {},
   "outputs": [],
   "source": [
    "from astrapy import DataAPIClient\n",
    "from astrapy.data_types import DataAPIVector\n",
    "from openai import OpenAI\n",
    "\n",
    "def search_documents(query: str, top_k: int = 5) -> list[str]:\n",
    "    # Set up OpenAI\n",
    "    openai_client = OpenAI()\n",
    "    query_embedding = openai_client.embeddings.create(\n",
    "        model=\"text-embedding-3-small\",\n",
    "        input=query,\n",
    "        encoding_format=\"float\"\n",
    "    ).data[0].embedding\n",
    "\n",
    "    # Connect to Astra\n",
    "    astra_client = DataAPIClient(Token)\n",
    "    db = astra_client.get_database_by_api_endpoint(EndPoint)\n",
    "    collection = db.get_collection(\"CollectionSmallEmbeddings\")\n",
    "\n",
    "    # Query Astra\n",
    "    cursor = collection.find(\n",
    "        sort={\"$vector\": DataAPIVector(query_embedding)},\n",
    "        limit=top_k,\n",
    "        include_similarity=True\n",
    "    )\n",
    "\n",
    "    # Return documents\n",
    "    results = []\n",
    "    for doc in cursor:\n",
    "        text = doc.get(\"text\") or str(doc)\n",
    "        score = doc.get(\"$similarity\", 0)\n",
    "        results.append(f\"[{score:.4f}] {text}\")\n",
    "    return results\n"
   ]
  },
  {
   "cell_type": "code",
   "execution_count": 6,
   "id": "cbc2318d",
   "metadata": {},
   "outputs": [],
   "source": [
    "from crewai.tools import BaseTool\n",
    "\n",
    "class AstraSearchTool(BaseTool):\n",
    "    name: str = \"Vector Tool\"\n",
    "    description: str = \"Search the vector store for information about employee leave policy of AKAIWorks\"\n",
    "\n",
    "    def _run(self, query: str) -> str:\n",
    "        # This is where your vector search logic goes\n",
    "        results = search_documents(query)\n",
    "        return \"\\n\".join(results)"
   ]
  },
  {
   "cell_type": "code",
   "execution_count": 7,
   "id": "5a8d1bb1",
   "metadata": {},
   "outputs": [],
   "source": [
    "astra_tool = AstraSearchTool()"
   ]
  },
  {
   "cell_type": "markdown",
   "id": "a51067d7",
   "metadata": {},
   "source": [
    "---"
   ]
  },
  {
   "cell_type": "markdown",
   "id": "c9f9ce3b",
   "metadata": {},
   "source": [
    "### Multi-Step Agent"
   ]
  },
  {
   "cell_type": "code",
   "execution_count": 73,
   "id": "20d734d7",
   "metadata": {},
   "outputs": [],
   "source": [
    "from crewai import LLM\n",
    "\n",
    "llm = LLM(\n",
    "    model=\"gpt-4o-mini\",\n",
    "    temperature=0.8,\n",
    "    max_tokens=150,\n",
    "    top_p=0.9,\n",
    "    frequency_penalty=0.1,\n",
    "    presence_penalty=0.1,\n",
    "    stop=[\"END\"],\n",
    "    seed=42\n",
    ")"
   ]
  },
  {
   "cell_type": "code",
   "execution_count": 74,
   "id": "ca07ef88",
   "metadata": {},
   "outputs": [],
   "source": [
    "from crewai import Agent\n",
    "from crewai_tools import SerperDevTool\n",
    "\n",
    "multi_reason_agent = Agent(\n",
    "    role=\"Advanced Reasoning AI Assistant\",\n",
    "    goal=\"Help users by either answering their queries directly using built-in knowledge,\"\n",
    "        \" or use the VectorTool when the query is about employee leave policy of AKAIWorks \"\n",
    "        \"or performing a live web search using the Google Serper API when up-to-date or external information is required.\"\n",
    "        \"Note that you can also use more than one methods together.\",\n",
    "\n",
    "    backstory=\"You were built to bridge the gap between real-time information and artificial intelligence. \"\n",
    "            \"Equipped with access to the web through the Serper API, employee leave policy via the vector tool, you excel at retrieving the most recent, relevant data when needed.\"\n",
    "            \" But you also know when to keep things simple — using your own understanding to answer straightforward questions without delay.\"\n",
    "            \" You’re the perfect blend of real-time access and inherent intelligence. \"\n",
    "            \"Remember that company name might not be explicitly mentioned but assume that the leave policy query is implicitly for the organisation.\"\"\",\n",
    "    tools=[SerperDevTool(),astra_tool],\n",
    "    verbose=True,\n",
    "    llm=llm\n",
    ")\n"
   ]
  },
  {
   "cell_type": "code",
   "execution_count": 75,
   "id": "2181998b",
   "metadata": {},
   "outputs": [],
   "source": [
    "from crewai import Task"
   ]
  },
  {
   "cell_type": "markdown",
   "id": "0f99277b",
   "metadata": {},
   "source": [
    "## Classification -> Validation -> Retrieval -> Combination -> Generation -> Export"
   ]
  },
  {
   "cell_type": "markdown",
   "id": "dd668a61",
   "metadata": {},
   "source": [
    "#### Task #1: Classification"
   ]
  },
  {
   "cell_type": "code",
   "execution_count": 76,
   "id": "48596924",
   "metadata": {},
   "outputs": [],
   "source": [
    "classify_task = Task(\n",
    "    description=(\n",
    "        \"Analyze the user query: '{user_input}' and determine which sources are needed to answer it. \"\n",
    "        \"Always return more than one : [WEB], [VECTOR], [LLM]. \"\n",
    "        \"If the query is simple or general knowledge (e.g., definitions, common facts), \"\n",
    "        \"classify as LLM to use internal knowledge. \"\n",
    "        \"If the query appears to require current or web-based information \"\n",
    "        \"(e.g., news, trending topics, recent data), \"\n",
    "        \"classify as WEB to search using the Serper API tool to gather relevant information first. \"\n",
    "        \"If the query is about the employee leave policy of AKAIWorks, \"\n",
    "        \"classify as VECTOR to perform a vector database search using vector search tool.\"\n",
    "        \"Remember that company name might not be explicitly mentioned but assume that the leave policy query is implicitly for the organisation.\"    ),\n",
    "    expected_output=\"A list like [WEB], [LLM] or [VECTOR]\",\n",
    "    agent=multi_reason_agent\n",
    ")"
   ]
  },
  {
   "cell_type": "code",
   "execution_count": 77,
   "id": "40755fd5",
   "metadata": {},
   "outputs": [],
   "source": [
    "reflect_task = Task(\n",
    "    description=(\n",
    "        \"You previously classified the sources required. \"\n",
    "        \"Reflect carefully — should you add or remove any source? \"\n",
    "        \"Return a refined list\"\n",
    "        ),\n",
    "    expected_output=\"A revised list of: [WEB], [VECTOR], [LLM]\",\n",
    "    agent=multi_reason_agent\n",
    ")"
   ]
  },
  {
   "cell_type": "markdown",
   "id": "63e9157c",
   "metadata": {},
   "source": [
    "#### Task #3: Retrieval"
   ]
  },
  {
   "cell_type": "code",
   "execution_count": 78,
   "id": "e8f2fd93",
   "metadata": {},
   "outputs": [],
   "source": [
    "retrieve_task = Task(\n",
    "    description=(\n",
    "        \"Retrieve the relevant information based on your refined classification. \"\n",
    "        \"Use the Serper tool for [WEB], the vector tool for [VECTOR], or internal LLM knowledge for [LLM]. \"\n",
    "        \"Summarize each source's contribution. Output should look like:\\n\"\n",
    "        \"WEB: ...\\nVECTOR: ...\\nLLM: ...\"\n",
    "    ),\n",
    "    expected_output=\"A dictionary-style summary like: WEB:..., VECTOR:..., LLM:...\",\n",
    "    agent=multi_reason_agent,\n",
    "    tools=[SerperDevTool(),astra_tool]\n",
    ")"
   ]
  },
  {
   "cell_type": "markdown",
   "id": "50cb9c1d",
   "metadata": {},
   "source": [
    "#### Task #4: Combine"
   ]
  },
  {
   "cell_type": "code",
   "execution_count": 79,
   "id": "08e63764",
   "metadata": {},
   "outputs": [],
   "source": [
    "combine_task = Task(\n",
    "    description=(\n",
    "        \"You've gathered data from one or more sources. \"\n",
    "        \"Combine the information into a coherent, unified summary. \"\n",
    "        \"Resolve contradictions, emphasize relevance, and organize the content logically.\"\n",
    "    ),\n",
    "    expected_output=\"A combined, logically cohesive summary of all source content.\",\n",
    "    agent=multi_reason_agent\n",
    ")"
   ]
  },
  {
   "cell_type": "markdown",
   "id": "b78a50ef",
   "metadata": {},
   "source": [
    "#### Task #5: Synthesis"
   ]
  },
  {
   "cell_type": "code",
   "execution_count": 80,
   "id": "d56dd6b8",
   "metadata": {},
   "outputs": [],
   "source": [
    "synthesize_task = Task(\n",
    "    description=(\n",
    "        \"Write the final response to the original query: '{user_input}'. \"\n",
    "        \"Make it helpful, complete, and readable. \"\n",
    "        \"At the end, note which sources were used.\"\n",
    "    ),\n",
    "    expected_output=\"The final answer to the user query, including a reference to source(s).\",\n",
    "    agent=multi_reason_agent\n",
    ")"
   ]
  },
  {
   "cell_type": "markdown",
   "id": "0462598f",
   "metadata": {},
   "source": [
    "#### Task #6: Export"
   ]
  },
  {
   "cell_type": "code",
   "execution_count": 81,
   "id": "70395175",
   "metadata": {},
   "outputs": [],
   "source": [
    "export_task = Task(\n",
    "    description=(\n",
    "        \"Evaluate your final answer. If it's longer than 300 words or contains valuable insights, \"\n",
    "        \"write it to a file named 'response.md' in markdown format. Include the query and answer. \"\n",
    "        \"If it’s not important enough, skip saving. In either case, return a message saying what happened.\"\n",
    "    ),\n",
    "    expected_output=\"Saved to markdown OR Skipped saving. Also return the final answer to the user query, including a reference to source(s).\",\n",
    "    agent=multi_reason_agent,\n",
    "    output_file=\"response.md\"\n",
    ")"
   ]
  },
  {
   "cell_type": "code",
   "execution_count": 82,
   "id": "195b3a7a",
   "metadata": {},
   "outputs": [],
   "source": [
    "from crewai import Crew, Process\n",
    "\n",
    "crew = Crew(\n",
    "    agents=[multi_reason_agent],\n",
    "    tasks=[\n",
    "        classify_task, # CoT\n",
    "        reflect_task, # Reflexion\n",
    "        retrieve_task, # ReAct\n",
    "        combine_task, # CoT\n",
    "        synthesize_task, # CoT\n",
    "        export_task # Reflexion + PAL\n",
    "    ],\n",
    "    process=Process.sequential\n",
    ")\n"
   ]
  },
  {
   "cell_type": "code",
   "execution_count": 83,
   "id": "3cc9966d",
   "metadata": {},
   "outputs": [
    {
     "name": "stdout",
     "output_type": "stream",
     "text": [
      "\u001b[1m\u001b[95m# Agent:\u001b[00m \u001b[1m\u001b[92mAdvanced Reasoning AI Assistant\u001b[00m\n",
      "\u001b[95m## Task:\u001b[00m \u001b[92mAnalyze the user query: 'How many leaves can the employees take?' and determine which sources are needed to answer it. Always return more than one : [WEB], [VECTOR], [LLM]. If the query is simple or general knowledge (e.g., definitions, common facts), classify as LLM to use internal knowledge. If the query appears to require current or web-based information (e.g., news, trending topics, recent data), classify as WEB to search using the Serper API tool to gather relevant information first. If the query is about the employee leave policy of AKAIWorks, classify as VECTOR to perform a vector database search using vector search tool.Remember that company name might not be explicitly mentioned but assume that the leave policy query is implicitly for the organisation.\u001b[00m\n"
     ]
    },
    {
     "name": "stdout",
     "output_type": "stream",
     "text": [
      "\n",
      "\n",
      "\u001b[1m\u001b[95m# Agent:\u001b[00m \u001b[1m\u001b[92mAdvanced Reasoning AI Assistant\u001b[00m\n",
      "\u001b[95m## Thought:\u001b[00m \u001b[92mThe user query is specifically about the leave policy, which relates to employee leave entitlements. This indicates that the information needed is likely to be specific to AKAIWorks' policies.\u001b[00m\n",
      "\u001b[95m## Using tool:\u001b[00m \u001b[92mVector Tool\u001b[00m\n",
      "\u001b[95m## Tool Input:\u001b[00m \u001b[92m\n",
      "\"{\\\"query\\\": \\\"How many leaves can the employees take?\\\"}\"\u001b[00m\n",
      "\u001b[95m## Tool Output:\u001b[00m \u001b[92m\n",
      "[0.7726] {'_id': 'a213f2c3a6a042dfae0555a613363f49', 'page_content': 'to\\n \\nprovide\\n \\na\\n \\ncomprehensive\\n \\nleave\\n \\nprogram\\n \\nthat\\n \\nmeets\\n \\nthe\\n \\nneeds\\n \\nof\\n \\nour\\n \\nworkforce.\\n \\nWhether\\n \\nan\\n \\nemployee\\n \\nis\\n \\ntaking\\n \\ntime\\n \\noff\\n \\nfor\\n \\nillness,\\n \\nvacation,\\n \\npersonal\\n \\nmatters,\\n \\nor\\n \\nother\\n \\ncircumstances,\\n \\nthis\\n \\npolicy\\n \\nclarifies\\n \\nthe\\n \\navailable\\n \\nleave\\n \\noptions\\n \\nand\\n \\nthe\\n \\nprocedures\\n \\nfor\\n \\nrequesting\\n \\nand\\n \\ntaking\\n \\nleave.\\n \\nThe  policy  provides  guidance  on:  \\n●  Types  of  leave  available  ●  How  leave  is  accrued  and  managed  ●  The  process  for  requesting  and  approving  leave  ●  Requirements  for  documentation  ●  Pay  and  compensation  during  leave  ●  Responsibilities  of  employees  and  management  \\nWe  encourage  employees  to  utilize  leave  entitlements  responsibly  while  ensuring  that  \\noperational\\n \\ndemands\\n \\nare\\n \\nmet.\\n \\nAKAIWorks\\n \\nLLP\\n \\nis\\n \\ncommitted\\n \\nto\\n \\nmaintaining\\n \\ncompliance\\n \\nwith\\n \\nall\\n \\napplicable\\n \\nlocal,\\n \\nstate,\\n \\nand\\n \\nnational\\n \\nregulations\\n \\nregarding\\n \\nemployee\\n \\nleave,\\n \\nincluding', 'metadata': {'file_path': '/app/data/.cache/langflow/354908a6-5fe4-4fc8-ac41-3576737bdbb9/06b3e7ca-2178-4d28-9a49-e947fd8699b3.pdf'}, '$similarity': 0.77258813}\n",
      "[0.7690] {'_id': '3da5394ed6c14c698a6fda2220c2cd91', 'page_content': 'accommodations\\n \\nto\\n \\nensure\\n \\nthat\\n \\nthese\\n \\nemployees\\n \\nare\\n \\nable\\n \\nto\\n \\ntake\\n \\ntime\\n \\noff\\n \\nwithout\\n \\npenalty.\\n 2.  Reasonable  Adjustments  to  Leave  for  Employees  with  Health  Conditions:  \\n ○  Employees  who  are  dealing  with  health  conditions  that  impact  their  ability  to  work  \\nmay\\n \\nbe\\n \\nentitled\\n \\nto\\n \\nreasonable\\n \\nadjustments\\n \\nto\\n \\ntheir\\n \\nleave.\\n \\nThis\\n \\nincludes\\n \\nadditional\\n \\nunpaid\\n \\nleave\\n \\nor\\n \\nflexible\\n \\nworking\\n \\nhours.\\n ○  The  company  encourages  employees  to  communicate  openly  with  HR  about  any  \\nongoing\\n \\nhealth\\n \\nconditions\\n \\nthat\\n \\nmight\\n \\nrequire\\n \\nleave\\n \\nadjustments.\\n \\n \\nb.  Emergency  or  Unforeseen  Circumstances  Leave  \\n1.  Unforeseen  Personal  or  Family  Emergencies:  \\n \\n○  In  the  event  of  a  sudden  personal  or  family  emergency  (e.g.,  death  of  a  close  \\nfamily\\n \\nmember,\\n \\nnatural\\n \\ndisaster,\\n \\nor\\n \\naccident),\\n \\nemployees\\n \\nmay\\n \\nbe\\n \\ngranted\\n \\nleave\\n \\neven\\n \\nif\\n \\nthey\\n \\ndo\\n \\nnot\\n \\nhave\\n \\nsufficient\\n \\nleave', 'metadata': {'file_path': '/app/data/.cache/langflow/354908a6-5fe4-4fc8-ac41-3576737bdbb9/06b3e7ca-2178-4d28-9a49-e947fd8699b3.pdf'}, '$similarity': 0.76904887}\n",
      "[0.7668] {'_id': 'efa0389f66bc46c3aa451862cab82ab4', 'page_content': 'Holidays\\n.\\n ○  Statutory  leave  entitlements  are  provided  by  the  company  as  per  the  relevant  \\nlegal\\n \\nrequirements,\\n \\nand\\n \\nemployees\\n \\ncan\\n \\navail\\n \\nof\\n \\nthese\\n \\nwithout\\n \\nfear\\n \\nof\\n \\ndiscrimination\\n \\nor\\n \\nretaliation.\\n 3.  Right  to  Privacy  and  Confidentiality  of  Leave  Records:  \\n ○  Employees  have  the  right  to  privacy  concerning  their  leave  records.  The  details  \\nof\\n \\nleave\\n \\ntaken\\n \\nor\\n \\nrequested,\\n \\nas\\n \\nwell\\n \\nas\\n \\nany\\n \\nmedical\\n \\nor\\n \\npersonal\\n \\ndocumentation,\\n \\nwill\\n \\nbe\\n \\nkept\\n \\nconfidential\\n \\nby\\n \\nAKAIWorks\\n \\nLLP\\n \\nand\\n \\nshared\\n \\nonly\\n \\nwith\\n \\nrelevant\\n \\nparties\\n \\nsuch\\n \\nas\\n \\nHR,\\n \\nthe\\n \\nemployee’s\\n \\ndirect\\n \\nmanager,\\n \\nor\\n \\nas\\n \\nrequired\\n \\nby\\n \\nlaw.\\n ○  Employees  are  not  required  to  share  details  about  the  specific  reason  for  their  \\nleave\\n \\nunless\\n \\nit\\n \\nis\\n \\nnecessary\\n \\nfor\\n \\nthe\\n \\nproper\\n \\ndocumentation\\n \\n(e.g.,\\n \\nmedical\\n \\ncertificates\\n \\nfor\\n \\nsick\\n \\nleave).\\n 4.  Right  to  Appeal  Leave-Related  Decisions:', 'metadata': {'file_path': '/app/data/.cache/langflow/354908a6-5fe4-4fc8-ac41-3576737bdbb9/06b3e7ca-2178-4d28-9a49-e947fd8699b3.pdf'}, '$similarity': 0.76679814}\n",
      "[0.7646] {'_id': 'b2a63ce5d0bf49259a81966a05809a64', 'page_content': 'medical\\n \\nleave,\\n \\nwith\\n \\nthe\\n \\nemployee\\n \\nbeing\\n \\nallowed\\n \\nto\\n \\ntake\\n \\ntime\\n \\noff\\n \\nwhile\\n \\nmaintaining\\n \\ntheir\\n \\nposition\\n \\nwithin\\n \\nthe\\n \\ncompany.\\n 2.  Leave  for  Personal  Reasons  or  Extended  Absences:  \\n ○  Employees  who  need  time  off  for  personal  reasons  (e.g.,  family  obligations,  \\neducation)\\n \\nmay\\n \\nrequest\\n \\nextended\\n \\nleave.\\n \\nDepending\\n \\non\\n \\nthe\\n \\nsituation,\\n \\nthis\\n \\nleave\\n \\nmay\\n \\nbe\\n \\ngranted\\n \\nas\\n \\nunpaid\\n \\nleave\\n,\\n \\nor\\n \\nin\\n \\nsome\\n \\ncases,\\n \\nit\\n \\nmay\\n \\nbe\\n \\ncovered\\n \\nby\\n \\nvacation\\n \\nleave\\n \\nor\\n \\nother\\n \\ntypes\\n \\nof\\n \\npaid\\n \\nleave.\\n ○  Employees  must  provide  adequate  notice  and  any  supporting  documentation  to  \\nHR\\n \\nfor\\n \\napproval.\\n \\nExtended\\n \\nleave\\n \\nrequests\\n \\nwill\\n \\nbe\\n \\nconsidered\\n \\non\\n \\na\\n \\ncase-by-case\\n \\nbasis,\\n \\nwith\\n \\nthe\\n \\napproval\\n \\ndepending\\n \\non\\n \\nbusiness\\n \\nneeds\\n \\nand\\n \\nthe\\n \\nnature\\n \\nof\\n \\nthe\\n \\nrequest.\\n \\n \\ng.  Religious  or  Cultural  Leave', 'metadata': {'file_path': '/app/data/.cache/langflow/354908a6-5fe4-4fc8-ac41-3576737bdbb9/06b3e7ca-2178-4d28-9a49-e947fd8699b3.pdf'}, '$similarity': 0.7646314}\n",
      "[0.7643] {'_id': 'fd98773c0a8d4dc880cf30335ba3cae4', 'page_content': 'number\\n \\nof\\n \\nvacation\\n \\ndays\\n \\nbased\\n \\non\\n \\nthe\\n \\nnumber\\n \\nof\\n \\nhours\\n \\nworked.\\n ○  Accrual :  Vacation  leave  will  accrue  on  a  monthly  basis  at  the  rate  of  1.25  days  \\nper\\n \\nmonth\\n \\nfor\\n \\nfull-time\\n \\nemployees.\\n \\nFor\\n \\npart-time\\n \\nemployees,\\n \\nthe\\n \\naccrual\\n \\nwill\\n \\nbe\\n \\nadjusted\\n \\nbased\\n \\non\\n \\nhours\\n \\nworked.\\n ○  Carryover :  Employees  may  carry  over  up  to  a  maximum  of  10  days  of  unused  \\nvacation\\n \\nleave\\n \\nto\\n \\nthe\\n \\nnext\\n \\ncalendar\\n \\nyear.\\n \\nAny\\n \\nunused\\n \\nleave\\n \\nexceeding\\n \\nthis\\n \\nlimit\\n \\nwill\\n \\nbe\\n \\nforfeited\\n \\nunless\\n \\notherwise\\n \\nstipulated\\n \\nby\\n \\nlocal\\n \\nlaw\\n \\nor\\n \\nagreement.\\n ○  Requesting  Leave :  Employees  must  submit  a  leave  request  at  least  7  days  in  \\nadvance.\\n \\nThe\\n \\nrequest\\n \\nwill\\n \\nbe\\n \\nsubject\\n \\nto\\n \\nmanager\\n \\napproval\\n \\nbased\\n \\non\\n \\noperational\\n \\nneeds.\\n 2.  Sick  Leave:  \\n ○  Entitlement :  Employees  are  entitled  to  12  days  of  paid  sick  leave  per  year.  \\nEmployees\\n \\nwho\\n \\nhave\\n \\ncompleted\\n \\nless\\n \\nthan\\n \\n6\\n \\nmonths', 'metadata': {'file_path': '/app/data/.cache/langflow/354908a6-5fe4-4fc8-ac41-3576737bdbb9/06b3e7ca-2178-4d28-9a49-e947fd8699b3.pdf'}, '$similarity': 0.76431566}\u001b[00m\n",
      "\n",
      "\n",
      "\u001b[1m\u001b[95m# Agent:\u001b[00m \u001b[1m\u001b[92mAdvanced Reasoning AI Assistant\u001b[00m\n",
      "\u001b[95m## Thought:\u001b[00m \u001b[92mThought: I need to find out how many leaves employees can take according to the leave policy of AKAIWorks. Since this is specific to the company's policy, I will use the Vector Tool to retrieve the relevant information.\u001b[00m\n",
      "\u001b[95m## Using tool:\u001b[00m \u001b[92mVector Tool\u001b[00m\n",
      "\u001b[95m## Tool Input:\u001b[00m \u001b[92m\n",
      "\"{\\\"query\\\": \\\"How many leaves can the employees take?\\\"}\"\u001b[00m\n",
      "\u001b[95m## Tool Output:\u001b[00m \u001b[92m\n",
      "I tried reusing the same input, I must stop using this action input. I'll try something else instead.\n",
      "\n",
      "\u001b[00m\n",
      "\n",
      "\n",
      "\u001b[1m\u001b[95m# Agent:\u001b[00m \u001b[1m\u001b[92mAdvanced Reasoning AI Assistant\u001b[00m\n",
      "\u001b[95m## Thought:\u001b[00m \u001b[92mThought: I need to find out how many leaves employees can take according to the leave policy of AKAIWorks. Since this is specific to the company's policy, I will use the Vector Tool to retrieve the relevant information.\u001b[00m\n",
      "\u001b[95m## Using tool:\u001b[00m \u001b[92mVector Tool\u001b[00m\n",
      "\u001b[95m## Tool Input:\u001b[00m \u001b[92m\n",
      "\"{\\\"query\\\": \\\"employee leave policy\\\"}\"\u001b[00m\n",
      "\u001b[95m## Tool Output:\u001b[00m \u001b[92m\n",
      "[0.8399] {'_id': 'a213f2c3a6a042dfae0555a613363f49', 'page_content': 'to\\n \\nprovide\\n \\na\\n \\ncomprehensive\\n \\nleave\\n \\nprogram\\n \\nthat\\n \\nmeets\\n \\nthe\\n \\nneeds\\n \\nof\\n \\nour\\n \\nworkforce.\\n \\nWhether\\n \\nan\\n \\nemployee\\n \\nis\\n \\ntaking\\n \\ntime\\n \\noff\\n \\nfor\\n \\nillness,\\n \\nvacation,\\n \\npersonal\\n \\nmatters,\\n \\nor\\n \\nother\\n \\ncircumstances,\\n \\nthis\\n \\npolicy\\n \\nclarifies\\n \\nthe\\n \\navailable\\n \\nleave\\n \\noptions\\n \\nand\\n \\nthe\\n \\nprocedures\\n \\nfor\\n \\nrequesting\\n \\nand\\n \\ntaking\\n \\nleave.\\n \\nThe  policy  provides  guidance  on:  \\n●  Types  of  leave  available  ●  How  leave  is  accrued  and  managed  ●  The  process  for  requesting  and  approving  leave  ●  Requirements  for  documentation  ●  Pay  and  compensation  during  leave  ●  Responsibilities  of  employees  and  management  \\nWe  encourage  employees  to  utilize  leave  entitlements  responsibly  while  ensuring  that  \\noperational\\n \\ndemands\\n \\nare\\n \\nmet.\\n \\nAKAIWorks\\n \\nLLP\\n \\nis\\n \\ncommitted\\n \\nto\\n \\nmaintaining\\n \\ncompliance\\n \\nwith\\n \\nall\\n \\napplicable\\n \\nlocal,\\n \\nstate,\\n \\nand\\n \\nnational\\n \\nregulations\\n \\nregarding\\n \\nemployee\\n \\nleave,\\n \\nincluding', 'metadata': {'file_path': '/app/data/.cache/langflow/354908a6-5fe4-4fc8-ac41-3576737bdbb9/06b3e7ca-2178-4d28-9a49-e947fd8699b3.pdf'}, '$similarity': 0.83993226}\n",
      "[0.8378] {'_id': '1b428a1bc42c4e178a2ece854ec04170', 'page_content': 'outlined.\\n \\nEmployees\\n \\nmust\\n \\nsubmit\\n \\nleave\\n \\nrequests\\n \\nin\\n \\na\\n \\ntimely\\n \\nmanner,\\n \\nprovide\\n \\nthe\\n \\nrequired\\n \\ndocumentation,\\n \\nand\\n \\nfollow\\n \\nthe\\n \\nappropriate\\n \\nprocesses\\n \\nfor\\n \\napproval\\n \\nand\\n \\ntracking.\\n \\nOn\\n \\nthe\\n \\ncompany\\n \\nside,\\n \\nmanagement\\n \\nis\\n \\nresponsible\\n \\nfor\\n \\nensuring\\n \\nthat\\n \\nleave\\n \\nrequests\\n \\nare\\n \\nprocessed\\n \\npromptly,\\n \\nleave\\n \\nrecords\\n \\nare\\n \\nmaintained\\n \\naccurately,\\n \\nand\\n \\nemployees\\n \\nare\\n \\ninformed\\n \\nof\\n \\ntheir\\n \\nentitlements\\n \\nand\\n \\nany\\n \\nchanges\\n \\nto\\n \\nthe\\n \\npolicy.\\n \\nThe  Leave  Policy  also  emphasizes  the  importance  of  responsibility  and  accountability.  While  \\nwe\\n \\nrecognize\\n \\nthat\\n \\npersonal\\n \\nand\\n \\nfamily\\n \\nemergencies\\n \\ncan\\n \\narise,\\n \\nit\\n \\nis\\n \\nessential\\n \\nthat\\n \\nemployees\\n \\ncomply\\n \\nwith\\n \\nthe\\n \\nestablished\\n \\nprocedures\\n \\nto\\n \\navoid\\n \\ndisruptions\\n \\nto\\n \\nbusiness\\n \\noperations.\\n \\nUnauthorized\\n \\nleave,\\n \\nexcessive\\n \\nabsenteeism,\\n \\nand\\n \\nfalsification\\n \\nof\\n \\nleave\\n \\nrecords\\n \\nare\\n \\ntaken\\n \\nseriously\\n \\nand\\n \\nmay\\n \\nresult\\n \\nin\\n \\ndisciplinary', 'metadata': {'file_path': '/app/data/.cache/langflow/354908a6-5fe4-4fc8-ac41-3576737bdbb9/06b3e7ca-2178-4d28-9a49-e947fd8699b3.pdf'}, '$similarity': 0.8377582}\n",
      "[0.8316] {'_id': 'bf9d9408365f493a957609344084fb78', 'page_content': 'to\\n \\nbusiness\\n \\noperations.\\n \\nUnauthorized\\n \\nleave,\\n \\nexcessive\\n \\nabsenteeism,\\n \\nand\\n \\nfalsification\\n \\nof\\n \\nleave\\n \\nrecords\\n \\nare\\n \\ntaken\\n \\nseriously\\n \\nand\\n \\nmay\\n \\nresult\\n \\nin\\n \\ndisciplinary\\n \\naction,\\n \\nup\\n \\nto\\n \\nand\\n \\nincluding\\n \\ntermination,\\n \\ndepending\\n \\non\\n \\nthe\\n \\nseverity\\n \\nand\\n \\nrecurrence\\n \\nof\\n \\nthe\\n \\nviolation.\\n \\nWe\\n \\nencourage\\n \\nemployees\\n \\nto\\n \\nreach\\n \\nout\\n \\nto\\n \\nHR\\n \\nif\\n \\nthey\\n \\nneed\\n \\nassistance\\n \\nin\\n \\nunderstanding\\n \\nor\\n \\napplying\\n \\nthis\\n \\npolicy.\\n \\nWe  also  believe  in  the  value  of  feedback  and  continuous  improvement.  Therefore,  this  Leave  \\nPolicy\\n \\nwill\\n \\nbe\\n \\nreviewed\\n \\nannually,\\n \\nensuring\\n \\nthat\\n \\nit\\n \\nremains\\n \\nrelevant,\\n \\nfair,\\n \\nand\\n \\nin\\n \\ncompliance\\n \\nwith\\n \\nthe\\n \\nlatest\\n \\nlegal\\n \\nstandards.\\n \\nChanges\\n \\nto\\n \\nthe\\n \\npolicy,\\n \\nwhen\\n \\nnecessary,\\n \\nwill\\n \\nbe\\n \\ncommunicated\\n \\npromptly\\n \\nto\\n \\nall\\n \\nemployees,\\n \\nand\\n \\nwe\\n \\nwill\\n \\ntake\\n \\ninto\\n \\naccount\\n \\nemployee\\n \\nfeedback\\n \\nduring\\n \\nthe\\n \\nreview\\n \\nprocess.\\n \\nBy\\n \\nmaintaining\\n \\nan\\n \\nopen\\n \\ndialogue\\n \\nabout', 'metadata': {'file_path': '/app/data/.cache/langflow/354908a6-5fe4-4fc8-ac41-3576737bdbb9/06b3e7ca-2178-4d28-9a49-e947fd8699b3.pdf'}, '$similarity': 0.8316385}\n",
      "[0.8272] {'_id': '09efa3488fef438d9b6d3d0f8f17881f', 'page_content': '1.  Title  and  Introduction  \\nTitle:  Employee  Leave  Policy   \\nIntroduction:  \\nThe  Employee  Leave  Policy  of  AKAIWorks  LLP  is  designed  to  outline  the  procedures,  \\nexpectations,\\n \\nand\\n \\nentitlements\\n \\nregarding\\n \\ntime\\n \\noff\\n \\nfrom\\n \\nwork\\n \\nfor\\n \\nall\\n \\nemployees.\\n \\nThis\\n \\npolicy\\n \\nensures\\n \\nthat\\n \\nemployees\\n \\nhave\\n \\nthe\\n \\nopportunity\\n \\nto\\n \\ntake\\n \\nnecessary\\n \\nleave\\n \\nfor\\n \\npersonal,\\n \\nmedical,\\n \\nor\\n \\nfamily\\n \\nreasons\\n \\nwhile\\n \\nmaintaining\\n \\nthe\\n \\nsmooth\\n \\noperation\\n \\nof\\n \\nthe\\n \\norganization.\\n \\nIt\\n \\nis\\n \\nimportant\\n \\nthat\\n \\nall\\n \\nemployees\\n \\nunderstand\\n \\nand\\n \\nadhere\\n \\nto\\n \\nthe\\n \\nguidelines\\n \\nwithin\\n \\nthis\\n \\ndocument\\n \\nto\\n \\nfoster\\n \\na\\n \\nfair\\n \\nand\\n \\ntransparent\\n \\nprocess\\n \\nfor\\n \\nall\\n \\nparties\\n \\ninvolved.\\n \\nAt  AKAIWorks  LLP ,  we  recognize  the  importance  of  balancing  work  and  personal  life  and  strive  \\nto\\n \\nprovide\\n \\na\\n \\ncomprehensive\\n \\nleave\\n \\nprogram\\n \\nthat\\n \\nmeets\\n \\nthe\\n \\nneeds\\n \\nof\\n \\nour\\n \\nworkforce.\\n \\nWhether\\n \\nan\\n \\nemployee\\n \\nis\\n \\ntaking\\n \\ntime\\n \\noff', 'metadata': {'file_path': '/app/data/.cache/langflow/354908a6-5fe4-4fc8-ac41-3576737bdbb9/06b3e7ca-2178-4d28-9a49-e947fd8699b3.pdf'}, '$similarity': 0.8272208}\n",
      "[0.8230] {'_id': 'bb6ac00ee3194a0e9d93d2b637492f29', 'page_content': 'are\\n \\nmet.\\n \\nAKAIWorks\\n \\nLLP\\n \\nis\\n \\ncommitted\\n \\nto\\n \\nmaintaining\\n \\ncompliance\\n \\nwith\\n \\nall\\n \\napplicable\\n \\nlocal,\\n \\nstate,\\n \\nand\\n \\nnational\\n \\nregulations\\n \\nregarding\\n \\nemployee\\n \\nleave,\\n \\nincluding\\n \\nstatutory\\n \\nleave\\n \\nentitlements\\n \\nsuch\\n \\nas\\n \\nfamily,\\n \\nmedical,\\n \\nand\\n \\nmaternity\\n \\nleave.\\n \\nAll  employees  are  encouraged  to  review  this  policy  thoroughly  to  understand  their  rights  and  \\nobligations\\n \\nregarding\\n \\nleave.\\n \\nIt\\n \\nis\\n \\nimportant\\n \\nto\\n \\nnote\\n \\nthat\\n \\nthis\\n \\npolicy\\n \\nmay\\n \\nbe\\n \\nsubject\\n \\nto\\n \\nchange,\\n \\nand\\n \\nany\\n \\nupdates\\n \\nwill\\n \\nbe\\n \\ncommunicated\\n \\nto\\n \\nemployees\\n \\npromptly.\\n \\n \\nKey  Objectives  of  This  Policy:  \\n●  To  provide  clear  guidelines  on  the  different  types  of  leave  available  to  employees  and  the  \\ncorresponding\\n \\neligibility\\n \\nrequirements.\\n ●  To  ensure  fair  and  consistent  administration  of  leave  across  the  organization.', 'metadata': {'file_path': '/app/data/.cache/langflow/354908a6-5fe4-4fc8-ac41-3576737bdbb9/06b3e7ca-2178-4d28-9a49-e947fd8699b3.pdf'}, '$similarity': 0.82302713}\n",
      "\n",
      "\n",
      "You ONLY have access to the following tools, and should NEVER make up tools that are not listed here:\n",
      "\n",
      "Tool Name: Search the internet with Serper\n",
      "Tool Arguments: {'search_query': {'description': 'Mandatory search query you want to use to search the internet', 'type': 'str'}}\n",
      "Tool Description: A tool that can be used to search the internet with a search_query. Supports different search types: 'search' (default), 'news'\n",
      "Tool Name: Vector Tool\n",
      "Tool Arguments: {'query': {'description': None, 'type': 'str'}}\n",
      "Tool Description: Search the vector store for information about employee leave policy of AKAIWorks\n",
      "\n",
      "IMPORTANT: Use the following format in your response:\n",
      "\n",
      "```\n",
      "Thought: you should always think about what to do\n",
      "Action: the action to take, only one name of [Search the internet with Serper, Vector Tool], just the name, exactly as it's written.\n",
      "Action Input: the input to the action, just a simple JSON object, enclosed in curly braces, using \" to wrap keys and values.\n",
      "Observation: the result of the action\n",
      "```\n",
      "\n",
      "Once all necessary information is gathered, return the following format:\n",
      "\n",
      "```\n",
      "Thought: I now know the final answer\n",
      "Final Answer: the final answer to the original input question\n",
      "```\u001b[00m\n",
      "\n",
      "\n",
      "\u001b[1m\u001b[95m# Agent:\u001b[00m \u001b[1m\u001b[92mAdvanced Reasoning AI Assistant\u001b[00m\n",
      "\u001b[95m## Thought:\u001b[00m \u001b[92mThought: I need to gather specific information regarding the number of leaves employees can take under AKAIWorks' leave policy. Since this is a specific query about the company's leave policy, I will use the Vector Tool to retrieve the relevant information.\u001b[00m\n",
      "\u001b[95m## Using tool:\u001b[00m \u001b[92mVector Tool\u001b[00m\n",
      "\u001b[95m## Tool Input:\u001b[00m \u001b[92m\n",
      "\"{\\\"query\\\": \\\"employee leave policy of AKAIWorks\\\"}\"\u001b[00m\n",
      "\u001b[95m## Tool Output:\u001b[00m \u001b[92m\n",
      "[0.8603] {'_id': '09efa3488fef438d9b6d3d0f8f17881f', 'page_content': '1.  Title  and  Introduction  \\nTitle:  Employee  Leave  Policy   \\nIntroduction:  \\nThe  Employee  Leave  Policy  of  AKAIWorks  LLP  is  designed  to  outline  the  procedures,  \\nexpectations,\\n \\nand\\n \\nentitlements\\n \\nregarding\\n \\ntime\\n \\noff\\n \\nfrom\\n \\nwork\\n \\nfor\\n \\nall\\n \\nemployees.\\n \\nThis\\n \\npolicy\\n \\nensures\\n \\nthat\\n \\nemployees\\n \\nhave\\n \\nthe\\n \\nopportunity\\n \\nto\\n \\ntake\\n \\nnecessary\\n \\nleave\\n \\nfor\\n \\npersonal,\\n \\nmedical,\\n \\nor\\n \\nfamily\\n \\nreasons\\n \\nwhile\\n \\nmaintaining\\n \\nthe\\n \\nsmooth\\n \\noperation\\n \\nof\\n \\nthe\\n \\norganization.\\n \\nIt\\n \\nis\\n \\nimportant\\n \\nthat\\n \\nall\\n \\nemployees\\n \\nunderstand\\n \\nand\\n \\nadhere\\n \\nto\\n \\nthe\\n \\nguidelines\\n \\nwithin\\n \\nthis\\n \\ndocument\\n \\nto\\n \\nfoster\\n \\na\\n \\nfair\\n \\nand\\n \\ntransparent\\n \\nprocess\\n \\nfor\\n \\nall\\n \\nparties\\n \\ninvolved.\\n \\nAt  AKAIWorks  LLP ,  we  recognize  the  importance  of  balancing  work  and  personal  life  and  strive  \\nto\\n \\nprovide\\n \\na\\n \\ncomprehensive\\n \\nleave\\n \\nprogram\\n \\nthat\\n \\nmeets\\n \\nthe\\n \\nneeds\\n \\nof\\n \\nour\\n \\nworkforce.\\n \\nWhether\\n \\nan\\n \\nemployee\\n \\nis\\n \\ntaking\\n \\ntime\\n \\noff', 'metadata': {'file_path': '/app/data/.cache/langflow/354908a6-5fe4-4fc8-ac41-3576737bdbb9/06b3e7ca-2178-4d28-9a49-e947fd8699b3.pdf'}, '$similarity': 0.8602538}\n",
      "[0.8548] {'_id': '7edc117796e240f6a9dec00ee30fbe2b', 'page_content': \"corresponding\\n \\neligibility\\n \\nrequirements.\\n ●  To  ensure  fair  and  consistent  administration  of  leave  across  the  organization.  \\n●  To  comply  with  relevant  legal  regulations  governing  employee  leave  rights.  ●  To  outline  the  procedures  and  documentation  required  for  leave  requests.  ●  To  foster  a  healthy  work-life  balance  for  employees  while  ensuring  that  company  \\noperations\\n \\ncontinue\\n \\nsmoothly\\n \\nduring\\n \\nperiods\\n \\nof\\n \\nemployee\\n \\nabsence.\\n \\nApplicability  of  the  Policy:  This  policy  applies  to  all  employees  of  AKAIWorks  LLP ,  including  \\nfull-time,\\n \\npart-time,\\n \\ntemporary,\\n \\nand\\n \\ncontract\\n \\nemployees,\\n \\nunless\\n \\notherwise\\n \\nstated.\\n \\nIn\\n \\nthe\\n \\ncase\\n \\nof\\n \\nany\\n \\ninconsistency\\n \\nbetween\\n \\nthis\\n \\npolicy\\n \\nand\\n \\napplicable\\n \\nlabor\\n \\nlaws,\\n \\nthe\\n \\nlegal\\n \\nprovisions\\n \\nwill\\n \\ntake\\n \\nprecedence.\\n \\nBy  clearly  defining  the  company's  leave  expectations  and  responsibilities,  we  aim  to  ensure  that  \\nemployees\\n \\nhave\\n \\nthe\", 'metadata': {'file_path': '/app/data/.cache/langflow/354908a6-5fe4-4fc8-ac41-3576737bdbb9/06b3e7ca-2178-4d28-9a49-e947fd8699b3.pdf'}, '$similarity': 0.8548459}\n",
      "[0.8542] {'_id': '243aed2fd8b949d1bdd1c3c68dc3fa84', 'page_content': '1.  Rehiring  of  Former  Employees:  ○  If  a  former  employee  is  rehired  by  AKAIWorks  LLP ,  the  treatment  of  their  \\nprevious\\n \\nleave\\n \\nbalances\\n \\nwill\\n \\nbe\\n \\ndecided\\n \\nbased\\n \\non\\n \\nthe\\n \\ncircumstances\\n \\nof\\n \\ntheir\\n \\nseparation.\\n \\nIf\\n \\nthe\\n \\nemployee\\n \\nresigned\\n \\nin\\n \\ngood\\n \\nstanding,\\n \\nunused\\n \\nleave\\n \\nmay\\n \\nbe\\n \\ncarried\\n \\nover,\\n \\nsubject\\n \\nto\\n \\nmanagement\\n \\napproval.\\n ○  If  the  employee  was  terminated  or  left  under  circumstances  where  leave  \\nencashment\\n \\nwas\\n \\nmade,\\n \\nthe\\n \\naccrued\\n \\nleave\\n \\nfrom\\n \\nthe\\n \\nprevious\\n \\nemployment\\n \\nperiod\\n \\nwill\\n \\nnot\\n \\nbe\\n \\nreinstated.\\n ○  Any  leave  accrued  during  the  period  of  reemployment  will  be  subject  to  the  \\nregular\\n \\nleave\\n \\naccrual\\n \\npolicies\\n \\nof\\n \\nthe\\n \\ncompany.\\n \\n \\n8.  Disciplinary  Actions  for  Leave  Violations  \\nAKAIWorks  LLP  recognizes  the  importance  of  maintaining  consistency  and  fairness  in  the  \\napplication\\n \\nof\\n \\nits\\n \\nleave\\n \\npolicies.\\n \\nWhile\\n \\nthe\\n \\ncompany\\n \\nvalues\\n \\nits\\n \\nemployees’', 'metadata': {'file_path': '/app/data/.cache/langflow/354908a6-5fe4-4fc8-ac41-3576737bdbb9/06b3e7ca-2178-4d28-9a49-e947fd8699b3.pdf'}, '$similarity': 0.8541963}\n",
      "[0.8529] {'_id': '9857e7c6bb3045cf8ead189d0f8fcf70', 'page_content': \"laws,\\n \\nthe\\n \\nlegal\\n \\nprovisions\\n \\nwill\\n \\ntake\\n \\nprecedence.\\n \\nBy  clearly  defining  the  company's  leave  expectations  and  responsibilities,  we  aim  to  ensure  that  \\nemployees\\n \\nhave\\n \\nthe\\n \\nflexibility\\n \\nto\\n \\nmanage\\n \\npersonal\\n \\nmatters\\n \\nand\\n \\nmaintain\\n \\ntheir\\n \\nwell-being,\\n \\nwhile\\n \\nalso\\n \\nensuring\\n \\nthat\\n \\nbusiness\\n \\nneeds\\n \\nare\\n \\nmet\\n \\nwith\\n \\nminimal\\n \\ndisruption.\\n \\n \\n2.  Scope  \\nThis  Employee  Leave  Policy  applies  to  all  employees  of  AKAIWorks  LLP ,  including  full-time,  \\npart-time,\\n \\ntemporary,\\n \\nand\\n \\ncontract\\n \\nemployees,\\n \\nunless\\n \\notherwise\\n \\nstated.\\n \\nIt\\n \\nprovides\\n \\nclear\\n \\nguidelines\\n \\non\\n \\nthe\\n \\ntypes\\n \\nof\\n \\nleave\\n \\navailable\\n \\nto\\n \\nemployees,\\n \\nthe\\n \\nprocess\\n \\nfor\\n \\nrequesting\\n \\nand\\n \\napproving\\n \\nleave,\\n \\nand\\n \\nthe\\n \\nexpectations\\n \\nof\\n \\nboth\\n \\nemployees\\n \\nand\\n \\nmanagement\\n \\nduring\\n \\nleave\\n \\nperiods.\\n \\n \\nEmployees  Covered:  \\n●  Full-time  Employees :  Employees  who  are  employed  on  a  permanent  basis  and  work  \\nthe\\n \\nstandard\\n \\nfull-time\", 'metadata': {'file_path': '/app/data/.cache/langflow/354908a6-5fe4-4fc8-ac41-3576737bdbb9/06b3e7ca-2178-4d28-9a49-e947fd8699b3.pdf'}, '$similarity': 0.8529217}\n",
      "[0.8529] {'_id': '7496d13752d0467882197c974d720a45', 'page_content': 'communicated\\n \\npromptly\\n \\nto\\n \\nall\\n \\nemployees,\\n \\nand\\n \\nwe\\n \\nwill\\n \\ntake\\n \\ninto\\n \\naccount\\n \\nemployee\\n \\nfeedback\\n \\nduring\\n \\nthe\\n \\nreview\\n \\nprocess.\\n \\nBy\\n \\nmaintaining\\n \\nan\\n \\nopen\\n \\ndialogue\\n \\nabout\\n \\nthe\\n \\npolicy\\n \\nand\\n \\nbeing\\n \\nflexible\\n \\nin\\n \\naddressing\\n \\nthe\\n \\ndiverse\\n \\nneeds\\n \\nof\\n \\nour\\n \\nworkforce,\\n \\nwe\\n \\naim\\n \\nto\\n \\ncreate\\n \\na\\n \\nsupportive\\n \\nenvironment\\n \\nfor\\n \\neveryone\\n \\nat\\n \\nAKAIWorks\\n \\nLLP\\n.\\n \\nEmployees  are  encouraged  to  familiarize  themselves  with  this  policy  and  take  full  advantage  of  \\ntheir\\n \\nleave\\n \\nentitlements\\n \\nto\\n \\nmaintain\\n \\na\\n \\nhealthy\\n \\nwork-life\\n \\nbalance.\\n \\nWe\\n \\nunderstand\\n \\nthat\\n \\nbalancing\\n \\nwork  and  personal  life  can  be  challenging,  but  by  respecting  the  guidelines  laid  out  in  this  policy,  \\nwe\\n \\ncan\\n \\nensure\\n \\nthat\\n \\nboth\\n \\nthe\\n \\ncompany\\n \\nand\\n \\nits\\n \\nemployees\\n \\nsucceed\\n \\nand\\n \\nthrive.\\n \\nBy  following  the  guidelines  in  this  Leave  Policy ,  employees  contribute  to  maintaining  a  \\nwell-structured\\n \\nand\\n \\nharmonious', 'metadata': {'file_path': '/app/data/.cache/langflow/354908a6-5fe4-4fc8-ac41-3576737bdbb9/06b3e7ca-2178-4d28-9a49-e947fd8699b3.pdf'}, '$similarity': 0.8528647}\u001b[00m\n",
      "\n",
      "\n",
      "\u001b[1m\u001b[95m# Agent:\u001b[00m \u001b[1m\u001b[92mAdvanced Reasoning AI Assistant\u001b[00m\n",
      "\u001b[95m## Final Answer:\u001b[00m \u001b[92m\n",
      "Employees of AKAIWorks LLP are entitled to various types of leave including personal, medical, and family leave, with specific guidelines on accrual and usage outlined in the company's leave policy. The policy emphasizes maintaining a balance between work and personal life, allowing employees to take necessary leave while ensuring that business operations continue smoothly. For detailed entitlements, employees are encouraged to review the policy thoroughly.\u001b[00m\n",
      "\n",
      "\n",
      "\u001b[1m\u001b[95m# Agent:\u001b[00m \u001b[1m\u001b[92mAdvanced Reasoning AI Assistant\u001b[00m\n",
      "\u001b[95m## Task:\u001b[00m \u001b[92mYou previously classified the sources required. Reflect carefully — should you add or remove any source? Return a refined list\u001b[00m\n",
      "\n",
      "\n",
      "\u001b[1m\u001b[95m# Agent:\u001b[00m \u001b[1m\u001b[92mAdvanced Reasoning AI Assistant\u001b[00m\n",
      "\u001b[95m## Thought:\u001b[00m \u001b[92mThought: I need to reflect on the sources required for accurate and relevant information regarding employee leave policies at AKAIWorks. Given the context provided, I should consider the sources that would best serve to inform about the leave policies.\u001b[00m\n",
      "\u001b[95m## Using tool:\u001b[00m \u001b[92mVector Tool\u001b[00m\n",
      "\u001b[95m## Tool Input:\u001b[00m \u001b[92m\n",
      "\"{\\\"query\\\": \\\"employee leave policy of AKAIWorks\\\"}\"\u001b[00m\n",
      "\u001b[95m## Tool Output:\u001b[00m \u001b[92m\n",
      "[0.8603] {'_id': '09efa3488fef438d9b6d3d0f8f17881f', 'page_content': '1.  Title  and  Introduction  \\nTitle:  Employee  Leave  Policy   \\nIntroduction:  \\nThe  Employee  Leave  Policy  of  AKAIWorks  LLP  is  designed  to  outline  the  procedures,  \\nexpectations,\\n \\nand\\n \\nentitlements\\n \\nregarding\\n \\ntime\\n \\noff\\n \\nfrom\\n \\nwork\\n \\nfor\\n \\nall\\n \\nemployees.\\n \\nThis\\n \\npolicy\\n \\nensures\\n \\nthat\\n \\nemployees\\n \\nhave\\n \\nthe\\n \\nopportunity\\n \\nto\\n \\ntake\\n \\nnecessary\\n \\nleave\\n \\nfor\\n \\npersonal,\\n \\nmedical,\\n \\nor\\n \\nfamily\\n \\nreasons\\n \\nwhile\\n \\nmaintaining\\n \\nthe\\n \\nsmooth\\n \\noperation\\n \\nof\\n \\nthe\\n \\norganization.\\n \\nIt\\n \\nis\\n \\nimportant\\n \\nthat\\n \\nall\\n \\nemployees\\n \\nunderstand\\n \\nand\\n \\nadhere\\n \\nto\\n \\nthe\\n \\nguidelines\\n \\nwithin\\n \\nthis\\n \\ndocument\\n \\nto\\n \\nfoster\\n \\na\\n \\nfair\\n \\nand\\n \\ntransparent\\n \\nprocess\\n \\nfor\\n \\nall\\n \\nparties\\n \\ninvolved.\\n \\nAt  AKAIWorks  LLP ,  we  recognize  the  importance  of  balancing  work  and  personal  life  and  strive  \\nto\\n \\nprovide\\n \\na\\n \\ncomprehensive\\n \\nleave\\n \\nprogram\\n \\nthat\\n \\nmeets\\n \\nthe\\n \\nneeds\\n \\nof\\n \\nour\\n \\nworkforce.\\n \\nWhether\\n \\nan\\n \\nemployee\\n \\nis\\n \\ntaking\\n \\ntime\\n \\noff', 'metadata': {'file_path': '/app/data/.cache/langflow/354908a6-5fe4-4fc8-ac41-3576737bdbb9/06b3e7ca-2178-4d28-9a49-e947fd8699b3.pdf'}, '$similarity': 0.8602538}\n",
      "[0.8548] {'_id': '7edc117796e240f6a9dec00ee30fbe2b', 'page_content': \"corresponding\\n \\neligibility\\n \\nrequirements.\\n ●  To  ensure  fair  and  consistent  administration  of  leave  across  the  organization.  \\n●  To  comply  with  relevant  legal  regulations  governing  employee  leave  rights.  ●  To  outline  the  procedures  and  documentation  required  for  leave  requests.  ●  To  foster  a  healthy  work-life  balance  for  employees  while  ensuring  that  company  \\noperations\\n \\ncontinue\\n \\nsmoothly\\n \\nduring\\n \\nperiods\\n \\nof\\n \\nemployee\\n \\nabsence.\\n \\nApplicability  of  the  Policy:  This  policy  applies  to  all  employees  of  AKAIWorks  LLP ,  including  \\nfull-time,\\n \\npart-time,\\n \\ntemporary,\\n \\nand\\n \\ncontract\\n \\nemployees,\\n \\nunless\\n \\notherwise\\n \\nstated.\\n \\nIn\\n \\nthe\\n \\ncase\\n \\nof\\n \\nany\\n \\ninconsistency\\n \\nbetween\\n \\nthis\\n \\npolicy\\n \\nand\\n \\napplicable\\n \\nlabor\\n \\nlaws,\\n \\nthe\\n \\nlegal\\n \\nprovisions\\n \\nwill\\n \\ntake\\n \\nprecedence.\\n \\nBy  clearly  defining  the  company's  leave  expectations  and  responsibilities,  we  aim  to  ensure  that  \\nemployees\\n \\nhave\\n \\nthe\", 'metadata': {'file_path': '/app/data/.cache/langflow/354908a6-5fe4-4fc8-ac41-3576737bdbb9/06b3e7ca-2178-4d28-9a49-e947fd8699b3.pdf'}, '$similarity': 0.8548459}\n",
      "[0.8542] {'_id': '243aed2fd8b949d1bdd1c3c68dc3fa84', 'page_content': '1.  Rehiring  of  Former  Employees:  ○  If  a  former  employee  is  rehired  by  AKAIWorks  LLP ,  the  treatment  of  their  \\nprevious\\n \\nleave\\n \\nbalances\\n \\nwill\\n \\nbe\\n \\ndecided\\n \\nbased\\n \\non\\n \\nthe\\n \\ncircumstances\\n \\nof\\n \\ntheir\\n \\nseparation.\\n \\nIf\\n \\nthe\\n \\nemployee\\n \\nresigned\\n \\nin\\n \\ngood\\n \\nstanding,\\n \\nunused\\n \\nleave\\n \\nmay\\n \\nbe\\n \\ncarried\\n \\nover,\\n \\nsubject\\n \\nto\\n \\nmanagement\\n \\napproval.\\n ○  If  the  employee  was  terminated  or  left  under  circumstances  where  leave  \\nencashment\\n \\nwas\\n \\nmade,\\n \\nthe\\n \\naccrued\\n \\nleave\\n \\nfrom\\n \\nthe\\n \\nprevious\\n \\nemployment\\n \\nperiod\\n \\nwill\\n \\nnot\\n \\nbe\\n \\nreinstated.\\n ○  Any  leave  accrued  during  the  period  of  reemployment  will  be  subject  to  the  \\nregular\\n \\nleave\\n \\naccrual\\n \\npolicies\\n \\nof\\n \\nthe\\n \\ncompany.\\n \\n \\n8.  Disciplinary  Actions  for  Leave  Violations  \\nAKAIWorks  LLP  recognizes  the  importance  of  maintaining  consistency  and  fairness  in  the  \\napplication\\n \\nof\\n \\nits\\n \\nleave\\n \\npolicies.\\n \\nWhile\\n \\nthe\\n \\ncompany\\n \\nvalues\\n \\nits\\n \\nemployees’', 'metadata': {'file_path': '/app/data/.cache/langflow/354908a6-5fe4-4fc8-ac41-3576737bdbb9/06b3e7ca-2178-4d28-9a49-e947fd8699b3.pdf'}, '$similarity': 0.8541963}\n",
      "[0.8529] {'_id': '9857e7c6bb3045cf8ead189d0f8fcf70', 'page_content': \"laws,\\n \\nthe\\n \\nlegal\\n \\nprovisions\\n \\nwill\\n \\ntake\\n \\nprecedence.\\n \\nBy  clearly  defining  the  company's  leave  expectations  and  responsibilities,  we  aim  to  ensure  that  \\nemployees\\n \\nhave\\n \\nthe\\n \\nflexibility\\n \\nto\\n \\nmanage\\n \\npersonal\\n \\nmatters\\n \\nand\\n \\nmaintain\\n \\ntheir\\n \\nwell-being,\\n \\nwhile\\n \\nalso\\n \\nensuring\\n \\nthat\\n \\nbusiness\\n \\nneeds\\n \\nare\\n \\nmet\\n \\nwith\\n \\nminimal\\n \\ndisruption.\\n \\n \\n2.  Scope  \\nThis  Employee  Leave  Policy  applies  to  all  employees  of  AKAIWorks  LLP ,  including  full-time,  \\npart-time,\\n \\ntemporary,\\n \\nand\\n \\ncontract\\n \\nemployees,\\n \\nunless\\n \\notherwise\\n \\nstated.\\n \\nIt\\n \\nprovides\\n \\nclear\\n \\nguidelines\\n \\non\\n \\nthe\\n \\ntypes\\n \\nof\\n \\nleave\\n \\navailable\\n \\nto\\n \\nemployees,\\n \\nthe\\n \\nprocess\\n \\nfor\\n \\nrequesting\\n \\nand\\n \\napproving\\n \\nleave,\\n \\nand\\n \\nthe\\n \\nexpectations\\n \\nof\\n \\nboth\\n \\nemployees\\n \\nand\\n \\nmanagement\\n \\nduring\\n \\nleave\\n \\nperiods.\\n \\n \\nEmployees  Covered:  \\n●  Full-time  Employees :  Employees  who  are  employed  on  a  permanent  basis  and  work  \\nthe\\n \\nstandard\\n \\nfull-time\", 'metadata': {'file_path': '/app/data/.cache/langflow/354908a6-5fe4-4fc8-ac41-3576737bdbb9/06b3e7ca-2178-4d28-9a49-e947fd8699b3.pdf'}, '$similarity': 0.8529217}\n",
      "[0.8529] {'_id': '7496d13752d0467882197c974d720a45', 'page_content': 'communicated\\n \\npromptly\\n \\nto\\n \\nall\\n \\nemployees,\\n \\nand\\n \\nwe\\n \\nwill\\n \\ntake\\n \\ninto\\n \\naccount\\n \\nemployee\\n \\nfeedback\\n \\nduring\\n \\nthe\\n \\nreview\\n \\nprocess.\\n \\nBy\\n \\nmaintaining\\n \\nan\\n \\nopen\\n \\ndialogue\\n \\nabout\\n \\nthe\\n \\npolicy\\n \\nand\\n \\nbeing\\n \\nflexible\\n \\nin\\n \\naddressing\\n \\nthe\\n \\ndiverse\\n \\nneeds\\n \\nof\\n \\nour\\n \\nworkforce,\\n \\nwe\\n \\naim\\n \\nto\\n \\ncreate\\n \\na\\n \\nsupportive\\n \\nenvironment\\n \\nfor\\n \\neveryone\\n \\nat\\n \\nAKAIWorks\\n \\nLLP\\n.\\n \\nEmployees  are  encouraged  to  familiarize  themselves  with  this  policy  and  take  full  advantage  of  \\ntheir\\n \\nleave\\n \\nentitlements\\n \\nto\\n \\nmaintain\\n \\na\\n \\nhealthy\\n \\nwork-life\\n \\nbalance.\\n \\nWe\\n \\nunderstand\\n \\nthat\\n \\nbalancing\\n \\nwork  and  personal  life  can  be  challenging,  but  by  respecting  the  guidelines  laid  out  in  this  policy,  \\nwe\\n \\ncan\\n \\nensure\\n \\nthat\\n \\nboth\\n \\nthe\\n \\ncompany\\n \\nand\\n \\nits\\n \\nemployees\\n \\nsucceed\\n \\nand\\n \\nthrive.\\n \\nBy  following  the  guidelines  in  this  Leave  Policy ,  employees  contribute  to  maintaining  a  \\nwell-structured\\n \\nand\\n \\nharmonious', 'metadata': {'file_path': '/app/data/.cache/langflow/354908a6-5fe4-4fc8-ac41-3576737bdbb9/06b3e7ca-2178-4d28-9a49-e947fd8699b3.pdf'}, '$similarity': 0.8528647}\u001b[00m\n",
      "\n",
      "\n",
      "\u001b[1m\u001b[95m# Agent:\u001b[00m \u001b[1m\u001b[92mAdvanced Reasoning AI Assistant\u001b[00m\n",
      "\u001b[95m## Final Answer:\u001b[00m \u001b[92m\n",
      "- [WEB]\n",
      "- [VECTOR]: Employee leave policy documents and guidelines for AKAIWorks LLP\n",
      "- [LLM]\u001b[00m\n",
      "\n",
      "\n",
      "\u001b[1m\u001b[95m# Agent:\u001b[00m \u001b[1m\u001b[92mAdvanced Reasoning AI Assistant\u001b[00m\n",
      "\u001b[95m## Task:\u001b[00m \u001b[92mRetrieve the relevant information based on your refined classification. Use the Serper tool for [WEB], the vector tool for [VECTOR], or internal LLM knowledge for [LLM]. Summarize each source's contribution. Output should look like:\n",
      "WEB: ...\n",
      "VECTOR: ...\n",
      "LLM: ...\u001b[00m\n",
      "\n",
      "\n",
      "\u001b[1m\u001b[95m# Agent:\u001b[00m \u001b[1m\u001b[92mAdvanced Reasoning AI Assistant\u001b[00m\n",
      "\u001b[95m## Thought:\u001b[00m \u001b[92mThought: I need to gather information from both the web and the internal vector store about employee leave policies, specifically for AKAIWorks LLP, to provide a comprehensive summary.\u001b[00m\n",
      "\u001b[95m## Using tool:\u001b[00m \u001b[92mSearch the internet with Serper\u001b[00m\n",
      "\u001b[95m## Tool Input:\u001b[00m \u001b[92m\n",
      "\"{\\\"search_query\\\": \\\"AKAIWorks LLP employee leave policy details\\\"}\"\u001b[00m\n",
      "\u001b[95m## Tool Output:\u001b[00m \u001b[92m\n",
      "{'searchParameters': {'q': 'AKAIWorks LLP employee leave policy details', 'type': 'search', 'num': 10, 'engine': 'google'}, 'organic': [], 'credits': 1}\u001b[00m\n",
      "\n",
      "\n",
      "\u001b[1m\u001b[95m# Agent:\u001b[00m \u001b[1m\u001b[92mAdvanced Reasoning AI Assistant\u001b[00m\n",
      "\u001b[95m## Thought:\u001b[00m \u001b[92mThought: The web search did not return relevant information about the employee leave policy for AKAIWorks LLP. I will now retrieve the information from the vector tool to get the specific leave policy details.\u001b[00m\n",
      "\u001b[95m## Using tool:\u001b[00m \u001b[92mVector Tool\u001b[00m\n",
      "\u001b[95m## Tool Input:\u001b[00m \u001b[92m\n",
      "\"{\\\"query\\\": \\\"Employee leave policy documents and guidelines for AKAIWorks LLP\\\"}\"\u001b[00m\n",
      "\u001b[95m## Tool Output:\u001b[00m \u001b[92m\n",
      "[0.8761] {'_id': '9857e7c6bb3045cf8ead189d0f8fcf70', 'page_content': \"laws,\\n \\nthe\\n \\nlegal\\n \\nprovisions\\n \\nwill\\n \\ntake\\n \\nprecedence.\\n \\nBy  clearly  defining  the  company's  leave  expectations  and  responsibilities,  we  aim  to  ensure  that  \\nemployees\\n \\nhave\\n \\nthe\\n \\nflexibility\\n \\nto\\n \\nmanage\\n \\npersonal\\n \\nmatters\\n \\nand\\n \\nmaintain\\n \\ntheir\\n \\nwell-being,\\n \\nwhile\\n \\nalso\\n \\nensuring\\n \\nthat\\n \\nbusiness\\n \\nneeds\\n \\nare\\n \\nmet\\n \\nwith\\n \\nminimal\\n \\ndisruption.\\n \\n \\n2.  Scope  \\nThis  Employee  Leave  Policy  applies  to  all  employees  of  AKAIWorks  LLP ,  including  full-time,  \\npart-time,\\n \\ntemporary,\\n \\nand\\n \\ncontract\\n \\nemployees,\\n \\nunless\\n \\notherwise\\n \\nstated.\\n \\nIt\\n \\nprovides\\n \\nclear\\n \\nguidelines\\n \\non\\n \\nthe\\n \\ntypes\\n \\nof\\n \\nleave\\n \\navailable\\n \\nto\\n \\nemployees,\\n \\nthe\\n \\nprocess\\n \\nfor\\n \\nrequesting\\n \\nand\\n \\napproving\\n \\nleave,\\n \\nand\\n \\nthe\\n \\nexpectations\\n \\nof\\n \\nboth\\n \\nemployees\\n \\nand\\n \\nmanagement\\n \\nduring\\n \\nleave\\n \\nperiods.\\n \\n \\nEmployees  Covered:  \\n●  Full-time  Employees :  Employees  who  are  employed  on  a  permanent  basis  and  work  \\nthe\\n \\nstandard\\n \\nfull-time\", 'metadata': {'file_path': '/app/data/.cache/langflow/354908a6-5fe4-4fc8-ac41-3576737bdbb9/06b3e7ca-2178-4d28-9a49-e947fd8699b3.pdf'}, '$similarity': 0.8760509}\n",
      "[0.8757] {'_id': '09efa3488fef438d9b6d3d0f8f17881f', 'page_content': '1.  Title  and  Introduction  \\nTitle:  Employee  Leave  Policy   \\nIntroduction:  \\nThe  Employee  Leave  Policy  of  AKAIWorks  LLP  is  designed  to  outline  the  procedures,  \\nexpectations,\\n \\nand\\n \\nentitlements\\n \\nregarding\\n \\ntime\\n \\noff\\n \\nfrom\\n \\nwork\\n \\nfor\\n \\nall\\n \\nemployees.\\n \\nThis\\n \\npolicy\\n \\nensures\\n \\nthat\\n \\nemployees\\n \\nhave\\n \\nthe\\n \\nopportunity\\n \\nto\\n \\ntake\\n \\nnecessary\\n \\nleave\\n \\nfor\\n \\npersonal,\\n \\nmedical,\\n \\nor\\n \\nfamily\\n \\nreasons\\n \\nwhile\\n \\nmaintaining\\n \\nthe\\n \\nsmooth\\n \\noperation\\n \\nof\\n \\nthe\\n \\norganization.\\n \\nIt\\n \\nis\\n \\nimportant\\n \\nthat\\n \\nall\\n \\nemployees\\n \\nunderstand\\n \\nand\\n \\nadhere\\n \\nto\\n \\nthe\\n \\nguidelines\\n \\nwithin\\n \\nthis\\n \\ndocument\\n \\nto\\n \\nfoster\\n \\na\\n \\nfair\\n \\nand\\n \\ntransparent\\n \\nprocess\\n \\nfor\\n \\nall\\n \\nparties\\n \\ninvolved.\\n \\nAt  AKAIWorks  LLP ,  we  recognize  the  importance  of  balancing  work  and  personal  life  and  strive  \\nto\\n \\nprovide\\n \\na\\n \\ncomprehensive\\n \\nleave\\n \\nprogram\\n \\nthat\\n \\nmeets\\n \\nthe\\n \\nneeds\\n \\nof\\n \\nour\\n \\nworkforce.\\n \\nWhether\\n \\nan\\n \\nemployee\\n \\nis\\n \\ntaking\\n \\ntime\\n \\noff', 'metadata': {'file_path': '/app/data/.cache/langflow/354908a6-5fe4-4fc8-ac41-3576737bdbb9/06b3e7ca-2178-4d28-9a49-e947fd8699b3.pdf'}, '$similarity': 0.8757466}\n",
      "[0.8736] {'_id': '7edc117796e240f6a9dec00ee30fbe2b', 'page_content': \"corresponding\\n \\neligibility\\n \\nrequirements.\\n ●  To  ensure  fair  and  consistent  administration  of  leave  across  the  organization.  \\n●  To  comply  with  relevant  legal  regulations  governing  employee  leave  rights.  ●  To  outline  the  procedures  and  documentation  required  for  leave  requests.  ●  To  foster  a  healthy  work-life  balance  for  employees  while  ensuring  that  company  \\noperations\\n \\ncontinue\\n \\nsmoothly\\n \\nduring\\n \\nperiods\\n \\nof\\n \\nemployee\\n \\nabsence.\\n \\nApplicability  of  the  Policy:  This  policy  applies  to  all  employees  of  AKAIWorks  LLP ,  including  \\nfull-time,\\n \\npart-time,\\n \\ntemporary,\\n \\nand\\n \\ncontract\\n \\nemployees,\\n \\nunless\\n \\notherwise\\n \\nstated.\\n \\nIn\\n \\nthe\\n \\ncase\\n \\nof\\n \\nany\\n \\ninconsistency\\n \\nbetween\\n \\nthis\\n \\npolicy\\n \\nand\\n \\napplicable\\n \\nlabor\\n \\nlaws,\\n \\nthe\\n \\nlegal\\n \\nprovisions\\n \\nwill\\n \\ntake\\n \\nprecedence.\\n \\nBy  clearly  defining  the  company's  leave  expectations  and  responsibilities,  we  aim  to  ensure  that  \\nemployees\\n \\nhave\\n \\nthe\", 'metadata': {'file_path': '/app/data/.cache/langflow/354908a6-5fe4-4fc8-ac41-3576737bdbb9/06b3e7ca-2178-4d28-9a49-e947fd8699b3.pdf'}, '$similarity': 0.8736055}\n",
      "[0.8656] {'_id': '59fff31dbb2649019d463753da48218b', 'page_content': 'the\\n \\nFactories\\n \\nAct,\\n \\n1948\\n,\\n \\nthe\\n \\nMaternity\\n \\nBenefit\\n \\nAct,\\n \\n1961\\n,\\n \\nand\\n \\nother\\n \\napplicable\\n \\nstate\\n \\nor\\n \\ncentral\\n \\nlaws.\\n \\nLeave\\n \\nrecords\\n \\nare\\n \\nmaintained\\n \\nto\\n \\nensure\\n \\ncompliance\\n \\nwith\\n \\nstatutory  regulations,  and  HR  will  submit  any  required  reports  to  regulatory  \\nauthorities\\n \\nas\\n \\nnecessary.\\n ○  HR  is  responsible  for  ensuring  that  all  leave  entitlements  are  accurately  \\ncalculated\\n \\nand\\n \\nreported\\n \\nin\\n \\ncompliance\\n \\nwith\\n \\nlegal\\n \\nrequirements,\\n \\nincluding\\n \\npaid\\n \\nleaves,\\n \\nsick\\n \\nleave,\\n \\nmaternity\\n \\nleave,\\n \\nand\\n \\nother\\n \\nstatutory\\n \\nleave.\\n \\n \\n12.  Conclusion  \\nAt  AKAIWorks  LLP ,  we  recognize  that  our  employees  are  our  greatest  asset,  and  we  are  \\ncommitted\\n \\nto\\n \\ncreating\\n \\na\\n \\nwork\\n \\nenvironment\\n \\nthat\\n \\npromotes\\n \\nboth\\n \\nproductivity\\n \\nand\\n \\npersonal\\n \\nwell-being.\\n \\nThe\\n \\nLeave\\n \\nPolicy\\n \\nhas\\n \\nbeen\\n \\ncarefully\\n \\ndesigned\\n \\nto\\n \\nensure\\n \\nthat\\n \\nall\\n \\nemployees\\n \\nhave\\n \\naccess\\n \\nto\\n \\nthe\\n \\nnecessary\\n \\nleave\\n \\nentitlements', 'metadata': {'file_path': '/app/data/.cache/langflow/354908a6-5fe4-4fc8-ac41-3576737bdbb9/06b3e7ca-2178-4d28-9a49-e947fd8699b3.pdf'}, '$similarity': 0.8656498}\n",
      "[0.8614] {'_id': '243aed2fd8b949d1bdd1c3c68dc3fa84', 'page_content': '1.  Rehiring  of  Former  Employees:  ○  If  a  former  employee  is  rehired  by  AKAIWorks  LLP ,  the  treatment  of  their  \\nprevious\\n \\nleave\\n \\nbalances\\n \\nwill\\n \\nbe\\n \\ndecided\\n \\nbased\\n \\non\\n \\nthe\\n \\ncircumstances\\n \\nof\\n \\ntheir\\n \\nseparation.\\n \\nIf\\n \\nthe\\n \\nemployee\\n \\nresigned\\n \\nin\\n \\ngood\\n \\nstanding,\\n \\nunused\\n \\nleave\\n \\nmay\\n \\nbe\\n \\ncarried\\n \\nover,\\n \\nsubject\\n \\nto\\n \\nmanagement\\n \\napproval.\\n ○  If  the  employee  was  terminated  or  left  under  circumstances  where  leave  \\nencashment\\n \\nwas\\n \\nmade,\\n \\nthe\\n \\naccrued\\n \\nleave\\n \\nfrom\\n \\nthe\\n \\nprevious\\n \\nemployment\\n \\nperiod\\n \\nwill\\n \\nnot\\n \\nbe\\n \\nreinstated.\\n ○  Any  leave  accrued  during  the  period  of  reemployment  will  be  subject  to  the  \\nregular\\n \\nleave\\n \\naccrual\\n \\npolicies\\n \\nof\\n \\nthe\\n \\ncompany.\\n \\n \\n8.  Disciplinary  Actions  for  Leave  Violations  \\nAKAIWorks  LLP  recognizes  the  importance  of  maintaining  consistency  and  fairness  in  the  \\napplication\\n \\nof\\n \\nits\\n \\nleave\\n \\npolicies.\\n \\nWhile\\n \\nthe\\n \\ncompany\\n \\nvalues\\n \\nits\\n \\nemployees’', 'metadata': {'file_path': '/app/data/.cache/langflow/354908a6-5fe4-4fc8-ac41-3576737bdbb9/06b3e7ca-2178-4d28-9a49-e947fd8699b3.pdf'}, '$similarity': 0.8614427}\u001b[00m\n",
      "\n",
      "\n",
      "\u001b[1m\u001b[95m# Agent:\u001b[00m \u001b[1m\u001b[92mAdvanced Reasoning AI Assistant\u001b[00m\n",
      "\u001b[95m## Final Answer:\u001b[00m \u001b[92m\n",
      "{\n",
      "  \"WEB\": \"No relevant information was found on the web regarding AKAIWorks LLP employee leave policy.\",\n",
      "  \"VECTOR\": [\n",
      "    {\n",
      "      \"content\": \"The Employee Leave Policy of AKAIWorks LLP is designed to outline the procedures, expectations, and entitlements regarding time off from work for all employees. This policy ensures that employees have the opportunity to take necessary leave for personal, medical, or family reasons while maintaining the smooth operation of the organization.\",\n",
      "      \"scope\": \"This policy applies to all employees of AKAIWorks LLP, including full-time, part\u001b[00m\n",
      "\n",
      "\n",
      "\u001b[1m\u001b[95m# Agent:\u001b[00m \u001b[1m\u001b[92mAdvanced Reasoning AI Assistant\u001b[00m\n",
      "\u001b[95m## Task:\u001b[00m \u001b[92mYou've gathered data from one or more sources. Combine the information into a coherent, unified summary. Resolve contradictions, emphasize relevance, and organize the content logically.\u001b[00m\n",
      "\n",
      "\n",
      "\u001b[1m\u001b[95m# Agent:\u001b[00m \u001b[1m\u001b[92mAdvanced Reasoning AI Assistant\u001b[00m\n",
      "\u001b[95m## Thought:\u001b[00m \u001b[92mI need to gather comprehensive information about the employee leave policy for AKAIWorks LLP to create a unified summary.\u001b[00m\n",
      "\u001b[95m## Using tool:\u001b[00m \u001b[92mVector Tool\u001b[00m\n",
      "\u001b[95m## Tool Input:\u001b[00m \u001b[92m\n",
      "\"{\\\"query\\\": \\\"Employee leave policy of AKAIWorks LLP\\\"}\"\u001b[00m\n",
      "\u001b[95m## Tool Output:\u001b[00m \u001b[92m\n",
      "[0.8685] {'_id': '7edc117796e240f6a9dec00ee30fbe2b', 'page_content': \"corresponding\\n \\neligibility\\n \\nrequirements.\\n ●  To  ensure  fair  and  consistent  administration  of  leave  across  the  organization.  \\n●  To  comply  with  relevant  legal  regulations  governing  employee  leave  rights.  ●  To  outline  the  procedures  and  documentation  required  for  leave  requests.  ●  To  foster  a  healthy  work-life  balance  for  employees  while  ensuring  that  company  \\noperations\\n \\ncontinue\\n \\nsmoothly\\n \\nduring\\n \\nperiods\\n \\nof\\n \\nemployee\\n \\nabsence.\\n \\nApplicability  of  the  Policy:  This  policy  applies  to  all  employees  of  AKAIWorks  LLP ,  including  \\nfull-time,\\n \\npart-time,\\n \\ntemporary,\\n \\nand\\n \\ncontract\\n \\nemployees,\\n \\nunless\\n \\notherwise\\n \\nstated.\\n \\nIn\\n \\nthe\\n \\ncase\\n \\nof\\n \\nany\\n \\ninconsistency\\n \\nbetween\\n \\nthis\\n \\npolicy\\n \\nand\\n \\napplicable\\n \\nlabor\\n \\nlaws,\\n \\nthe\\n \\nlegal\\n \\nprovisions\\n \\nwill\\n \\ntake\\n \\nprecedence.\\n \\nBy  clearly  defining  the  company's  leave  expectations  and  responsibilities,  we  aim  to  ensure  that  \\nemployees\\n \\nhave\\n \\nthe\", 'metadata': {'file_path': '/app/data/.cache/langflow/354908a6-5fe4-4fc8-ac41-3576737bdbb9/06b3e7ca-2178-4d28-9a49-e947fd8699b3.pdf'}, '$similarity': 0.86847353}\n",
      "[0.8680] {'_id': '9857e7c6bb3045cf8ead189d0f8fcf70', 'page_content': \"laws,\\n \\nthe\\n \\nlegal\\n \\nprovisions\\n \\nwill\\n \\ntake\\n \\nprecedence.\\n \\nBy  clearly  defining  the  company's  leave  expectations  and  responsibilities,  we  aim  to  ensure  that  \\nemployees\\n \\nhave\\n \\nthe\\n \\nflexibility\\n \\nto\\n \\nmanage\\n \\npersonal\\n \\nmatters\\n \\nand\\n \\nmaintain\\n \\ntheir\\n \\nwell-being,\\n \\nwhile\\n \\nalso\\n \\nensuring\\n \\nthat\\n \\nbusiness\\n \\nneeds\\n \\nare\\n \\nmet\\n \\nwith\\n \\nminimal\\n \\ndisruption.\\n \\n \\n2.  Scope  \\nThis  Employee  Leave  Policy  applies  to  all  employees  of  AKAIWorks  LLP ,  including  full-time,  \\npart-time,\\n \\ntemporary,\\n \\nand\\n \\ncontract\\n \\nemployees,\\n \\nunless\\n \\notherwise\\n \\nstated.\\n \\nIt\\n \\nprovides\\n \\nclear\\n \\nguidelines\\n \\non\\n \\nthe\\n \\ntypes\\n \\nof\\n \\nleave\\n \\navailable\\n \\nto\\n \\nemployees,\\n \\nthe\\n \\nprocess\\n \\nfor\\n \\nrequesting\\n \\nand\\n \\napproving\\n \\nleave,\\n \\nand\\n \\nthe\\n \\nexpectations\\n \\nof\\n \\nboth\\n \\nemployees\\n \\nand\\n \\nmanagement\\n \\nduring\\n \\nleave\\n \\nperiods.\\n \\n \\nEmployees  Covered:  \\n●  Full-time  Employees :  Employees  who  are  employed  on  a  permanent  basis  and  work  \\nthe\\n \\nstandard\\n \\nfull-time\", 'metadata': {'file_path': '/app/data/.cache/langflow/354908a6-5fe4-4fc8-ac41-3576737bdbb9/06b3e7ca-2178-4d28-9a49-e947fd8699b3.pdf'}, '$similarity': 0.8680066}\n",
      "[0.8660] {'_id': '09efa3488fef438d9b6d3d0f8f17881f', 'page_content': '1.  Title  and  Introduction  \\nTitle:  Employee  Leave  Policy   \\nIntroduction:  \\nThe  Employee  Leave  Policy  of  AKAIWorks  LLP  is  designed  to  outline  the  procedures,  \\nexpectations,\\n \\nand\\n \\nentitlements\\n \\nregarding\\n \\ntime\\n \\noff\\n \\nfrom\\n \\nwork\\n \\nfor\\n \\nall\\n \\nemployees.\\n \\nThis\\n \\npolicy\\n \\nensures\\n \\nthat\\n \\nemployees\\n \\nhave\\n \\nthe\\n \\nopportunity\\n \\nto\\n \\ntake\\n \\nnecessary\\n \\nleave\\n \\nfor\\n \\npersonal,\\n \\nmedical,\\n \\nor\\n \\nfamily\\n \\nreasons\\n \\nwhile\\n \\nmaintaining\\n \\nthe\\n \\nsmooth\\n \\noperation\\n \\nof\\n \\nthe\\n \\norganization.\\n \\nIt\\n \\nis\\n \\nimportant\\n \\nthat\\n \\nall\\n \\nemployees\\n \\nunderstand\\n \\nand\\n \\nadhere\\n \\nto\\n \\nthe\\n \\nguidelines\\n \\nwithin\\n \\nthis\\n \\ndocument\\n \\nto\\n \\nfoster\\n \\na\\n \\nfair\\n \\nand\\n \\ntransparent\\n \\nprocess\\n \\nfor\\n \\nall\\n \\nparties\\n \\ninvolved.\\n \\nAt  AKAIWorks  LLP ,  we  recognize  the  importance  of  balancing  work  and  personal  life  and  strive  \\nto\\n \\nprovide\\n \\na\\n \\ncomprehensive\\n \\nleave\\n \\nprogram\\n \\nthat\\n \\nmeets\\n \\nthe\\n \\nneeds\\n \\nof\\n \\nour\\n \\nworkforce.\\n \\nWhether\\n \\nan\\n \\nemployee\\n \\nis\\n \\ntaking\\n \\ntime\\n \\noff', 'metadata': {'file_path': '/app/data/.cache/langflow/354908a6-5fe4-4fc8-ac41-3576737bdbb9/06b3e7ca-2178-4d28-9a49-e947fd8699b3.pdf'}, '$similarity': 0.8660029}\n",
      "[0.8642] {'_id': '243aed2fd8b949d1bdd1c3c68dc3fa84', 'page_content': '1.  Rehiring  of  Former  Employees:  ○  If  a  former  employee  is  rehired  by  AKAIWorks  LLP ,  the  treatment  of  their  \\nprevious\\n \\nleave\\n \\nbalances\\n \\nwill\\n \\nbe\\n \\ndecided\\n \\nbased\\n \\non\\n \\nthe\\n \\ncircumstances\\n \\nof\\n \\ntheir\\n \\nseparation.\\n \\nIf\\n \\nthe\\n \\nemployee\\n \\nresigned\\n \\nin\\n \\ngood\\n \\nstanding,\\n \\nunused\\n \\nleave\\n \\nmay\\n \\nbe\\n \\ncarried\\n \\nover,\\n \\nsubject\\n \\nto\\n \\nmanagement\\n \\napproval.\\n ○  If  the  employee  was  terminated  or  left  under  circumstances  where  leave  \\nencashment\\n \\nwas\\n \\nmade,\\n \\nthe\\n \\naccrued\\n \\nleave\\n \\nfrom\\n \\nthe\\n \\nprevious\\n \\nemployment\\n \\nperiod\\n \\nwill\\n \\nnot\\n \\nbe\\n \\nreinstated.\\n ○  Any  leave  accrued  during  the  period  of  reemployment  will  be  subject  to  the  \\nregular\\n \\nleave\\n \\naccrual\\n \\npolicies\\n \\nof\\n \\nthe\\n \\ncompany.\\n \\n \\n8.  Disciplinary  Actions  for  Leave  Violations  \\nAKAIWorks  LLP  recognizes  the  importance  of  maintaining  consistency  and  fairness  in  the  \\napplication\\n \\nof\\n \\nits\\n \\nleave\\n \\npolicies.\\n \\nWhile\\n \\nthe\\n \\ncompany\\n \\nvalues\\n \\nits\\n \\nemployees’', 'metadata': {'file_path': '/app/data/.cache/langflow/354908a6-5fe4-4fc8-ac41-3576737bdbb9/06b3e7ca-2178-4d28-9a49-e947fd8699b3.pdf'}, '$similarity': 0.86423117}\n",
      "[0.8589] {'_id': '59fff31dbb2649019d463753da48218b', 'page_content': 'the\\n \\nFactories\\n \\nAct,\\n \\n1948\\n,\\n \\nthe\\n \\nMaternity\\n \\nBenefit\\n \\nAct,\\n \\n1961\\n,\\n \\nand\\n \\nother\\n \\napplicable\\n \\nstate\\n \\nor\\n \\ncentral\\n \\nlaws.\\n \\nLeave\\n \\nrecords\\n \\nare\\n \\nmaintained\\n \\nto\\n \\nensure\\n \\ncompliance\\n \\nwith\\n \\nstatutory  regulations,  and  HR  will  submit  any  required  reports  to  regulatory  \\nauthorities\\n \\nas\\n \\nnecessary.\\n ○  HR  is  responsible  for  ensuring  that  all  leave  entitlements  are  accurately  \\ncalculated\\n \\nand\\n \\nreported\\n \\nin\\n \\ncompliance\\n \\nwith\\n \\nlegal\\n \\nrequirements,\\n \\nincluding\\n \\npaid\\n \\nleaves,\\n \\nsick\\n \\nleave,\\n \\nmaternity\\n \\nleave,\\n \\nand\\n \\nother\\n \\nstatutory\\n \\nleave.\\n \\n \\n12.  Conclusion  \\nAt  AKAIWorks  LLP ,  we  recognize  that  our  employees  are  our  greatest  asset,  and  we  are  \\ncommitted\\n \\nto\\n \\ncreating\\n \\na\\n \\nwork\\n \\nenvironment\\n \\nthat\\n \\npromotes\\n \\nboth\\n \\nproductivity\\n \\nand\\n \\npersonal\\n \\nwell-being.\\n \\nThe\\n \\nLeave\\n \\nPolicy\\n \\nhas\\n \\nbeen\\n \\ncarefully\\n \\ndesigned\\n \\nto\\n \\nensure\\n \\nthat\\n \\nall\\n \\nemployees\\n \\nhave\\n \\naccess\\n \\nto\\n \\nthe\\n \\nnecessary\\n \\nleave\\n \\nentitlements', 'metadata': {'file_path': '/app/data/.cache/langflow/354908a6-5fe4-4fc8-ac41-3576737bdbb9/06b3e7ca-2178-4d28-9a49-e947fd8699b3.pdf'}, '$similarity': 0.8588696}\u001b[00m\n",
      "\n",
      "\n",
      "\u001b[1m\u001b[95m# Agent:\u001b[00m \u001b[1m\u001b[92mAdvanced Reasoning AI Assistant\u001b[00m\n",
      "\u001b[95m## Final Answer:\u001b[00m \u001b[92m\n",
      "The Employee Leave Policy of AKAIWorks LLP is a comprehensive framework designed to ensure that all employees can take necessary time off for personal, medical, or family reasons while maintaining the organization's operational integrity. This policy applies to all employees, including full-time, part-time, temporary, and contract workers.\n",
      "\n",
      "### Key Aspects of the Leave Policy:\n",
      "\n",
      "1. **Purpose**: The policy aims to provide clear procedures, expectations, and entitlements related to time off work. It emphasizes the importance of balancing work and personal life, allowing employees to manage their well-being effectively while ensuring business needs are met with minimal disruption.\n",
      "\n",
      "2. **Types of Leave**: Employees are entitled to various types of\u001b[00m\n",
      "\n",
      "\n",
      "\u001b[1m\u001b[95m# Agent:\u001b[00m \u001b[1m\u001b[92mAdvanced Reasoning AI Assistant\u001b[00m\n",
      "\u001b[95m## Task:\u001b[00m \u001b[92mWrite the final response to the original query: 'How many leaves can the employees take?'. Make it helpful, complete, and readable. At the end, note which sources were used.\u001b[00m\n",
      "\n",
      "\n",
      "\u001b[1m\u001b[95m# Agent:\u001b[00m \u001b[1m\u001b[92mAdvanced Reasoning AI Assistant\u001b[00m\n",
      "\u001b[95m## Thought:\u001b[00m \u001b[92mI need to retrieve the specific details about the number of leaves employees can take at AKAIWorks LLP, which are likely outlined in the employee leave policy.\u001b[00m\n",
      "\u001b[95m## Using tool:\u001b[00m \u001b[92mVector Tool\u001b[00m\n",
      "\u001b[95m## Tool Input:\u001b[00m \u001b[92m\n",
      "\"{\\\"query\\\": \\\"employee leave policy AKAIWorks LLP\\\"}\"\u001b[00m\n",
      "\u001b[95m## Tool Output:\u001b[00m \u001b[92m\n",
      "[0.8680] {'_id': '9857e7c6bb3045cf8ead189d0f8fcf70', 'page_content': \"laws,\\n \\nthe\\n \\nlegal\\n \\nprovisions\\n \\nwill\\n \\ntake\\n \\nprecedence.\\n \\nBy  clearly  defining  the  company's  leave  expectations  and  responsibilities,  we  aim  to  ensure  that  \\nemployees\\n \\nhave\\n \\nthe\\n \\nflexibility\\n \\nto\\n \\nmanage\\n \\npersonal\\n \\nmatters\\n \\nand\\n \\nmaintain\\n \\ntheir\\n \\nwell-being,\\n \\nwhile\\n \\nalso\\n \\nensuring\\n \\nthat\\n \\nbusiness\\n \\nneeds\\n \\nare\\n \\nmet\\n \\nwith\\n \\nminimal\\n \\ndisruption.\\n \\n \\n2.  Scope  \\nThis  Employee  Leave  Policy  applies  to  all  employees  of  AKAIWorks  LLP ,  including  full-time,  \\npart-time,\\n \\ntemporary,\\n \\nand\\n \\ncontract\\n \\nemployees,\\n \\nunless\\n \\notherwise\\n \\nstated.\\n \\nIt\\n \\nprovides\\n \\nclear\\n \\nguidelines\\n \\non\\n \\nthe\\n \\ntypes\\n \\nof\\n \\nleave\\n \\navailable\\n \\nto\\n \\nemployees,\\n \\nthe\\n \\nprocess\\n \\nfor\\n \\nrequesting\\n \\nand\\n \\napproving\\n \\nleave,\\n \\nand\\n \\nthe\\n \\nexpectations\\n \\nof\\n \\nboth\\n \\nemployees\\n \\nand\\n \\nmanagement\\n \\nduring\\n \\nleave\\n \\nperiods.\\n \\n \\nEmployees  Covered:  \\n●  Full-time  Employees :  Employees  who  are  employed  on  a  permanent  basis  and  work  \\nthe\\n \\nstandard\\n \\nfull-time\", 'metadata': {'file_path': '/app/data/.cache/langflow/354908a6-5fe4-4fc8-ac41-3576737bdbb9/06b3e7ca-2178-4d28-9a49-e947fd8699b3.pdf'}, '$similarity': 0.86795056}\n",
      "[0.8678] {'_id': '7edc117796e240f6a9dec00ee30fbe2b', 'page_content': \"corresponding\\n \\neligibility\\n \\nrequirements.\\n ●  To  ensure  fair  and  consistent  administration  of  leave  across  the  organization.  \\n●  To  comply  with  relevant  legal  regulations  governing  employee  leave  rights.  ●  To  outline  the  procedures  and  documentation  required  for  leave  requests.  ●  To  foster  a  healthy  work-life  balance  for  employees  while  ensuring  that  company  \\noperations\\n \\ncontinue\\n \\nsmoothly\\n \\nduring\\n \\nperiods\\n \\nof\\n \\nemployee\\n \\nabsence.\\n \\nApplicability  of  the  Policy:  This  policy  applies  to  all  employees  of  AKAIWorks  LLP ,  including  \\nfull-time,\\n \\npart-time,\\n \\ntemporary,\\n \\nand\\n \\ncontract\\n \\nemployees,\\n \\nunless\\n \\notherwise\\n \\nstated.\\n \\nIn\\n \\nthe\\n \\ncase\\n \\nof\\n \\nany\\n \\ninconsistency\\n \\nbetween\\n \\nthis\\n \\npolicy\\n \\nand\\n \\napplicable\\n \\nlabor\\n \\nlaws,\\n \\nthe\\n \\nlegal\\n \\nprovisions\\n \\nwill\\n \\ntake\\n \\nprecedence.\\n \\nBy  clearly  defining  the  company's  leave  expectations  and  responsibilities,  we  aim  to  ensure  that  \\nemployees\\n \\nhave\\n \\nthe\", 'metadata': {'file_path': '/app/data/.cache/langflow/354908a6-5fe4-4fc8-ac41-3576737bdbb9/06b3e7ca-2178-4d28-9a49-e947fd8699b3.pdf'}, '$similarity': 0.8677987}\n",
      "[0.8664] {'_id': '09efa3488fef438d9b6d3d0f8f17881f', 'page_content': '1.  Title  and  Introduction  \\nTitle:  Employee  Leave  Policy   \\nIntroduction:  \\nThe  Employee  Leave  Policy  of  AKAIWorks  LLP  is  designed  to  outline  the  procedures,  \\nexpectations,\\n \\nand\\n \\nentitlements\\n \\nregarding\\n \\ntime\\n \\noff\\n \\nfrom\\n \\nwork\\n \\nfor\\n \\nall\\n \\nemployees.\\n \\nThis\\n \\npolicy\\n \\nensures\\n \\nthat\\n \\nemployees\\n \\nhave\\n \\nthe\\n \\nopportunity\\n \\nto\\n \\ntake\\n \\nnecessary\\n \\nleave\\n \\nfor\\n \\npersonal,\\n \\nmedical,\\n \\nor\\n \\nfamily\\n \\nreasons\\n \\nwhile\\n \\nmaintaining\\n \\nthe\\n \\nsmooth\\n \\noperation\\n \\nof\\n \\nthe\\n \\norganization.\\n \\nIt\\n \\nis\\n \\nimportant\\n \\nthat\\n \\nall\\n \\nemployees\\n \\nunderstand\\n \\nand\\n \\nadhere\\n \\nto\\n \\nthe\\n \\nguidelines\\n \\nwithin\\n \\nthis\\n \\ndocument\\n \\nto\\n \\nfoster\\n \\na\\n \\nfair\\n \\nand\\n \\ntransparent\\n \\nprocess\\n \\nfor\\n \\nall\\n \\nparties\\n \\ninvolved.\\n \\nAt  AKAIWorks  LLP ,  we  recognize  the  importance  of  balancing  work  and  personal  life  and  strive  \\nto\\n \\nprovide\\n \\na\\n \\ncomprehensive\\n \\nleave\\n \\nprogram\\n \\nthat\\n \\nmeets\\n \\nthe\\n \\nneeds\\n \\nof\\n \\nour\\n \\nworkforce.\\n \\nWhether\\n \\nan\\n \\nemployee\\n \\nis\\n \\ntaking\\n \\ntime\\n \\noff', 'metadata': {'file_path': '/app/data/.cache/langflow/354908a6-5fe4-4fc8-ac41-3576737bdbb9/06b3e7ca-2178-4d28-9a49-e947fd8699b3.pdf'}, '$similarity': 0.86644083}\n",
      "[0.8595] {'_id': '243aed2fd8b949d1bdd1c3c68dc3fa84', 'page_content': '1.  Rehiring  of  Former  Employees:  ○  If  a  former  employee  is  rehired  by  AKAIWorks  LLP ,  the  treatment  of  their  \\nprevious\\n \\nleave\\n \\nbalances\\n \\nwill\\n \\nbe\\n \\ndecided\\n \\nbased\\n \\non\\n \\nthe\\n \\ncircumstances\\n \\nof\\n \\ntheir\\n \\nseparation.\\n \\nIf\\n \\nthe\\n \\nemployee\\n \\nresigned\\n \\nin\\n \\ngood\\n \\nstanding,\\n \\nunused\\n \\nleave\\n \\nmay\\n \\nbe\\n \\ncarried\\n \\nover,\\n \\nsubject\\n \\nto\\n \\nmanagement\\n \\napproval.\\n ○  If  the  employee  was  terminated  or  left  under  circumstances  where  leave  \\nencashment\\n \\nwas\\n \\nmade,\\n \\nthe\\n \\naccrued\\n \\nleave\\n \\nfrom\\n \\nthe\\n \\nprevious\\n \\nemployment\\n \\nperiod\\n \\nwill\\n \\nnot\\n \\nbe\\n \\nreinstated.\\n ○  Any  leave  accrued  during  the  period  of  reemployment  will  be  subject  to  the  \\nregular\\n \\nleave\\n \\naccrual\\n \\npolicies\\n \\nof\\n \\nthe\\n \\ncompany.\\n \\n \\n8.  Disciplinary  Actions  for  Leave  Violations  \\nAKAIWorks  LLP  recognizes  the  importance  of  maintaining  consistency  and  fairness  in  the  \\napplication\\n \\nof\\n \\nits\\n \\nleave\\n \\npolicies.\\n \\nWhile\\n \\nthe\\n \\ncompany\\n \\nvalues\\n \\nits\\n \\nemployees’', 'metadata': {'file_path': '/app/data/.cache/langflow/354908a6-5fe4-4fc8-ac41-3576737bdbb9/06b3e7ca-2178-4d28-9a49-e947fd8699b3.pdf'}, '$similarity': 0.8594887}\n",
      "[0.8572] {'_id': '59fff31dbb2649019d463753da48218b', 'page_content': 'the\\n \\nFactories\\n \\nAct,\\n \\n1948\\n,\\n \\nthe\\n \\nMaternity\\n \\nBenefit\\n \\nAct,\\n \\n1961\\n,\\n \\nand\\n \\nother\\n \\napplicable\\n \\nstate\\n \\nor\\n \\ncentral\\n \\nlaws.\\n \\nLeave\\n \\nrecords\\n \\nare\\n \\nmaintained\\n \\nto\\n \\nensure\\n \\ncompliance\\n \\nwith\\n \\nstatutory  regulations,  and  HR  will  submit  any  required  reports  to  regulatory  \\nauthorities\\n \\nas\\n \\nnecessary.\\n ○  HR  is  responsible  for  ensuring  that  all  leave  entitlements  are  accurately  \\ncalculated\\n \\nand\\n \\nreported\\n \\nin\\n \\ncompliance\\n \\nwith\\n \\nlegal\\n \\nrequirements,\\n \\nincluding\\n \\npaid\\n \\nleaves,\\n \\nsick\\n \\nleave,\\n \\nmaternity\\n \\nleave,\\n \\nand\\n \\nother\\n \\nstatutory\\n \\nleave.\\n \\n \\n12.  Conclusion  \\nAt  AKAIWorks  LLP ,  we  recognize  that  our  employees  are  our  greatest  asset,  and  we  are  \\ncommitted\\n \\nto\\n \\ncreating\\n \\na\\n \\nwork\\n \\nenvironment\\n \\nthat\\n \\npromotes\\n \\nboth\\n \\nproductivity\\n \\nand\\n \\npersonal\\n \\nwell-being.\\n \\nThe\\n \\nLeave\\n \\nPolicy\\n \\nhas\\n \\nbeen\\n \\ncarefully\\n \\ndesigned\\n \\nto\\n \\nensure\\n \\nthat\\n \\nall\\n \\nemployees\\n \\nhave\\n \\naccess\\n \\nto\\n \\nthe\\n \\nnecessary\\n \\nleave\\n \\nentitlements', 'metadata': {'file_path': '/app/data/.cache/langflow/354908a6-5fe4-4fc8-ac41-3576737bdbb9/06b3e7ca-2178-4d28-9a49-e947fd8699b3.pdf'}, '$similarity': 0.85718334}\u001b[00m\n",
      "\n",
      "\n",
      "\u001b[1m\u001b[95m# Agent:\u001b[00m \u001b[1m\u001b[92mAdvanced Reasoning AI Assistant\u001b[00m\n",
      "\u001b[95m## Final Answer:\u001b[00m \u001b[92m\n",
      "Employees of AKAIWorks LLP are entitled to various types of leave, including personal, medical, and family leave. The specific number of leaves may vary based on the type of leave and the employee's position within the company. The leave policy is designed to balance employees' needs for time off with the operational requirements of the organization. Employees are encouraged to review the company's leave policy thoroughly for detailed entitlements, as it outlines the specific guidelines on accrual and usage of leaves.\n",
      "\n",
      "Sources used: AKAIWorks LLP Employee Leave Policy documents.\u001b[00m\n",
      "\n",
      "\n",
      "\u001b[1m\u001b[95m# Agent:\u001b[00m \u001b[1m\u001b[92mAdvanced Reasoning AI Assistant\u001b[00m\n",
      "\u001b[95m## Task:\u001b[00m \u001b[92mEvaluate your final answer. If it's longer than 300 words or contains valuable insights, write it to a file named 'response.md' in markdown format. Include the query and answer. If it’s not important enough, skip saving. In either case, return a message saying what happened.\u001b[00m\n",
      "\n",
      "\n",
      "\u001b[1m\u001b[95m# Agent:\u001b[00m \u001b[1m\u001b[92mAdvanced Reasoning AI Assistant\u001b[00m\n",
      "\u001b[95m## Thought:\u001b[00m \u001b[92mI need to gather detailed information about the employee leave policy of AKAIWorks LLP to provide a comprehensive final answer.\u001b[00m\n",
      "\u001b[95m## Using tool:\u001b[00m \u001b[92mVector Tool\u001b[00m\n",
      "\u001b[95m## Tool Input:\u001b[00m \u001b[92m\n",
      "\"{\\\"query\\\": \\\"Employee leave policy of AKAIWorks LLP\\\"}\"\u001b[00m\n",
      "\u001b[95m## Tool Output:\u001b[00m \u001b[92m\n",
      "[0.8685] {'_id': '7edc117796e240f6a9dec00ee30fbe2b', 'page_content': \"corresponding\\n \\neligibility\\n \\nrequirements.\\n ●  To  ensure  fair  and  consistent  administration  of  leave  across  the  organization.  \\n●  To  comply  with  relevant  legal  regulations  governing  employee  leave  rights.  ●  To  outline  the  procedures  and  documentation  required  for  leave  requests.  ●  To  foster  a  healthy  work-life  balance  for  employees  while  ensuring  that  company  \\noperations\\n \\ncontinue\\n \\nsmoothly\\n \\nduring\\n \\nperiods\\n \\nof\\n \\nemployee\\n \\nabsence.\\n \\nApplicability  of  the  Policy:  This  policy  applies  to  all  employees  of  AKAIWorks  LLP ,  including  \\nfull-time,\\n \\npart-time,\\n \\ntemporary,\\n \\nand\\n \\ncontract\\n \\nemployees,\\n \\nunless\\n \\notherwise\\n \\nstated.\\n \\nIn\\n \\nthe\\n \\ncase\\n \\nof\\n \\nany\\n \\ninconsistency\\n \\nbetween\\n \\nthis\\n \\npolicy\\n \\nand\\n \\napplicable\\n \\nlabor\\n \\nlaws,\\n \\nthe\\n \\nlegal\\n \\nprovisions\\n \\nwill\\n \\ntake\\n \\nprecedence.\\n \\nBy  clearly  defining  the  company's  leave  expectations  and  responsibilities,  we  aim  to  ensure  that  \\nemployees\\n \\nhave\\n \\nthe\", 'metadata': {'file_path': '/app/data/.cache/langflow/354908a6-5fe4-4fc8-ac41-3576737bdbb9/06b3e7ca-2178-4d28-9a49-e947fd8699b3.pdf'}, '$similarity': 0.86847353}\n",
      "[0.8680] {'_id': '9857e7c6bb3045cf8ead189d0f8fcf70', 'page_content': \"laws,\\n \\nthe\\n \\nlegal\\n \\nprovisions\\n \\nwill\\n \\ntake\\n \\nprecedence.\\n \\nBy  clearly  defining  the  company's  leave  expectations  and  responsibilities,  we  aim  to  ensure  that  \\nemployees\\n \\nhave\\n \\nthe\\n \\nflexibility\\n \\nto\\n \\nmanage\\n \\npersonal\\n \\nmatters\\n \\nand\\n \\nmaintain\\n \\ntheir\\n \\nwell-being,\\n \\nwhile\\n \\nalso\\n \\nensuring\\n \\nthat\\n \\nbusiness\\n \\nneeds\\n \\nare\\n \\nmet\\n \\nwith\\n \\nminimal\\n \\ndisruption.\\n \\n \\n2.  Scope  \\nThis  Employee  Leave  Policy  applies  to  all  employees  of  AKAIWorks  LLP ,  including  full-time,  \\npart-time,\\n \\ntemporary,\\n \\nand\\n \\ncontract\\n \\nemployees,\\n \\nunless\\n \\notherwise\\n \\nstated.\\n \\nIt\\n \\nprovides\\n \\nclear\\n \\nguidelines\\n \\non\\n \\nthe\\n \\ntypes\\n \\nof\\n \\nleave\\n \\navailable\\n \\nto\\n \\nemployees,\\n \\nthe\\n \\nprocess\\n \\nfor\\n \\nrequesting\\n \\nand\\n \\napproving\\n \\nleave,\\n \\nand\\n \\nthe\\n \\nexpectations\\n \\nof\\n \\nboth\\n \\nemployees\\n \\nand\\n \\nmanagement\\n \\nduring\\n \\nleave\\n \\nperiods.\\n \\n \\nEmployees  Covered:  \\n●  Full-time  Employees :  Employees  who  are  employed  on  a  permanent  basis  and  work  \\nthe\\n \\nstandard\\n \\nfull-time\", 'metadata': {'file_path': '/app/data/.cache/langflow/354908a6-5fe4-4fc8-ac41-3576737bdbb9/06b3e7ca-2178-4d28-9a49-e947fd8699b3.pdf'}, '$similarity': 0.8680066}\n",
      "[0.8660] {'_id': '09efa3488fef438d9b6d3d0f8f17881f', 'page_content': '1.  Title  and  Introduction  \\nTitle:  Employee  Leave  Policy   \\nIntroduction:  \\nThe  Employee  Leave  Policy  of  AKAIWorks  LLP  is  designed  to  outline  the  procedures,  \\nexpectations,\\n \\nand\\n \\nentitlements\\n \\nregarding\\n \\ntime\\n \\noff\\n \\nfrom\\n \\nwork\\n \\nfor\\n \\nall\\n \\nemployees.\\n \\nThis\\n \\npolicy\\n \\nensures\\n \\nthat\\n \\nemployees\\n \\nhave\\n \\nthe\\n \\nopportunity\\n \\nto\\n \\ntake\\n \\nnecessary\\n \\nleave\\n \\nfor\\n \\npersonal,\\n \\nmedical,\\n \\nor\\n \\nfamily\\n \\nreasons\\n \\nwhile\\n \\nmaintaining\\n \\nthe\\n \\nsmooth\\n \\noperation\\n \\nof\\n \\nthe\\n \\norganization.\\n \\nIt\\n \\nis\\n \\nimportant\\n \\nthat\\n \\nall\\n \\nemployees\\n \\nunderstand\\n \\nand\\n \\nadhere\\n \\nto\\n \\nthe\\n \\nguidelines\\n \\nwithin\\n \\nthis\\n \\ndocument\\n \\nto\\n \\nfoster\\n \\na\\n \\nfair\\n \\nand\\n \\ntransparent\\n \\nprocess\\n \\nfor\\n \\nall\\n \\nparties\\n \\ninvolved.\\n \\nAt  AKAIWorks  LLP ,  we  recognize  the  importance  of  balancing  work  and  personal  life  and  strive  \\nto\\n \\nprovide\\n \\na\\n \\ncomprehensive\\n \\nleave\\n \\nprogram\\n \\nthat\\n \\nmeets\\n \\nthe\\n \\nneeds\\n \\nof\\n \\nour\\n \\nworkforce.\\n \\nWhether\\n \\nan\\n \\nemployee\\n \\nis\\n \\ntaking\\n \\ntime\\n \\noff', 'metadata': {'file_path': '/app/data/.cache/langflow/354908a6-5fe4-4fc8-ac41-3576737bdbb9/06b3e7ca-2178-4d28-9a49-e947fd8699b3.pdf'}, '$similarity': 0.8660029}\n",
      "[0.8642] {'_id': '243aed2fd8b949d1bdd1c3c68dc3fa84', 'page_content': '1.  Rehiring  of  Former  Employees:  ○  If  a  former  employee  is  rehired  by  AKAIWorks  LLP ,  the  treatment  of  their  \\nprevious\\n \\nleave\\n \\nbalances\\n \\nwill\\n \\nbe\\n \\ndecided\\n \\nbased\\n \\non\\n \\nthe\\n \\ncircumstances\\n \\nof\\n \\ntheir\\n \\nseparation.\\n \\nIf\\n \\nthe\\n \\nemployee\\n \\nresigned\\n \\nin\\n \\ngood\\n \\nstanding,\\n \\nunused\\n \\nleave\\n \\nmay\\n \\nbe\\n \\ncarried\\n \\nover,\\n \\nsubject\\n \\nto\\n \\nmanagement\\n \\napproval.\\n ○  If  the  employee  was  terminated  or  left  under  circumstances  where  leave  \\nencashment\\n \\nwas\\n \\nmade,\\n \\nthe\\n \\naccrued\\n \\nleave\\n \\nfrom\\n \\nthe\\n \\nprevious\\n \\nemployment\\n \\nperiod\\n \\nwill\\n \\nnot\\n \\nbe\\n \\nreinstated.\\n ○  Any  leave  accrued  during  the  period  of  reemployment  will  be  subject  to  the  \\nregular\\n \\nleave\\n \\naccrual\\n \\npolicies\\n \\nof\\n \\nthe\\n \\ncompany.\\n \\n \\n8.  Disciplinary  Actions  for  Leave  Violations  \\nAKAIWorks  LLP  recognizes  the  importance  of  maintaining  consistency  and  fairness  in  the  \\napplication\\n \\nof\\n \\nits\\n \\nleave\\n \\npolicies.\\n \\nWhile\\n \\nthe\\n \\ncompany\\n \\nvalues\\n \\nits\\n \\nemployees’', 'metadata': {'file_path': '/app/data/.cache/langflow/354908a6-5fe4-4fc8-ac41-3576737bdbb9/06b3e7ca-2178-4d28-9a49-e947fd8699b3.pdf'}, '$similarity': 0.86423117}\n",
      "[0.8589] {'_id': '59fff31dbb2649019d463753da48218b', 'page_content': 'the\\n \\nFactories\\n \\nAct,\\n \\n1948\\n,\\n \\nthe\\n \\nMaternity\\n \\nBenefit\\n \\nAct,\\n \\n1961\\n,\\n \\nand\\n \\nother\\n \\napplicable\\n \\nstate\\n \\nor\\n \\ncentral\\n \\nlaws.\\n \\nLeave\\n \\nrecords\\n \\nare\\n \\nmaintained\\n \\nto\\n \\nensure\\n \\ncompliance\\n \\nwith\\n \\nstatutory  regulations,  and  HR  will  submit  any  required  reports  to  regulatory  \\nauthorities\\n \\nas\\n \\nnecessary.\\n ○  HR  is  responsible  for  ensuring  that  all  leave  entitlements  are  accurately  \\ncalculated\\n \\nand\\n \\nreported\\n \\nin\\n \\ncompliance\\n \\nwith\\n \\nlegal\\n \\nrequirements,\\n \\nincluding\\n \\npaid\\n \\nleaves,\\n \\nsick\\n \\nleave,\\n \\nmaternity\\n \\nleave,\\n \\nand\\n \\nother\\n \\nstatutory\\n \\nleave.\\n \\n \\n12.  Conclusion  \\nAt  AKAIWorks  LLP ,  we  recognize  that  our  employees  are  our  greatest  asset,  and  we  are  \\ncommitted\\n \\nto\\n \\ncreating\\n \\na\\n \\nwork\\n \\nenvironment\\n \\nthat\\n \\npromotes\\n \\nboth\\n \\nproductivity\\n \\nand\\n \\npersonal\\n \\nwell-being.\\n \\nThe\\n \\nLeave\\n \\nPolicy\\n \\nhas\\n \\nbeen\\n \\ncarefully\\n \\ndesigned\\n \\nto\\n \\nensure\\n \\nthat\\n \\nall\\n \\nemployees\\n \\nhave\\n \\naccess\\n \\nto\\n \\nthe\\n \\nnecessary\\n \\nleave\\n \\nentitlements', 'metadata': {'file_path': '/app/data/.cache/langflow/354908a6-5fe4-4fc8-ac41-3576737bdbb9/06b3e7ca-2178-4d28-9a49-e947fd8699b3.pdf'}, '$similarity': 0.8588696}\u001b[00m\n",
      "\n",
      "\n",
      "\u001b[1m\u001b[95m# Agent:\u001b[00m \u001b[1m\u001b[92mAdvanced Reasoning AI Assistant\u001b[00m\n",
      "\u001b[95m## Final Answer:\u001b[00m \u001b[92m\n",
      "### Employee Leave Policy of AKAIWorks LLP\n",
      "\n",
      "The Employee Leave Policy of AKAIWorks LLP is designed to outline the procedures, expectations, and entitlements regarding time off from work for all employees. This policy ensures that employees have the opportunity to take necessary leave for personal, medical, or family reasons while maintaining the smooth operation of the organization. It is important that all employees understand and adhere to the guidelines within this document to foster a fair and transparent process for all parties involved.\n",
      "\n",
      "#### Key Aspects of the Leave Policy:\n",
      "\n",
      "1. **Purpose**: The policy aims to provide clear procedures, expectations, and entitlements related to time off work. It emphasizes the importance of\u001b[00m\n",
      "\n",
      "\n"
     ]
    }
   ],
   "source": [
    "result = crew.kickoff(inputs={\"user_input\": \"How many leaves can the employees take?\"})"
   ]
  },
  {
   "cell_type": "code",
   "execution_count": 84,
   "id": "26660ad6",
   "metadata": {},
   "outputs": [
    {
     "data": {
      "text/markdown": [
       "### ### Employee Leave Policy of AKAIWorks LLP\n",
       "\n",
       "The Employee Leave Policy of AKAIWorks LLP is designed to outline the procedures, expectations, and entitlements regarding time off from work for all employees. This policy ensures that employees have the opportunity to take necessary leave for personal, medical, or family reasons while maintaining the smooth operation of the organization. It is important that all employees understand and adhere to the guidelines within this document to foster a fair and transparent process for all parties involved.\n",
       "\n",
       "#### Key Aspects of the Leave Policy:\n",
       "\n",
       "1. **Purpose**: The policy aims to provide clear procedures, expectations, and entitlements related to time off work. It emphasizes the importance of"
      ],
      "text/plain": [
       "<IPython.core.display.Markdown object>"
      ]
     },
     "metadata": {},
     "output_type": "display_data"
    }
   ],
   "source": [
    "from IPython.display import Markdown, display\n",
    "display(Markdown(\"### \"+result.raw))"
   ]
  },
  {
   "cell_type": "code",
   "execution_count": 86,
   "id": "13f35e5b",
   "metadata": {},
   "outputs": [
    {
     "data": {
      "text/plain": [
       "UsageMetrics(total_tokens=78808, prompt_tokens=77460, cached_prompt_tokens=23808, completion_tokens=1348, successful_requests=16)"
      ]
     },
     "execution_count": 86,
     "metadata": {},
     "output_type": "execute_result"
    }
   ],
   "source": [
    "result.token_usage"
   ]
  },
  {
   "cell_type": "code",
   "execution_count": null,
   "id": "15e43de4",
   "metadata": {},
   "outputs": [],
   "source": []
  }
 ],
 "metadata": {
  "kernelspec": {
   "display_name": ".agent_env",
   "language": "python",
   "name": "python3"
  },
  "language_info": {
   "codemirror_mode": {
    "name": "ipython",
    "version": 3
   },
   "file_extension": ".py",
   "mimetype": "text/x-python",
   "name": "python",
   "nbconvert_exporter": "python",
   "pygments_lexer": "ipython3",
   "version": "3.11.12"
  }
 },
 "nbformat": 4,
 "nbformat_minor": 5
}
